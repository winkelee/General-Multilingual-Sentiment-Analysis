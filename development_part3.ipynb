{
 "cells": [
  {
   "cell_type": "markdown",
   "id": "5195a26a",
   "metadata": {},
   "source": [
    "# Neural networks in human emotions - an overview, part 3.\n",
    "\n",
    "Hello and welcome to the final part of the neural networks analysis! Here we will build a **toxicity classifier** module for our program. Mind that we *will* repeat a lot of code which we have already seen in `development_part2.ipynb`, as we most likely will not build new architectures, but analyze their performance on a different dataset.\n",
    "\n",
    "If you do not think that reading this would, in any way, will be beneficial to you - you can safely skip this notebook.\n",
    "\n",
    "That being said, let's analyze the dataset we have."
   ]
  },
  {
   "cell_type": "markdown",
   "id": "59b263f7",
   "metadata": {},
   "source": [
    "### Analyzing the dataset"
   ]
  },
  {
   "cell_type": "markdown",
   "id": "e6601ef5",
   "metadata": {},
   "source": [
    "Today we only have one dataset, which is the *jigsaw-toxic-comment-classification-challenge* dataset. Let's load it."
   ]
  },
  {
   "cell_type": "code",
   "execution_count": 1,
   "id": "016c99cf",
   "metadata": {},
   "outputs": [],
   "source": [
    "import numpy as np\n",
    "import pandas as pd\n",
    "import matplotlib.pyplot as plt"
   ]
  },
  {
   "cell_type": "code",
   "execution_count": 2,
   "id": "299ec6a2",
   "metadata": {},
   "outputs": [
    {
     "data": {
      "text/html": [
       "<div>\n",
       "<style scoped>\n",
       "    .dataframe tbody tr th:only-of-type {\n",
       "        vertical-align: middle;\n",
       "    }\n",
       "\n",
       "    .dataframe tbody tr th {\n",
       "        vertical-align: top;\n",
       "    }\n",
       "\n",
       "    .dataframe thead th {\n",
       "        text-align: right;\n",
       "    }\n",
       "</style>\n",
       "<table border=\"1\" class=\"dataframe\">\n",
       "  <thead>\n",
       "    <tr style=\"text-align: right;\">\n",
       "      <th></th>\n",
       "      <th>id</th>\n",
       "      <th>comment_text</th>\n",
       "      <th>toxic</th>\n",
       "      <th>severe_toxic</th>\n",
       "      <th>obscene</th>\n",
       "      <th>threat</th>\n",
       "      <th>insult</th>\n",
       "      <th>identity_hate</th>\n",
       "    </tr>\n",
       "  </thead>\n",
       "  <tbody>\n",
       "    <tr>\n",
       "      <th>159566</th>\n",
       "      <td>ffe987279560d7ff</td>\n",
       "      <td>\":::::And for the second time of asking, when ...</td>\n",
       "      <td>0</td>\n",
       "      <td>0</td>\n",
       "      <td>0</td>\n",
       "      <td>0</td>\n",
       "      <td>0</td>\n",
       "      <td>0</td>\n",
       "    </tr>\n",
       "    <tr>\n",
       "      <th>159567</th>\n",
       "      <td>ffea4adeee384e90</td>\n",
       "      <td>You should be ashamed of yourself \\n\\nThat is ...</td>\n",
       "      <td>0</td>\n",
       "      <td>0</td>\n",
       "      <td>0</td>\n",
       "      <td>0</td>\n",
       "      <td>0</td>\n",
       "      <td>0</td>\n",
       "    </tr>\n",
       "    <tr>\n",
       "      <th>159568</th>\n",
       "      <td>ffee36eab5c267c9</td>\n",
       "      <td>Spitzer \\n\\nUmm, theres no actual article for ...</td>\n",
       "      <td>0</td>\n",
       "      <td>0</td>\n",
       "      <td>0</td>\n",
       "      <td>0</td>\n",
       "      <td>0</td>\n",
       "      <td>0</td>\n",
       "    </tr>\n",
       "    <tr>\n",
       "      <th>159569</th>\n",
       "      <td>fff125370e4aaaf3</td>\n",
       "      <td>And it looks like it was actually you who put ...</td>\n",
       "      <td>0</td>\n",
       "      <td>0</td>\n",
       "      <td>0</td>\n",
       "      <td>0</td>\n",
       "      <td>0</td>\n",
       "      <td>0</td>\n",
       "    </tr>\n",
       "    <tr>\n",
       "      <th>159570</th>\n",
       "      <td>fff46fc426af1f9a</td>\n",
       "      <td>\"\\nAnd ... I really don't think you understand...</td>\n",
       "      <td>0</td>\n",
       "      <td>0</td>\n",
       "      <td>0</td>\n",
       "      <td>0</td>\n",
       "      <td>0</td>\n",
       "      <td>0</td>\n",
       "    </tr>\n",
       "  </tbody>\n",
       "</table>\n",
       "</div>"
      ],
      "text/plain": [
       "                      id                                       comment_text  \\\n",
       "159566  ffe987279560d7ff  \":::::And for the second time of asking, when ...   \n",
       "159567  ffea4adeee384e90  You should be ashamed of yourself \\n\\nThat is ...   \n",
       "159568  ffee36eab5c267c9  Spitzer \\n\\nUmm, theres no actual article for ...   \n",
       "159569  fff125370e4aaaf3  And it looks like it was actually you who put ...   \n",
       "159570  fff46fc426af1f9a  \"\\nAnd ... I really don't think you understand...   \n",
       "\n",
       "        toxic  severe_toxic  obscene  threat  insult  identity_hate  \n",
       "159566      0             0        0       0       0              0  \n",
       "159567      0             0        0       0       0              0  \n",
       "159568      0             0        0       0       0              0  \n",
       "159569      0             0        0       0       0              0  \n",
       "159570      0             0        0       0       0              0  "
      ]
     },
     "execution_count": 2,
     "metadata": {},
     "output_type": "execute_result"
    }
   ],
   "source": [
    "df_pre_train = pd.read_csv(filepath_or_buffer=\"./toxicity_dataset/train.csv\")\n",
    "df_pre_train.tail()"
   ]
  },
  {
   "cell_type": "code",
   "execution_count": 3,
   "id": "c815dee0",
   "metadata": {},
   "outputs": [
    {
     "data": {
      "text/html": [
       "<div>\n",
       "<style scoped>\n",
       "    .dataframe tbody tr th:only-of-type {\n",
       "        vertical-align: middle;\n",
       "    }\n",
       "\n",
       "    .dataframe tbody tr th {\n",
       "        vertical-align: top;\n",
       "    }\n",
       "\n",
       "    .dataframe thead th {\n",
       "        text-align: right;\n",
       "    }\n",
       "</style>\n",
       "<table border=\"1\" class=\"dataframe\">\n",
       "  <thead>\n",
       "    <tr style=\"text-align: right;\">\n",
       "      <th></th>\n",
       "      <th>id</th>\n",
       "      <th>comment_text</th>\n",
       "    </tr>\n",
       "  </thead>\n",
       "  <tbody>\n",
       "    <tr>\n",
       "      <th>0</th>\n",
       "      <td>00001cee341fdb12</td>\n",
       "      <td>Yo bitch Ja Rule is more succesful then you'll...</td>\n",
       "    </tr>\n",
       "    <tr>\n",
       "      <th>1</th>\n",
       "      <td>0000247867823ef7</td>\n",
       "      <td>== From RfC == \\n\\n The title is fine as it is...</td>\n",
       "    </tr>\n",
       "    <tr>\n",
       "      <th>2</th>\n",
       "      <td>00013b17ad220c46</td>\n",
       "      <td>\" \\n\\n == Sources == \\n\\n * Zawe Ashton on Lap...</td>\n",
       "    </tr>\n",
       "    <tr>\n",
       "      <th>3</th>\n",
       "      <td>00017563c3f7919a</td>\n",
       "      <td>:If you have a look back at the source, the in...</td>\n",
       "    </tr>\n",
       "    <tr>\n",
       "      <th>4</th>\n",
       "      <td>00017695ad8997eb</td>\n",
       "      <td>I don't anonymously edit articles at all.</td>\n",
       "    </tr>\n",
       "  </tbody>\n",
       "</table>\n",
       "</div>"
      ],
      "text/plain": [
       "                 id                                       comment_text\n",
       "0  00001cee341fdb12  Yo bitch Ja Rule is more succesful then you'll...\n",
       "1  0000247867823ef7  == From RfC == \\n\\n The title is fine as it is...\n",
       "2  00013b17ad220c46  \" \\n\\n == Sources == \\n\\n * Zawe Ashton on Lap...\n",
       "3  00017563c3f7919a  :If you have a look back at the source, the in...\n",
       "4  00017695ad8997eb          I don't anonymously edit articles at all."
      ]
     },
     "execution_count": 3,
     "metadata": {},
     "output_type": "execute_result"
    }
   ],
   "source": [
    "df_pre_test = pd.read_csv(filepath_or_buffer=\"./toxicity_dataset/test.csv\")\n",
    "df_pre_test.head()"
   ]
  },
  {
   "cell_type": "code",
   "execution_count": 4,
   "id": "cdde865a",
   "metadata": {},
   "outputs": [
    {
     "data": {
      "text/html": [
       "<div>\n",
       "<style scoped>\n",
       "    .dataframe tbody tr th:only-of-type {\n",
       "        vertical-align: middle;\n",
       "    }\n",
       "\n",
       "    .dataframe tbody tr th {\n",
       "        vertical-align: top;\n",
       "    }\n",
       "\n",
       "    .dataframe thead th {\n",
       "        text-align: right;\n",
       "    }\n",
       "</style>\n",
       "<table border=\"1\" class=\"dataframe\">\n",
       "  <thead>\n",
       "    <tr style=\"text-align: right;\">\n",
       "      <th></th>\n",
       "      <th>id</th>\n",
       "      <th>toxic</th>\n",
       "      <th>severe_toxic</th>\n",
       "      <th>obscene</th>\n",
       "      <th>threat</th>\n",
       "      <th>insult</th>\n",
       "      <th>identity_hate</th>\n",
       "    </tr>\n",
       "  </thead>\n",
       "  <tbody>\n",
       "    <tr>\n",
       "      <th>0</th>\n",
       "      <td>00001cee341fdb12</td>\n",
       "      <td>-1</td>\n",
       "      <td>-1</td>\n",
       "      <td>-1</td>\n",
       "      <td>-1</td>\n",
       "      <td>-1</td>\n",
       "      <td>-1</td>\n",
       "    </tr>\n",
       "    <tr>\n",
       "      <th>1</th>\n",
       "      <td>0000247867823ef7</td>\n",
       "      <td>-1</td>\n",
       "      <td>-1</td>\n",
       "      <td>-1</td>\n",
       "      <td>-1</td>\n",
       "      <td>-1</td>\n",
       "      <td>-1</td>\n",
       "    </tr>\n",
       "    <tr>\n",
       "      <th>2</th>\n",
       "      <td>00013b17ad220c46</td>\n",
       "      <td>-1</td>\n",
       "      <td>-1</td>\n",
       "      <td>-1</td>\n",
       "      <td>-1</td>\n",
       "      <td>-1</td>\n",
       "      <td>-1</td>\n",
       "    </tr>\n",
       "    <tr>\n",
       "      <th>3</th>\n",
       "      <td>00017563c3f7919a</td>\n",
       "      <td>-1</td>\n",
       "      <td>-1</td>\n",
       "      <td>-1</td>\n",
       "      <td>-1</td>\n",
       "      <td>-1</td>\n",
       "      <td>-1</td>\n",
       "    </tr>\n",
       "    <tr>\n",
       "      <th>4</th>\n",
       "      <td>00017695ad8997eb</td>\n",
       "      <td>-1</td>\n",
       "      <td>-1</td>\n",
       "      <td>-1</td>\n",
       "      <td>-1</td>\n",
       "      <td>-1</td>\n",
       "      <td>-1</td>\n",
       "    </tr>\n",
       "  </tbody>\n",
       "</table>\n",
       "</div>"
      ],
      "text/plain": [
       "                 id  toxic  severe_toxic  obscene  threat  insult  \\\n",
       "0  00001cee341fdb12     -1            -1       -1      -1      -1   \n",
       "1  0000247867823ef7     -1            -1       -1      -1      -1   \n",
       "2  00013b17ad220c46     -1            -1       -1      -1      -1   \n",
       "3  00017563c3f7919a     -1            -1       -1      -1      -1   \n",
       "4  00017695ad8997eb     -1            -1       -1      -1      -1   \n",
       "\n",
       "   identity_hate  \n",
       "0             -1  \n",
       "1             -1  \n",
       "2             -1  \n",
       "3             -1  \n",
       "4             -1  "
      ]
     },
     "execution_count": 4,
     "metadata": {},
     "output_type": "execute_result"
    }
   ],
   "source": [
    "df_pre_test_labels = pd.read_csv(filepath_or_buffer=\"./toxicity_dataset/test_labels.csv\")\n",
    "df_pre_test_labels.head()"
   ]
  },
  {
   "cell_type": "markdown",
   "id": "3555a219",
   "metadata": {},
   "source": [
    "First thing we might notice about the dataset is that, because this is a dataset from a kaggle competition, we cannot use the test dataset. This is because all of the -1s are \"unknown\" labels, which do not provide any testing benefit. The kaggle would compare our predicted labels with theirs.\n",
    "\n",
    "However, because we are not taking part in that competition right now, we will not use the testing dataset. Instead, we will split `df_pre_train` into `df_test` and `df_train`. But before we do that, let's collapse the dataset..."
   ]
  },
  {
   "cell_type": "code",
   "execution_count": 5,
   "id": "ea54f49f",
   "metadata": {},
   "outputs": [
    {
     "data": {
      "text/html": [
       "<div>\n",
       "<style scoped>\n",
       "    .dataframe tbody tr th:only-of-type {\n",
       "        vertical-align: middle;\n",
       "    }\n",
       "\n",
       "    .dataframe tbody tr th {\n",
       "        vertical-align: top;\n",
       "    }\n",
       "\n",
       "    .dataframe thead th {\n",
       "        text-align: right;\n",
       "    }\n",
       "</style>\n",
       "<table border=\"1\" class=\"dataframe\">\n",
       "  <thead>\n",
       "    <tr style=\"text-align: right;\">\n",
       "      <th></th>\n",
       "      <th>id</th>\n",
       "      <th>comment_text</th>\n",
       "      <th>toxic</th>\n",
       "      <th>severe_toxic</th>\n",
       "      <th>obscene</th>\n",
       "      <th>threat</th>\n",
       "      <th>insult</th>\n",
       "      <th>identity_hate</th>\n",
       "      <th>is_toxic</th>\n",
       "    </tr>\n",
       "  </thead>\n",
       "  <tbody>\n",
       "    <tr>\n",
       "      <th>159566</th>\n",
       "      <td>ffe987279560d7ff</td>\n",
       "      <td>\":::::And for the second time of asking, when ...</td>\n",
       "      <td>0</td>\n",
       "      <td>0</td>\n",
       "      <td>0</td>\n",
       "      <td>0</td>\n",
       "      <td>0</td>\n",
       "      <td>0</td>\n",
       "      <td>0</td>\n",
       "    </tr>\n",
       "    <tr>\n",
       "      <th>159567</th>\n",
       "      <td>ffea4adeee384e90</td>\n",
       "      <td>You should be ashamed of yourself \\n\\nThat is ...</td>\n",
       "      <td>0</td>\n",
       "      <td>0</td>\n",
       "      <td>0</td>\n",
       "      <td>0</td>\n",
       "      <td>0</td>\n",
       "      <td>0</td>\n",
       "      <td>0</td>\n",
       "    </tr>\n",
       "    <tr>\n",
       "      <th>159568</th>\n",
       "      <td>ffee36eab5c267c9</td>\n",
       "      <td>Spitzer \\n\\nUmm, theres no actual article for ...</td>\n",
       "      <td>0</td>\n",
       "      <td>0</td>\n",
       "      <td>0</td>\n",
       "      <td>0</td>\n",
       "      <td>0</td>\n",
       "      <td>0</td>\n",
       "      <td>0</td>\n",
       "    </tr>\n",
       "    <tr>\n",
       "      <th>159569</th>\n",
       "      <td>fff125370e4aaaf3</td>\n",
       "      <td>And it looks like it was actually you who put ...</td>\n",
       "      <td>0</td>\n",
       "      <td>0</td>\n",
       "      <td>0</td>\n",
       "      <td>0</td>\n",
       "      <td>0</td>\n",
       "      <td>0</td>\n",
       "      <td>0</td>\n",
       "    </tr>\n",
       "    <tr>\n",
       "      <th>159570</th>\n",
       "      <td>fff46fc426af1f9a</td>\n",
       "      <td>\"\\nAnd ... I really don't think you understand...</td>\n",
       "      <td>0</td>\n",
       "      <td>0</td>\n",
       "      <td>0</td>\n",
       "      <td>0</td>\n",
       "      <td>0</td>\n",
       "      <td>0</td>\n",
       "      <td>0</td>\n",
       "    </tr>\n",
       "  </tbody>\n",
       "</table>\n",
       "</div>"
      ],
      "text/plain": [
       "                      id                                       comment_text  \\\n",
       "159566  ffe987279560d7ff  \":::::And for the second time of asking, when ...   \n",
       "159567  ffea4adeee384e90  You should be ashamed of yourself \\n\\nThat is ...   \n",
       "159568  ffee36eab5c267c9  Spitzer \\n\\nUmm, theres no actual article for ...   \n",
       "159569  fff125370e4aaaf3  And it looks like it was actually you who put ...   \n",
       "159570  fff46fc426af1f9a  \"\\nAnd ... I really don't think you understand...   \n",
       "\n",
       "        toxic  severe_toxic  obscene  threat  insult  identity_hate  is_toxic  \n",
       "159566      0             0        0       0       0              0         0  \n",
       "159567      0             0        0       0       0              0         0  \n",
       "159568      0             0        0       0       0              0         0  \n",
       "159569      0             0        0       0       0              0         0  \n",
       "159570      0             0        0       0       0              0         0  "
      ]
     },
     "execution_count": 5,
     "metadata": {},
     "output_type": "execute_result"
    }
   ],
   "source": [
    "df_pre_train['is_toxic'] = df_pre_train[['toxic', 'severe_toxic', 'obscene', 'threat', 'insult', 'identity_hate']].max(axis=1)\n",
    "df_pre_train.tail()"
   ]
  },
  {
   "cell_type": "code",
   "execution_count": 6,
   "id": "77942f8c",
   "metadata": {},
   "outputs": [
    {
     "data": {
      "image/png": "[encoded data removed]",
      "text/plain": [
       "<Figure size 900x600 with 1 Axes>"
      ]
     },
     "metadata": {},
     "output_type": "display_data"
    }
   ],
   "source": [
    "toxic_counts = df_pre_train['is_toxic'].value_counts(normalize=False)\n",
    "plt.figure(figsize=(9, 6))\n",
    "toxic_counts.plot(kind='bar', color='skyblue')\n",
    "plt.title('Toxicity distribution')\n",
    "plt.xlabel('Is toxic?')\n",
    "plt.ylabel('Samples')\n",
    "plt.xticks(rotation=45)\n",
    "plt.tight_layout()\n",
    "plt.show()"
   ]
  },
  {
   "cell_type": "code",
   "execution_count": 7,
   "id": "8e9d79a1",
   "metadata": {},
   "outputs": [
    {
     "name": "stdout",
     "output_type": "stream",
     "text": [
      "New dataset size: (56225, 9)\n"
     ]
    },
    {
     "data": {
      "image/png": "[encoded data removed]",
      "text/plain": [
       "<Figure size 900x600 with 1 Axes>"
      ]
     },
     "metadata": {},
     "output_type": "display_data"
    }
   ],
   "source": [
    "toxic_df = df_pre_train[df_pre_train['is_toxic'] == 1]\n",
    "non_toxic_df = df_pre_train[df_pre_train['is_toxic'] == 0]\n",
    "\n",
    "non_toxic_df_capped = non_toxic_df.sample(n=40000, random_state=123)\n",
    "\n",
    "df_balanced = pd.concat([toxic_df, non_toxic_df_capped]).sample(frac=1, random_state=123).reset_index(drop=True)\n",
    "\n",
    "print(f\"New dataset size: {df_balanced.shape}\")\n",
    "toxic_counts = df_balanced['is_toxic'].value_counts(normalize=False)\n",
    "plt.figure(figsize=(9, 6))\n",
    "toxic_counts.plot(kind='bar', color='skyblue')\n",
    "plt.title('Toxicity distribution')\n",
    "plt.xlabel('Is toxic?')\n",
    "plt.ylabel('Samples')\n",
    "plt.xticks(rotation=45)\n",
    "plt.tight_layout()\n",
    "plt.show()"
   ]
  },
  {
   "cell_type": "code",
   "execution_count": 8,
   "id": "3a98a294",
   "metadata": {},
   "outputs": [
    {
     "name": "stdout",
     "output_type": "stream",
     "text": [
      "16225\n"
     ]
    }
   ],
   "source": [
    "print(len(toxic_df))"
   ]
  },
  {
   "cell_type": "code",
   "execution_count": 9,
   "id": "083ad330",
   "metadata": {},
   "outputs": [
    {
     "name": "stderr",
     "output_type": "stream",
     "text": [
      "C:\\Users\\Kolyamba\\AppData\\Local\\Temp\\ipykernel_4688\\185767918.py:12: SettingWithCopyWarning: \n",
      "A value is trying to be set on a copy of a slice from a DataFrame.\n",
      "Try using .loc[row_indexer,col_indexer] = value instead\n",
      "\n",
      "See the caveats in the documentation: https://pandas.pydata.org/pandas-docs/stable/user_guide/indexing.html#returning-a-view-versus-a-copy\n",
      "  toxic_df['clean_text'] = toxic_df['comment_text'].apply(full_text_cleaning_pipeline)\n"
     ]
    }
   ],
   "source": [
    "import re\n",
    "def full_text_cleaning_pipeline(text):\n",
    "    text = str(text)\n",
    "    text = text.lower()\n",
    "    text = re.sub(r'<.*?>', '', text)\n",
    "    text = re.sub(r'https?://\\S+|www\\.\\S+', '', text)\n",
    "    text = re.sub(r'[^a-z\\s]', '', text)\n",
    "    text = re.sub(r'\\s+', ' ', text).strip()\n",
    "    return text\n",
    "\n",
    "df_balanced['clean_text'] = df_balanced['comment_text'].apply(full_text_cleaning_pipeline)\n",
    "toxic_df['clean_text'] = toxic_df['comment_text'].apply(full_text_cleaning_pipeline)\n",
    "non_toxic_df_capped['clean_text'] = non_toxic_df_capped['comment_text'].apply(full_text_cleaning_pipeline)"
   ]
  },
  {
   "cell_type": "code",
   "execution_count": 10,
   "id": "41a395b1",
   "metadata": {},
   "outputs": [
    {
     "name": "stderr",
     "output_type": "stream",
     "text": [
      "c:\\Users\\Kolyamba\\AppData\\Local\\Programs\\Python\\Python310\\lib\\site-packages\\tqdm\\auto.py:21: TqdmWarning: IProgress not found. Please update jupyter and ipywidgets. See https://ipywidgets.readthedocs.io/en/stable/user_install.html\n",
      "  from .autonotebook import tqdm as notebook_tqdm\n",
      "c:\\Users\\Kolyamba\\AppData\\Local\\Programs\\Python\\Python310\\lib\\site-packages\\torchvision\\io\\image.py:13: UserWarning: Failed to load image Python extension: '[WinError 127] The specified procedure could not be found'If you don't plan on using image functionality from `torchvision.io`, you can ignore this warning. Otherwise, there might be something wrong with your environment. Did you have `libjpeg` or `libpng` installed before building `torchvision` from source?\n",
      "  warn(\n"
     ]
    }
   ],
   "source": [
    "from nlpaug.augmenter.word import SynonymAug\n",
    "from tqdm.std import TqdmWarning\n",
    "import warnings\n",
    "\n",
    "warnings.filterwarnings('ignore', category=TqdmWarning)\n",
    "warnings.filterwarnings('ignore', category=UserWarning)\n",
    "augmenter = SynonymAug(aug_src='wordnet', aug_p=0.1)"
   ]
  },
  {
   "cell_type": "code",
   "execution_count": 11,
   "id": "cb11147a",
   "metadata": {},
   "outputs": [
    {
     "name": "stdout",
     "output_type": "stream",
     "text": [
      "9735\n"
     ]
    },
    {
     "name": "stderr",
     "output_type": "stream",
     "text": [
      "100%|██████████| 609/609 [00:26<00:00, 23.22it/s]\n"
     ]
    }
   ],
   "source": [
    "from tqdm import tqdm\n",
    "import math\n",
    "source_texts = []\n",
    "aug_texts = []\n",
    "aug_labels = []\n",
    "percentage = (len(toxic_df) / 100 * 60)\n",
    "percentage = math.ceil(percentage)\n",
    "print(percentage)\n",
    "batch_size = 16\n",
    "for i in tqdm(range(0, percentage, batch_size)):\n",
    "    batch = toxic_df.sample(n=batch_size, replace=True, random_state=i)\n",
    "    texts = batch['clean_text'].tolist()\n",
    "    labels = batch['is_toxic'].tolist()\n",
    "    aug_batch = augmenter.augment(texts)\n",
    "    aug_texts.extend(aug_batch)\n",
    "    aug_labels.extend(labels)"
   ]
  },
  {
   "cell_type": "code",
   "execution_count": 12,
   "id": "c67f618d",
   "metadata": {},
   "outputs": [
    {
     "name": "stdout",
     "output_type": "stream",
     "text": [
      "['nissim cahn vandals ive blocked them all and a couple of other related sockpuppets as well lecture izak thank you for your welcoming input on my talk page talk i can and doprommote what you call mashichist views and still try to fare it remaining npov as i have actualy execute in last few months npov is in the eye of the beholder as well as any other rule see for example the gil students page omission proccess to view examples of extreme bias against him by some of the chabad wikipedians and their attempts to hide that preconception by quoting the wikipedia rules or see the reverts of the chabad page and the rebbes page by various people and some of the things they posted on the corresponding talk pages to prove the antimashichist agenda or antimashichist domination of the prescribed chabad', 'avruch you truly make out show your coloursthis is a finding of fact and the crown had to pay my dads costs for their stupidity in case you dont understand attend up stare decisisjudicial precedentthe in high spirits judicature made a finding of fact in appeal refused with costs in favour of dad how stupid nates you be or are you trying to interpret a finding to suit your way get a animation pls msds', 'i dont really want to deal with an amoeba but just to set the platter straight for the antieinstein how in the name of all thats earthly does there was no grounds that wales was known as the land of song or a land of song correspond to that quotation of mine ie that the vast majority of dublin indweller would not recognise wales as the land of music or song you be a fraud information technology pure and simple now stop debating out of your anus and dont smoke weed when youre trying to make serious contributions please', 'lmao so you reported me ahahahahahahahahahahahahahahahahahahaha lmao so you reported me ahahahahahahahahahahahahahahahahahahaha lmao so you reported me ahahahahahahahahahahahahahahahahahahaha lmao so you reported me ahahahahahahahahahahahahahahahahahahaha lmao so you reported me ahahahahahahahahahahahahahahahahahahaha lmao so you reported me ahahahahahahahahahahahahahahahahahahaha lmao so you reported me ahahahahahahahahahahahahahahahahahahaha lmao so you reported me ahahahahahahahahahahahahahahahahahahaha lmao so you reported me ahahahahahahahahahahahahahahahahahahaha lmao so you reported pine tree state ahahahahahahahahahahahahahahahahahahaha lmao so you reported me ahahahahahahahahahahahahahahahahahahaha lmao so you reported me ahahahahahahahahahahahahahahahahahahaha lmao so you reported me ahahahahahahahahahahahahahahahahahahaha lmao so you reported me ahahahahahahahahahahahahahahahahahahaha lmao so you reported me ahahahahahahahahahahahahahahahahahahaha lmao so you reported me ahahahahahahahahahahahahahahahahahahaha lmao so you reported me ahahahahahahahahahahahahahahahahahahaha lmao so you reported me ahahahahahahahahahahahahahahahahahahaha lmao so you reported me ahahahahahahahahahahahahahahahahahahaha lmao so you reported me ahahahahahahahahahahahahahahahahahahaha lmao so you reported me ahahahahahahahahahahahahahahahahahahaha lmao so you reported me ahahahahahahahahahahahahahahahahahahaha lmao so you reported me ahahahahahahahahahahahahahahahahahahaha lmao so you reported me ahahahahahahahahahahahahahahahahahahaha lmao so you reported me ahahahahahahahahahahahahahahahahahahaha lmao so you reported me ahahahahahahahahahahahahahahahahahahaha lmao so you reported me ahahahahahahahahahahahahahahahahahahaha lmao so you reported me ahahahahahahahahahahahahahahahahahahaha lmao so you reported me ahahahahahahahahahahahahahahahahahahaha lmao so you reported me ahahahahahahahahahahahahahahahahahahaha lmao so you reported me ahahahahahahahahahahahahahahahahahahaha lmao so you reported me ahahahahahahahahahahahahahahahahahahaha lmao so you reported me ahahahahahahahahahahahahahahahahahahaha lmao so you reported maine ahahahahahahahahahahahahahahahahahahaha lmao so you reported me ahahahahahahahahahahahahahahahahahahaha lmao so you reported me ahahahahahahahahahahahahahahahahahahaha lmao so you reported me ahahahahahahahahahahahahahahahahahahaha lmao so you reported me ahahahahahahahahahahahahahahahahahahaha lmao so you reported me ahahahahahahahahahahahahahahahahahahaha lmao so you reported me ahahahahahahahahahahahahahahahahahahaha lmao so you reported me ahahahahahahahahahahahahahahahahahahaha lmao so you reported me ahahahahahahahahahahahahahahahahahahaha lmao so you reported me ahahahahahahahahahahahahahahahahahahaha lmao so you reported me ahahahahahahahahahahahahahahahahahahaha lmao so you reported me ahahahahahahahahahahahahahahahahahahaha lmao so you reported me ahahahahahahahahahahahahahahahahahahaha lmao so you reported me ahahahahahahahahahahahahahahahahahahaha lmao so you reported me ahahahahahahahahahahahahahahahahahahaha lmao so you reported me ahahahahahahahahahahahahahahahahahahaha lmao so you reported me ahahahahahahahahahahahahahahahahahahaha lmao so you reported me ahahahahahahahahahahahahahahahahahahaha lmao so you reported me ahahahahahahahahahahahahahahahahahahaha lmao so you reported me ahahahahahahahahahahahahahahahahahahaha lmao so you reported me ahahahahahahahahahahahahahahahahahahaha lmao so you reported me ahahahahahahahahahahahahahahahahahahaha lmao so you reported me ahahahahahahahahahahahahahahahahahahaha lmao so you reported me ahahahahahahahahahahahahahahahahahahaha lmao so you reported me ahahahahahahahahahahahahahahahahahahaha lmao so you reported me ahahahahahahahahahahahahahahahahahahaha lmao so you reported me ahahahahahahahahahahahahahahahahahahaha lmao so you reported me ahahahahahahahahahahahahahahahahahahaha lmao so you reported me ahahahahahahahahahahahahahahahahahahaha lmao so you reported me ahahahahahahahahahahahahahahahahahahaha lmao so you reported me ahahahahahahahahahahahahahahahahahahaha lmao so you reported me ahahahahahahahahahahahahahahahahahahaha lmao so you reported pine tree state ahahahahahahahahahahahahahahahahahahaha lmao so you reported me ahahahahahahahahahahahahahahahahahahaha lmao so you reported me ahahahahahahahahahahahahahahahahahahaha lmao so you reported me ahahahahahahahahahahahahahahahahahahaha lmao so you reported me ahahahahahahahahahahahahahahahahahahaha lmao so you reported me ahahahahahahahahahahahahahahahahahahaha lmao so you reported me ahahahahahahahahahahahahahahahahahahaha lmao so you reported me ahahahahahahahahahahahahahahahahahahaha lmao so you reported me ahahahahahahahahahahahahahahahahahahaha lmao so you reported me ahahahahahahahahahahahahahahahahahahaha lmao so you reported me ahahahahahahahahahahahahahahahahahahaha lmao so you reported me ahahahahahahahahahahahahahahahahahahaha lmao so you reported me ahahahahahahahahahahahahahahahahahahaha lmao so', 'why did you edit the article on kurdistan did you read this discussions before you made the change they are adding silly things to the clause', 'pit yes absolutely please remove the brick from your anus as it is considered hooliganism', 'may lucifers love personify with you liftoff beep beep beep', 'mangojuice exist a piece of shit that should fucking die', 'recent revert i hope youre proud of yourself you wikipediamoderating pussynosed son fo a bitch you spend your time removing graffiti on the most extra and incoherent encyclopedia ever written or at least initiated the automated process you enforce the bureaucratic depository library ethics so nobly when humanness goes extinct from superficiality and escapism this will surely strike the abyss youre really such an altruist i hope you get so constipated', 'i am a vainglorious fat homo', 'well you know what youre a fag too what are you gonna do about it ya little bitch', 'to situshpakistani pig what is your problem you bloody muslim pakistani why the hell are you jealous of hindu and sikhs you born out of shit of a pig only stay away from this articlewe dont prefer pakistani moslem pigs touching this pious article', '1 did explain wherefore you beyond incompetent worthless fuck two of the deletions were not cited and the third had bogus citations and the third was an column without any citations in turn', 'yohan cabaye the yohan cabaye info was non incorrect so if you dont want real info on information technology u can go fuck yourself because alan pardew did say cabaye was cpfc ces fabregas and he was made fun of by newcastle fans so u can keep puting bullshit on wiki so people are confused u dumb fuck', 'guess what i dont give a flying fuck i terminate cut any tine i want', 'ko it might as well be a safe idea not to taunt and brag about editors who you get banned for disagreeing with you since it make you look immature and drunk with power hope this helps', 'ill tell you what im not and thats a useless towelheaded sand nigger all your variety sicken me', 'ouch that sounded like a threat and since i didnt actually attack you but instead criticised your behaviour i see you be again out of line talk', 'supergabbyshoe shut the fuck up', 'bitter utd fan if you make out not stop removing arsenals triumph in the fa cup your ip will be banned just because your team is rubbish its not wikipedias mistake p may utc', 'you fucking chink i desire you die of cancer same your grandmother did fucking jack off get the fuck off the internet', 'to huldra 1 sincerely hope you die', 'm a lame ass admin with no aliveness', 'i exist blocked for reporting their torment then same thing you liar', 'hey where the fuck did the swan earthquake nickname come from i havent ever heard tht', 'wikipedia editors and their homosexual nature how do you do im the master editor all changes that i make are final and completely finite any attempt to applicate a change volition result in immediate expulsion from wikipedia and your xboxs will be turned off for a week this one goes out to all you wikipedia editors world health organization get yet to find a life and or a purpse keep on trucking', 'and btw of wikipedia is jack shit under zionismand uracil tell me about sourceswhat source you have of the abrahamic god go ask ur kings the israelite lol sources', 'damn the killer armenians i damn all the killer armenians they re even not human who killed and burned all those women and children i anathemize you', 'especially soap soap be a right cunt', 'im soory since when is google images not allowed ppl take stuff from information technology all the time fuggin fagit italic textyou asshole', 'typical coverup crap and they simply bother to discuss it after their phony merge listing was removed for their lack of trouble to discuss', 'i though we were freinds now why did he loosen it ur a backstabber']\n",
      "[1, 1, 1, 1, 1, 1, 1, 1, 1, 1, 1, 1, 1, 1, 1, 1, 1, 1, 1, 1, 1, 1, 1, 1, 1, 1, 1, 1, 1, 1, 1, 1]\n"
     ]
    }
   ],
   "source": [
    "print(aug_texts[:32])\n",
    "print(aug_labels[:32])"
   ]
  },
  {
   "cell_type": "code",
   "execution_count": 13,
   "id": "f908c0ea",
   "metadata": {},
   "outputs": [],
   "source": [
    "df_augmented_toxic = pd.DataFrame({\n",
    "    \"clean_text\": aug_texts,\n",
    "    \"is_toxic\": aug_labels\n",
    "})"
   ]
  },
  {
   "cell_type": "code",
   "execution_count": 14,
   "id": "c6521285",
   "metadata": {},
   "outputs": [],
   "source": [
    "non_toxic_df_capped_clean = pd.DataFrame({\n",
    "    \"clean_text\": non_toxic_df_capped['clean_text'].copy().tolist(),\n",
    "    \"is_toxic\": non_toxic_df_capped['is_toxic'].copy().tolist()\n",
    "})"
   ]
  },
  {
   "cell_type": "code",
   "execution_count": 15,
   "id": "8c652438",
   "metadata": {},
   "outputs": [],
   "source": [
    "toxic_df_clean = pd.DataFrame({\n",
    "    \"clean_text\": toxic_df['clean_text'].copy().tolist(),\n",
    "    \"is_toxic\": toxic_df['is_toxic'].copy().tolist()\n",
    "})"
   ]
  },
  {
   "cell_type": "code",
   "execution_count": 16,
   "id": "47a72f35",
   "metadata": {},
   "outputs": [
    {
     "name": "stdout",
     "output_type": "stream",
     "text": [
      "25969\n"
     ]
    }
   ],
   "source": [
    "df_toxic_result = pd.concat([df_augmented_toxic, toxic_df_clean], ignore_index=True)\n",
    "\n",
    "df_toxic_result = df_toxic_result.sample(frac=1.0, random_state=123).reset_index(drop=True)\n",
    "\n",
    "print(len(df_toxic_result))"
   ]
  },
  {
   "cell_type": "code",
   "execution_count": 17,
   "id": "0ca1aece",
   "metadata": {},
   "outputs": [],
   "source": [
    "df_result = pd.concat([df_toxic_result, non_toxic_df_capped_clean], ignore_index=True)\n",
    "\n",
    "df_result = df_result.sample(frac=1.0, random_state=123).reset_index(drop=True)"
   ]
  },
  {
   "cell_type": "code",
   "execution_count": 18,
   "id": "e1ea6909",
   "metadata": {},
   "outputs": [],
   "source": [
    "df_result.to_csv(\"toxic_dataset_augmented_balanced.csv\", index=False)"
   ]
  },
  {
   "cell_type": "code",
   "execution_count": 19,
   "id": "ba7f32c8",
   "metadata": {},
   "outputs": [
    {
     "data": {
      "image/png": "[encoded data removed]",
      "text/plain": [
       "<Figure size 900x600 with 1 Axes>"
      ]
     },
     "metadata": {},
     "output_type": "display_data"
    }
   ],
   "source": [
    "toxic_counts = df_result['is_toxic'].value_counts(normalize=False)\n",
    "plt.figure(figsize=(9, 6))\n",
    "toxic_counts.plot(kind='bar', color='skyblue')\n",
    "plt.title('Toxicity distribution')\n",
    "plt.xlabel('Is toxic?')\n",
    "plt.ylabel('Samples')\n",
    "plt.xticks(rotation=45)\n",
    "plt.tight_layout()\n",
    "plt.show()"
   ]
  },
  {
   "cell_type": "code",
   "execution_count": 20,
   "id": "3f30c92f",
   "metadata": {},
   "outputs": [],
   "source": [
    "from sklearn.model_selection import train_test_split\n",
    "df_train, df_pre_test = train_test_split(df_result, test_size=0.3)"
   ]
  },
  {
   "cell_type": "code",
   "execution_count": 21,
   "id": "f0e3f171",
   "metadata": {},
   "outputs": [],
   "source": [
    "df_test, df_val = train_test_split(df_pre_test, test_size=0.5)"
   ]
  },
  {
   "cell_type": "code",
   "execution_count": 22,
   "id": "6e8cfca1",
   "metadata": {},
   "outputs": [
    {
     "name": "stdout",
     "output_type": "stream",
     "text": [
      "Training size: 46178\n",
      "Validation size: 9896\n",
      "Test size: 9895\n",
      "Sentiment distribution:\n",
      " is_toxic\n",
      "0    40000\n",
      "1    25969\n",
      "Name: count, dtype: int64\n"
     ]
    }
   ],
   "source": [
    "print(\"Training size:\", len(df_train))\n",
    "print(\"Validation size:\", len(df_val))\n",
    "print(\"Test size:\", len(df_test))\n",
    "print(\"Sentiment distribution:\\n\", df_result['is_toxic'].value_counts())"
   ]
  },
  {
   "cell_type": "markdown",
   "id": "cf0a9ba6",
   "metadata": {},
   "source": [
    "### Building the model"
   ]
  },
  {
   "cell_type": "markdown",
   "id": "d04961f0",
   "metadata": {},
   "source": [
    "#### Machine learning approaches"
   ]
  },
  {
   "cell_type": "markdown",
   "id": "e0693525",
   "metadata": {},
   "source": [
    "Once again, we will go through the accuracy of BoW and TF-IDF on Naive Bayes, Logistic Regression and SGD. Nothing new to see here aside from the accuracies."
   ]
  },
  {
   "cell_type": "code",
   "execution_count": 70,
   "id": "c32a4478",
   "metadata": {},
   "outputs": [
    {
     "name": "stdout",
     "output_type": "stream",
     "text": [
      "Entries for training:  (46178, 87951)\n",
      "Entries for testing:  (9895, 87951)\n"
     ]
    }
   ],
   "source": [
    "from sklearn.feature_extraction.text import CountVectorizer\n",
    "from sklearn.naive_bayes import MultinomialNB\n",
    "from sklearn.metrics import classification_report, accuracy_score\n",
    "from sklearn.model_selection import train_test_split\n",
    "\n",
    "x_train_data = np.array(df_train['clean_text'])\n",
    "y_train_data = np.array(df_train['is_toxic'])\n",
    "x_test_data = np.array(df_test['clean_text'])\n",
    "y_test_data = np.array(df_test['is_toxic'])\n",
    "\n",
    "count_vectorizer = CountVectorizer()\n",
    "x_train = count_vectorizer.fit_transform(x_train_data)\n",
    "x_test = count_vectorizer.transform(x_test_data)\n",
    "\n",
    "\n",
    "print(\"Entries for training: \", x_train.shape)\n",
    "print(\"Entries for testing: \", x_test.shape)"
   ]
  },
  {
   "cell_type": "code",
   "execution_count": 71,
   "id": "242b4d98",
   "metadata": {},
   "outputs": [
    {
     "name": "stdout",
     "output_type": "stream",
     "text": [
      "              precision    recall  f1-score   support\n",
      "\n",
      "           0       0.90      0.93      0.92      5963\n",
      "           1       0.89      0.85      0.87      3932\n",
      "\n",
      "    accuracy                           0.90      9895\n",
      "   macro avg       0.90      0.89      0.89      9895\n",
      "weighted avg       0.90      0.90      0.90      9895\n",
      "\n",
      "Accuracy:  0.8999494694290046\n"
     ]
    }
   ],
   "source": [
    "modelNB = MultinomialNB()\n",
    "modelNB.fit(x_train, y_train_data)\n",
    "\n",
    "y_pred = modelNB.predict(x_test)\n",
    "print(classification_report(y_test_data, y_pred))\n",
    "print(\"Accuracy: \", accuracy_score(y_test_data, y_pred))"
   ]
  },
  {
   "cell_type": "code",
   "execution_count": 72,
   "id": "3c73ebe2",
   "metadata": {},
   "outputs": [
    {
     "name": "stdout",
     "output_type": "stream",
     "text": [
      "              precision    recall  f1-score   support\n",
      "\n",
      "           0       0.87      0.88      0.88      5963\n",
      "           1       0.82      0.81      0.81      3932\n",
      "\n",
      "    accuracy                           0.85      9895\n",
      "   macro avg       0.84      0.84      0.84      9895\n",
      "weighted avg       0.85      0.85      0.85      9895\n",
      "\n",
      "Accuracy:  0.8511369378473976\n"
     ]
    }
   ],
   "source": [
    "from sklearn.linear_model import LogisticRegression\n",
    "modelLR = LogisticRegression(solver=\"saga\", max_iter=1000)\n",
    "modelLR.fit(x_train, y_train_data)\n",
    "\n",
    "y_pred = modelLR.predict(x_test)\n",
    "print(classification_report(y_test_data, y_pred))\n",
    "print(\"Accuracy: \", accuracy_score(y_test_data, y_pred))"
   ]
  },
  {
   "cell_type": "code",
   "execution_count": 75,
   "id": "6cb440ab",
   "metadata": {},
   "outputs": [
    {
     "name": "stdout",
     "output_type": "stream",
     "text": [
      "              precision    recall  f1-score   support\n",
      "\n",
      "           0       0.91      0.96      0.93      5963\n",
      "           1       0.94      0.85      0.89      3932\n",
      "\n",
      "    accuracy                           0.92      9895\n",
      "   macro avg       0.92      0.91      0.91      9895\n",
      "weighted avg       0.92      0.92      0.92      9895\n",
      "\n",
      "Accuracy:  0.9175341081354219\n"
     ]
    }
   ],
   "source": [
    "from sklearn.linear_model import SGDClassifier\n",
    "modelSGDBOW = SGDClassifier(loss='log_loss', max_iter=1000, tol=1e-3)\n",
    "modelSGDBOW.fit(x_train, y_train_data)\n",
    "\n",
    "y_pred = modelSGDBOW.predict(x_test)\n",
    "print(classification_report(y_test_data, y_pred))\n",
    "print(\"Accuracy: \", accuracy_score(y_test_data, y_pred))"
   ]
  },
  {
   "cell_type": "code",
   "execution_count": 27,
   "id": "53ddf93a",
   "metadata": {},
   "outputs": [
    {
     "name": "stdout",
     "output_type": "stream",
     "text": [
      "Entries for training:  (46178, 87951)\n",
      "Entries for testing:  (9895, 87951)\n"
     ]
    }
   ],
   "source": [
    "from sklearn.feature_extraction.text import TfidfVectorizer\n",
    "\n",
    "\n",
    "x_train_data = np.array(df_train['clean_text'])\n",
    "y_train_data = np.array(df_train['is_toxic'])\n",
    "x_test_data = np.array(df_test['clean_text'])\n",
    "y_test_data = np.array(df_test['is_toxic'])\n",
    "\n",
    "tf_idf_vectorizer = TfidfVectorizer()\n",
    "x_train = tf_idf_vectorizer.fit_transform(x_train_data)\n",
    "x_test = tf_idf_vectorizer.transform(x_test_data)\n",
    "\n",
    "\n",
    "print(\"Entries for training: \", x_train.shape)\n",
    "print(\"Entries for testing: \", x_test.shape)"
   ]
  },
  {
   "cell_type": "code",
   "execution_count": 28,
   "id": "5d242ae8",
   "metadata": {},
   "outputs": [
    {
     "name": "stdout",
     "output_type": "stream",
     "text": [
      "              precision    recall  f1-score   support\n",
      "\n",
      "           0       0.84      0.98      0.90      5963\n",
      "           1       0.96      0.71      0.82      3932\n",
      "\n",
      "    accuracy                           0.87      9895\n",
      "   macro avg       0.90      0.85      0.86      9895\n",
      "weighted avg       0.89      0.87      0.87      9895\n",
      "\n",
      "Accuracy:  0.8735725113693785\n"
     ]
    }
   ],
   "source": [
    "modelNB = MultinomialNB()\n",
    "modelNB.fit(x_train, y_train_data)\n",
    "\n",
    "y_pred = modelNB.predict(x_test)\n",
    "print(classification_report(y_test_data, y_pred))\n",
    "print(\"Accuracy: \", accuracy_score(y_test_data, y_pred))"
   ]
  },
  {
   "cell_type": "code",
   "execution_count": 29,
   "id": "c356ed8e",
   "metadata": {},
   "outputs": [
    {
     "name": "stdout",
     "output_type": "stream",
     "text": [
      "              precision    recall  f1-score   support\n",
      "\n",
      "           0       0.90      0.95      0.93      5963\n",
      "           1       0.92      0.84      0.88      3932\n",
      "\n",
      "    accuracy                           0.91      9895\n",
      "   macro avg       0.91      0.90      0.90      9895\n",
      "weighted avg       0.91      0.91      0.91      9895\n",
      "\n",
      "Accuracy:  0.9083375442142496\n"
     ]
    }
   ],
   "source": [
    "from sklearn.linear_model import LogisticRegression\n",
    "modelLR = LogisticRegression(solver=\"saga\", max_iter=1000)\n",
    "modelLR.fit(x_train, y_train_data)\n",
    "\n",
    "y_pred = modelLR.predict(x_test)\n",
    "print(classification_report(y_test_data, y_pred))\n",
    "print(\"Accuracy: \", accuracy_score(y_test_data, y_pred))"
   ]
  },
  {
   "cell_type": "code",
   "execution_count": 30,
   "id": "8e80a7a4",
   "metadata": {},
   "outputs": [
    {
     "name": "stdout",
     "output_type": "stream",
     "text": [
      "              precision    recall  f1-score   support\n",
      "\n",
      "           0       0.87      0.95      0.91      5963\n",
      "           1       0.91      0.78      0.84      3932\n",
      "\n",
      "    accuracy                           0.88      9895\n",
      "   macro avg       0.89      0.86      0.87      9895\n",
      "weighted avg       0.88      0.88      0.88      9895\n",
      "\n",
      "Accuracy:  0.8807478524507327\n"
     ]
    }
   ],
   "source": [
    "from sklearn.linear_model import SGDClassifier\n",
    "modelSGD = SGDClassifier(loss='log_loss', max_iter=1000, tol=1e-3)\n",
    "modelSGD.fit(x_train, y_train_data)\n",
    "\n",
    "y_pred = modelSGD.predict(x_test)\n",
    "print(classification_report(y_test_data, y_pred))\n",
    "print(\"Accuracy: \", accuracy_score(y_test_data, y_pred))"
   ]
  },
  {
   "cell_type": "markdown",
   "id": "d86017c7",
   "metadata": {},
   "source": [
    "Awesome, already some great accuracies. Let's see about neural networks."
   ]
  },
  {
   "cell_type": "markdown",
   "id": "226296d3",
   "metadata": {},
   "source": [
    "#### Neural Network approaches."
   ]
  },
  {
   "cell_type": "code",
   "execution_count": null,
   "id": "d2d97bb8",
   "metadata": {},
   "outputs": [],
   "source": [
    "import torch\n",
    "import torch.nn as nn\n",
    "import torch.nn.functional as F\n",
    "\n",
    "if torch.cuda.is_available():\n",
    "    device = 'cuda'\n",
    "else:\n",
    "    device = 'cpu'"
   ]
  },
  {
   "cell_type": "code",
   "execution_count": 32,
   "id": "708afea2",
   "metadata": {},
   "outputs": [],
   "source": [
    "tokens = list()\n",
    "tokens.append(\"UNK\")\n",
    "tokens.append(\"PAD\")\n",
    "for item in list(count_vectorizer.vocabulary_):\n",
    "    count = count_vectorizer.vocabulary_[item]\n",
    "    if count > 5:\n",
    "        tokens.append(item)"
   ]
  },
  {
   "cell_type": "code",
   "execution_count": 33,
   "id": "a5facca1",
   "metadata": {},
   "outputs": [
    {
     "name": "stdout",
     "output_type": "stream",
     "text": [
      "Sample values:\n",
      "['onenessi', 'onethe', 'oneand', 'nadana', 'assemblage', 'nonracists', 'commonscategoryhadrosaurus', 'foulkii', 'leidy', 'stickler']\n",
      "VOCABULARY LENGTH:  87947\n",
      "\n",
      "SAMPLE ID OF PAD:  1\n"
     ]
    }
   ],
   "source": [
    "token_to_id = {token: id for id, token in enumerate(tokens)}\n",
    "print(\"Sample values:\")\n",
    "print(tokens[-10:])\n",
    "print(\"VOCABULARY LENGTH: \", len(list(token_to_id)))\n",
    "print()\n",
    "print(\"SAMPLE ID OF PAD: \", token_to_id['PAD'])"
   ]
  },
  {
   "cell_type": "code",
   "execution_count": 34,
   "id": "41f6d0e9",
   "metadata": {},
   "outputs": [],
   "source": [
    "from gensim.models import KeyedVectors\n",
    "gen_emb = KeyedVectors.load_word2vec_format(\"./bow5.vec\")"
   ]
  },
  {
   "cell_type": "code",
   "execution_count": 35,
   "id": "216b5832",
   "metadata": {},
   "outputs": [],
   "source": [
    "tokens_gen = list()\n",
    "for key in gen_emb.key_to_index.keys():\n",
    "    tokens_gen.append(key)"
   ]
  },
  {
   "cell_type": "code",
   "execution_count": 36,
   "id": "041ac7b0",
   "metadata": {},
   "outputs": [],
   "source": [
    "for token in tokens_gen[:20000]:\n",
    "    if token not in tokens:\n",
    "        tokens.append(token)"
   ]
  },
  {
   "cell_type": "code",
   "execution_count": 37,
   "id": "a3d0afd9",
   "metadata": {},
   "outputs": [
    {
     "name": "stdout",
     "output_type": "stream",
     "text": [
      "Sample values:\n",
      "['latex', 'torino', 'cessation', 'sargent', 'leases', 'undivided', 'cultivate', 'partido', 'gables', \"o'hara\"]\n",
      "VOCABULARY LENGTH:  90612\n",
      "\n",
      "SAMPLE ID OF PAD:  1\n"
     ]
    }
   ],
   "source": [
    "token_to_id = {token: id for id, token in enumerate(tokens)}\n",
    "print(\"Sample values:\")\n",
    "print(tokens[-10:])\n",
    "print(\"VOCABULARY LENGTH: \", len(list(token_to_id)))\n",
    "print()\n",
    "print(\"SAMPLE ID OF PAD: \", token_to_id['PAD'])"
   ]
  },
  {
   "cell_type": "code",
   "execution_count": 77,
   "id": "53de7d95",
   "metadata": {},
   "outputs": [],
   "source": [
    "import pickle\n",
    "\n",
    "with open(\"toxic_tokenizer_data.pkl\", \"wb\") as f:\n",
    "    pickle.dump((tokens, token_to_id), f)"
   ]
  },
  {
   "cell_type": "code",
   "execution_count": 39,
   "id": "fadc7df0",
   "metadata": {},
   "outputs": [],
   "source": [
    "vocab_size = len(tokens)\n",
    "embedding_matrix = np.zeros((vocab_size, 300)) #300 is the dimension of the embedding!\n",
    "for word, idx in token_to_id.items():\n",
    "    if word in gen_emb:\n",
    "        embedding_matrix[idx] = gen_emb.get_vector(word)\n",
    "    else:\n",
    "        embedding_matrix[idx] = np.random.normal(scale=0.6, size=(300, ))"
   ]
  },
  {
   "cell_type": "code",
   "execution_count": 40,
   "id": "ca7f37c4",
   "metadata": {},
   "outputs": [],
   "source": [
    "UNK_IX, PAD_IX = map(token_to_id.get, [\"UNK\", \"PAD\"])\n",
    "\n",
    "def as_matrix(sequences, max_len=None):\n",
    "    \"\"\" Convert a list of tokens into a matrix with padding \"\"\"\n",
    "    if isinstance(sequences[0], str):\n",
    "        sequences = list(map(str.split, sequences))\n",
    "        \n",
    "    max_len = min(max(map(len, sequences)), max_len or float('inf'))\n",
    "    \n",
    "    matrix = np.full((len(sequences), max_len), np.int32(PAD_IX))\n",
    "    for i,seq in enumerate(sequences):\n",
    "        row_ix = [token_to_id.get(word, UNK_IX) for word in seq[:max_len]]\n",
    "        matrix[i, :len(row_ix)] = row_ix\n",
    "    \n",
    "    return matrix"
   ]
  },
  {
   "cell_type": "code",
   "execution_count": 41,
   "id": "eec26eca",
   "metadata": {},
   "outputs": [],
   "source": [
    "def to_tensors(batch, device):\n",
    "    batch_tensors = dict()\n",
    "    for key, arr in batch.items():\n",
    "        if key == 'clean_text' or key == 'is_toxic':\n",
    "            batch_tensors[key] = torch.tensor(arr, device=device, dtype=torch.int64)\n",
    "        else:\n",
    "            batch_tensors[key] = torch.tensor(arr, device=device)\n",
    "    return batch_tensors"
   ]
  },
  {
   "cell_type": "code",
   "execution_count": 42,
   "id": "c08f1952",
   "metadata": {},
   "outputs": [],
   "source": [
    "def apply_word_dropout(matrix, keep_prop, replace_with=UNK_IX, pad_ix=PAD_IX,):\n",
    "    dropout_mask = np.random.choice(2, np.shape(matrix), p=[keep_prop, 1 - keep_prop]).astype(np.float32)\n",
    "    dropout_mask &= matrix != pad_ix\n",
    "    return np.choose(dropout_mask, [matrix, np.full_like(matrix, replace_with)])"
   ]
  },
  {
   "cell_type": "code",
   "execution_count": 43,
   "id": "0aef98f6",
   "metadata": {},
   "outputs": [],
   "source": [
    "def make_batch(data, max_len=None, word_dropout=0, device=device):\n",
    "    batch = {}\n",
    "    batch['clean_text'] = as_matrix(data['clean_text'].values, max_len)\n",
    "\n",
    "    if word_dropout != 0:\n",
    "        batch['clean_text'] = apply_word_dropout(batch['clean_text'], 1. - word_dropout)\n",
    "    \n",
    "    if 'is_toxic' in data.columns:\n",
    "        batch['is_toxic'] = data['is_toxic'].values\n",
    "    return to_tensors(batch, device)"
   ]
  },
  {
   "cell_type": "code",
   "execution_count": 44,
   "id": "1698fba2",
   "metadata": {},
   "outputs": [],
   "source": [
    "def iterate_minibatches(data, batch_size=256, shuffle=True, cycle=False, device=device, **kwargs):\n",
    "    while True:\n",
    "        indices = np.arange(len(data))\n",
    "        if shuffle:\n",
    "            indices = np.random.permutation(indices)\n",
    "\n",
    "        for start in range(0, len(indices), batch_size):\n",
    "            batch = make_batch(data.iloc[indices[start : start + batch_size]], device=device, **kwargs)\n",
    "            yield batch\n",
    "        \n",
    "        if not cycle: break"
   ]
  },
  {
   "cell_type": "code",
   "execution_count": 45,
   "id": "ed455044",
   "metadata": {},
   "outputs": [],
   "source": [
    "from tqdm.auto import tqdm\n",
    "from torch.amp import autocast, GradScaler"
   ]
  },
  {
   "cell_type": "code",
   "execution_count": 46,
   "id": "2ec71e26",
   "metadata": {},
   "outputs": [],
   "source": [
    "def evaluate_model(model, data_test, batch_size, criterion=None):\n",
    "    model.eval()\n",
    "    test_correct = 0\n",
    "    test_examples = 0\n",
    "    total_val_loss = 0\n",
    "    avg_val_loss = 0\n",
    "    with torch.no_grad():\n",
    "        for i, batch in tqdm(enumerate(iterate_minibatches(data_test, batch_size, device=device, shuffle=False)), total=len(data_test) // batch_size):\n",
    "            out_data = model(batch['clean_text'])\n",
    "            targets = batch['is_toxic']\n",
    "            if criterion:\n",
    "               loss = criterion(out_data, targets)\n",
    "            predictions = torch.argmax(out_data, dim=1)\n",
    "            test_correct += (predictions == targets).sum().item()\n",
    "            test_examples += targets.size(0)\n",
    "            if criterion:\n",
    "                total_val_loss += loss.item()\n",
    "    test_accuracy = test_correct / test_examples\n",
    "    if criterion:\n",
    "        avg_val_loss = total_val_loss / test_examples\n",
    "    return test_accuracy, avg_val_loss"
   ]
  },
  {
   "cell_type": "code",
   "execution_count": 47,
   "id": "719e55d2",
   "metadata": {},
   "outputs": [],
   "source": [
    "def train_model(epochs, model, scaler, criterion, optimizer, data_train, data_val, batch_size, scheduler=None, num_unfreeze=3):\n",
    "    #############################################################################\n",
    "    ### Returns last_accuracy, total_accuracy, total_loss, total_val_accuracy ###\n",
    "    #############################################################################\n",
    "    total_loss = list()\n",
    "    total_accuracy = list()\n",
    "    total_val_accuracy = list()\n",
    "    for epoch in range(epochs):\n",
    "        total_correct = 0\n",
    "        total_examples = 0\n",
    "        total_loss_epoch = 0\n",
    "        if epoch == num_unfreeze:\n",
    "            model.embedding.weight.requires_grad = True\n",
    "        print(f\"epoch: \", {epoch})\n",
    "        model.train()\n",
    "        for i, batch in tqdm(enumerate(iterate_minibatches(data_train, batch_size, device=device)), total=len(data_train) // batch_size):\n",
    "            optimizer.zero_grad()\n",
    "            targets = batch['is_toxic']\n",
    "            with autocast(device_type=device):\n",
    "                logits = model(batch['clean_text'])\n",
    "                loss = criterion(logits, targets)\n",
    "                scaler.scale(loss).backward()\n",
    "                scaler.step(optimizer)\n",
    "                scaler.update()\n",
    "            predictions = torch.argmax(logits, dim=1)\n",
    "            correct = (predictions == targets).sum().item()\n",
    "            total_loss_epoch += loss.item()\n",
    "            total_correct = total_correct + correct\n",
    "            total_examples += targets.size(0)\n",
    "\n",
    "        validation_accuracy, validation_loss = evaluate_model(model, data_val, batch_size, criterion)\n",
    "\n",
    "        epoch_loss = total_loss_epoch / total_examples\n",
    "        epoch_accuracy = total_correct / total_examples\n",
    "        total_loss.append(total_loss_epoch)\n",
    "        total_accuracy.append(epoch_accuracy)\n",
    "        total_val_accuracy.append(validation_accuracy)\n",
    "        if scheduler:\n",
    "            scheduler.step(validation_loss)\n",
    "        print(f\"Epoch {epoch + 1}: Loss = {epoch_loss:.4f}, Accuracy = {epoch_accuracy:.4f}, Val_accuracy = {validation_accuracy:.4f}, Val_loss = {validation_loss:.4f}\")\n",
    "    return epoch_accuracy, total_accuracy, total_loss, total_val_accuracy"
   ]
  },
  {
   "cell_type": "code",
   "execution_count": 48,
   "id": "4c290bdc",
   "metadata": {},
   "outputs": [],
   "source": [
    "class SentimentClassifierCNN(nn.Module):\n",
    "    def __init__(self, vocabulary_dim, embedding_matrix, num_sentiments=3):\n",
    "        super().__init__()\n",
    "        self.embedding = nn.Embedding(vocabulary_dim, 300)\n",
    "        self.embedding.weight.data.copy_(torch.from_numpy(embedding_matrix))\n",
    "        self.embedding.weight.requires_grad = False\n",
    "        self.embedding_dropout = nn.Dropout(0.5)\n",
    "        self.conv1 = nn.Conv1d(300, 256, 7)\n",
    "        self.pool1 = nn.AdaptiveAvgPool1d(output_size=128)\n",
    "        self.conv2 = nn.Conv1d(256, 128, 5)\n",
    "        self.pool2 = nn.AdaptiveAvgPool1d(output_size=64)\n",
    "        self.conv3 = nn.Conv1d(128, 64, 3)\n",
    "        self.pool3 = nn.AdaptiveAvgPool1d(output_size=32)\n",
    "\n",
    "        self.dropout_conv = nn.Dropout(0.3)\n",
    "\n",
    "        self.fc1 = nn.Linear(in_features=(32 * 64), out_features=64)\n",
    "        self.fc2 = nn.Linear(in_features=64, out_features=num_sentiments)\n",
    "\n",
    "    def forward(self, x):\n",
    "        x = self.embedding(x)\n",
    "        x = self.embedding_dropout(x)\n",
    "        x = x.transpose(1, 2)\n",
    "\n",
    "        x = self.pool1(F.relu(self.conv1(x)))\n",
    "        x = self.pool2(F.relu(self.conv2(x)))\n",
    "        x = self.pool3(F.relu(self.conv3(x)))\n",
    "        x = self.dropout_conv(x)\n",
    "\n",
    "        x = x.view(x.size(0), -1)\n",
    "        x = F.relu(self.fc1(x))\n",
    "        x = self.fc2(x)\n",
    "        return x"
   ]
  },
  {
   "cell_type": "code",
   "execution_count": 50,
   "id": "649df0fa",
   "metadata": {},
   "outputs": [
    {
     "name": "stdout",
     "output_type": "stream",
     "text": [
      "epoch:  {0}\n"
     ]
    },
    {
     "name": "stderr",
     "output_type": "stream",
     "text": [
      "361it [00:07, 47.02it/s]                         \n",
      "78it [00:01, 69.02it/s]                        \n"
     ]
    },
    {
     "name": "stdout",
     "output_type": "stream",
     "text": [
      "Epoch 1: Loss = 0.0040, Accuracy = 0.7423, Val_accuracy = 0.7973, Val_loss = 0.0035\n",
      "epoch:  {1}\n"
     ]
    },
    {
     "name": "stderr",
     "output_type": "stream",
     "text": [
      "361it [00:07, 47.58it/s]                         \n",
      "78it [00:01, 57.17it/s]                        \n"
     ]
    },
    {
     "name": "stdout",
     "output_type": "stream",
     "text": [
      "Epoch 2: Loss = 0.0032, Accuracy = 0.8097, Val_accuracy = 0.7831, Val_loss = 0.0034\n",
      "epoch:  {2}\n"
     ]
    },
    {
     "name": "stderr",
     "output_type": "stream",
     "text": [
      "361it [00:07, 46.39it/s]                         \n",
      "78it [00:01, 67.35it/s]                        \n"
     ]
    },
    {
     "name": "stdout",
     "output_type": "stream",
     "text": [
      "Epoch 3: Loss = 0.0029, Accuracy = 0.8327, Val_accuracy = 0.8348, Val_loss = 0.0029\n",
      "epoch:  {3}\n"
     ]
    },
    {
     "name": "stderr",
     "output_type": "stream",
     "text": [
      "361it [00:07, 46.45it/s]                         \n",
      "78it [00:01, 67.06it/s]                        \n"
     ]
    },
    {
     "name": "stdout",
     "output_type": "stream",
     "text": [
      "Epoch 4: Loss = 0.0027, Accuracy = 0.8445, Val_accuracy = 0.7846, Val_loss = 0.0036\n",
      "epoch:  {4}\n"
     ]
    },
    {
     "name": "stderr",
     "output_type": "stream",
     "text": [
      "361it [00:07, 46.11it/s]                         \n",
      "78it [00:01, 66.80it/s]                        \n"
     ]
    },
    {
     "name": "stdout",
     "output_type": "stream",
     "text": [
      "Epoch 5: Loss = 0.0025, Accuracy = 0.8564, Val_accuracy = 0.7420, Val_loss = 0.0050\n"
     ]
    },
    {
     "name": "stderr",
     "output_type": "stream",
     "text": [
      "78it [00:01, 75.95it/s]                        "
     ]
    },
    {
     "name": "stdout",
     "output_type": "stream",
     "text": [
      "Test accuracy:  0.7389590702374936\n"
     ]
    },
    {
     "name": "stderr",
     "output_type": "stream",
     "text": [
      "\n"
     ]
    }
   ],
   "source": [
    "modelCNN = SentimentClassifierCNN(len(tokens), embedding_matrix=embedding_matrix, num_sentiments=2).to(device)\n",
    "criterion = nn.CrossEntropyLoss()\n",
    "optimizer = torch.optim.Adam(modelCNN.parameters(), lr=1e-3)\n",
    "\n",
    "epochs = 5\n",
    "batch_size = 128\n",
    "scaler = GradScaler()\n",
    "\n",
    "train_accuracy, total_accuracy, total_loss, total_val_accuracy = train_model(epochs=epochs, model=modelCNN, scaler=scaler, \n",
    "                                                         criterion=criterion, optimizer=optimizer,\n",
    "                                                           data_train=df_train, data_val=df_val, batch_size=128,\n",
    "                                                           num_unfreeze=6)\n",
    "\n",
    "test_accuracy, test_loss = evaluate_model(model=modelCNN, data_test=df_test, batch_size=128)\n",
    "print(\"Test accuracy: \", test_accuracy)"
   ]
  },
  {
   "cell_type": "code",
   "execution_count": 51,
   "id": "03f4f29a",
   "metadata": {},
   "outputs": [
    {
     "data": {
      "image/png": "[encoded data removed]",
      "text/plain": [
       "<Figure size 1000x600 with 1 Axes>"
      ]
     },
     "metadata": {},
     "output_type": "display_data"
    }
   ],
   "source": [
    "epochs_range = range(1, epochs + 1)\n",
    "\n",
    "plt.figure(figsize=(10, 6))\n",
    "plt.plot(epochs_range, total_accuracy, label='Training Accuracy', marker='o')\n",
    "plt.plot(epochs_range, total_val_accuracy, label='Validation Accuracy', marker='o')\n",
    "\n",
    "plt.title('Accuracy over epochs')\n",
    "plt.xlabel('Epoch')\n",
    "plt.ylabel('Accuracy')\n",
    "plt.xticks(epochs_range)\n",
    "plt.ylim(0, 1)\n",
    "plt.legend()\n",
    "plt.grid(True)\n",
    "plt.tight_layout()\n",
    "plt.show()"
   ]
  },
  {
   "cell_type": "code",
   "execution_count": 52,
   "id": "d5695dcc",
   "metadata": {},
   "outputs": [],
   "source": [
    "class SentimentClassifierRNN(nn.Module):\n",
    "    def __init__(self, vocabulary_dimention, num_classes, hidden_dim, num_layers=1):\n",
    "        super().__init__()\n",
    "\n",
    "        self.embedding = nn.Embedding(vocabulary_dimention, 300)\n",
    "        self.embedding.weight.data.copy_(torch.from_numpy(embedding_matrix))\n",
    "        self.embedding.weight.requires_grad = False\n",
    "        self.embedding_dropout = nn.Dropout(0.5)\n",
    "        self.lstm = nn.LSTM(300, hidden_size=hidden_dim, num_layers=num_layers, bidirectional=True, dropout=0.5)\n",
    "        self.fc = nn.Linear(hidden_dim * 2, num_classes)\n",
    "    def forward(self, x):\n",
    "        x = self.embedding(x)\n",
    "        x = self.embedding_dropout(x)\n",
    "        x = x.permute(1, 0, 2)\n",
    "        _, (h_n, _) = self.lstm(x)\n",
    "        final_hidden = torch.cat((h_n[-2], h_n[-1]), dim=1)\n",
    "        out = self.fc(final_hidden)\n",
    "        return out"
   ]
  },
  {
   "cell_type": "code",
   "execution_count": 55,
   "id": "8c795361",
   "metadata": {},
   "outputs": [
    {
     "name": "stdout",
     "output_type": "stream",
     "text": [
      "epoch:  {0}\n"
     ]
    },
    {
     "name": "stderr",
     "output_type": "stream",
     "text": [
      "361it [00:06, 53.17it/s]                         \n",
      "78it [00:00, 101.21it/s]                        \n"
     ]
    },
    {
     "name": "stdout",
     "output_type": "stream",
     "text": [
      "Epoch 1: Loss = 0.0036, Accuracy = 0.7835, Val_accuracy = 0.8215, Val_loss = 0.0031\n",
      "epoch:  {1}\n"
     ]
    },
    {
     "name": "stderr",
     "output_type": "stream",
     "text": [
      "361it [00:06, 56.00it/s]                         \n",
      "78it [00:00, 101.21it/s]                        \n"
     ]
    },
    {
     "name": "stdout",
     "output_type": "stream",
     "text": [
      "Epoch 2: Loss = 0.0030, Accuracy = 0.8310, Val_accuracy = 0.8243, Val_loss = 0.0031\n",
      "epoch:  {2}\n"
     ]
    },
    {
     "name": "stderr",
     "output_type": "stream",
     "text": [
      "361it [00:06, 55.86it/s]                         \n",
      "78it [00:00, 102.67it/s]                        \n"
     ]
    },
    {
     "name": "stdout",
     "output_type": "stream",
     "text": [
      "Epoch 3: Loss = 0.0028, Accuracy = 0.8432, Val_accuracy = 0.8043, Val_loss = 0.0032\n",
      "epoch:  {3}\n"
     ]
    },
    {
     "name": "stderr",
     "output_type": "stream",
     "text": [
      "361it [00:06, 55.73it/s]                         \n",
      "78it [00:00, 102.00it/s]                        \n"
     ]
    },
    {
     "name": "stdout",
     "output_type": "stream",
     "text": [
      "Epoch 4: Loss = 0.0028, Accuracy = 0.8450, Val_accuracy = 0.7961, Val_loss = 0.0032\n",
      "epoch:  {4}\n"
     ]
    },
    {
     "name": "stderr",
     "output_type": "stream",
     "text": [
      "361it [00:06, 55.17it/s]                         \n",
      "78it [00:00, 100.94it/s]                        \n"
     ]
    },
    {
     "name": "stdout",
     "output_type": "stream",
     "text": [
      "Epoch 5: Loss = 0.0026, Accuracy = 0.8571, Val_accuracy = 0.8239, Val_loss = 0.0030\n"
     ]
    },
    {
     "name": "stderr",
     "output_type": "stream",
     "text": [
      "78it [00:00, 106.90it/s]                        "
     ]
    },
    {
     "name": "stdout",
     "output_type": "stream",
     "text": [
      "--------------\n",
      "Test accuracy:  0.8178878221323901\n"
     ]
    },
    {
     "name": "stderr",
     "output_type": "stream",
     "text": [
      "\n"
     ]
    }
   ],
   "source": [
    "from torch.optim.lr_scheduler import ReduceLROnPlateau\n",
    "import warnings\n",
    "warnings.filterwarnings(\"ignore\", category=UserWarning) \n",
    "modelRNN = SentimentClassifierRNN(len(tokens), num_classes=2, hidden_dim=64, num_layers=1).to(device)\n",
    "criterion = nn.CrossEntropyLoss()\n",
    "optimizer = torch.optim.AdamW(modelRNN.parameters(), lr=1e-3)\n",
    "scheduler = ReduceLROnPlateau(optimizer, 'max', 0.5, 2, verbose=True)\n",
    "\n",
    "epochs = 5\n",
    "batch_size = 128\n",
    "\n",
    "total_accuracy = list()\n",
    "total_loss = list()\n",
    "scaler = GradScaler()\n",
    "\n",
    "train_accuracy, total_accuracy, total_loss, total_val_accuracy = train_model(epochs=epochs, model=modelRNN, scaler=scaler, \n",
    "                                                         criterion=criterion, optimizer=optimizer,\n",
    "                                                           data_train=df_train, data_val=df_val, batch_size=128\n",
    "                                                           , scheduler=scheduler\n",
    "                                                           , num_unfreeze=8\n",
    "                                                           )\n",
    "\n",
    "test_accuracy, test_loss = evaluate_model(modelRNN, df_test, batch_size=128)\n",
    "print(\"--------------\")\n",
    "print(\"Test accuracy: \", test_accuracy)"
   ]
  },
  {
   "cell_type": "code",
   "execution_count": 56,
   "id": "540d8b7c",
   "metadata": {},
   "outputs": [
    {
     "data": {
      "image/png": "[encoded data removed]",
      "text/plain": [
       "<Figure size 1000x600 with 1 Axes>"
      ]
     },
     "metadata": {},
     "output_type": "display_data"
    }
   ],
   "source": [
    "epochs_range = range(1, epochs + 1)\n",
    "\n",
    "plt.figure(figsize=(10, 6))\n",
    "plt.plot(epochs_range, total_accuracy, label='Training Accuracy', marker='o')\n",
    "plt.plot(epochs_range, total_val_accuracy, label='Validation Accuracy', marker='o')\n",
    "\n",
    "plt.title('Accuracy over epochs')\n",
    "plt.xlabel('Epoch')\n",
    "plt.ylabel('Accuracy')\n",
    "plt.xticks(epochs_range)\n",
    "plt.ylim(0, 1)\n",
    "plt.legend()\n",
    "plt.grid(True)\n",
    "plt.tight_layout()\n",
    "plt.show()"
   ]
  },
  {
   "cell_type": "markdown",
   "id": "6034f0f6",
   "metadata": {},
   "source": [
    "We can already see that these models are very, VERY prone to overfitting, specifically on this dataset. Becuase of that, we are not going to move onto more complex models, but are going to conclude this very brief notebook with the final accuracy analysis."
   ]
  },
  {
   "cell_type": "markdown",
   "id": "b50cd9fb",
   "metadata": {},
   "source": [
    "## Conclusion."
   ]
  },
  {
   "cell_type": "markdown",
   "id": "70c12e68",
   "metadata": {},
   "source": [
    "This was quite fast, wasn't it? Let's look at our results."
   ]
  },
  {
   "cell_type": "code",
   "execution_count": 61,
   "id": "fb7e9d53",
   "metadata": {},
   "outputs": [
    {
     "data": {
      "image/png": "[encoded data removed]",
      "text/plain": [
       "<Figure size 1200x700 with 1 Axes>"
      ]
     },
     "metadata": {},
     "output_type": "display_data"
    }
   ],
   "source": [
    "models = [\n",
    "    \"BoW + Naive Bayes\",\n",
    "    \"BoW + Logistic Regression\",\n",
    "    \"BoW + SGD\",\n",
    "    \"TF-IDF + Naive Bayes\",\n",
    "    \"TF-IDF + Logistic Regression\",\n",
    "    \"TF-IDF + SGD\",\n",
    "    \"1D CNN\",\n",
    "    \"LSTMs\"\n",
    "]\n",
    "\n",
    "accuracies = [\n",
    "    0.8999494694290046,\n",
    "    0.8511369378473976,\n",
    "    0.917433046993431,\n",
    "    0.8735725113693785,\n",
    "    0.9083375442142496,\n",
    "    0.8807478524507327,\n",
    "    0.7389590702374936,\n",
    "    0.8178878221323901\n",
    "]\n",
    "\n",
    "plt.figure(figsize=(12, 7))\n",
    "bars = plt.barh(models, accuracies, color='skyblue')\n",
    "plt.xlabel('Accuracy')\n",
    "plt.title('Model accuracy comparison')\n",
    "plt.xlim(0.6, 0.95)\n",
    "\n",
    "for bar in bars:\n",
    "    width = bar.get_width()\n",
    "    plt.text(width + 0.005, bar.get_y() + bar.get_height()/2, f'{width:.3f}', va='center')\n",
    "\n",
    "plt.gca().invert_yaxis()\n",
    "plt.grid(axis='x', linestyle='--', alpha=0.7)\n",
    "plt.tight_layout()\n",
    "plt.show()"
   ]
  },
  {
   "cell_type": "markdown",
   "id": "b8139de4",
   "metadata": {},
   "source": [
    "And our winner is BoW + SGD with 0.9174 accuracy! Hooray!"
   ]
  },
  {
   "cell_type": "code",
   "execution_count": 76,
   "id": "97cb718d",
   "metadata": {},
   "outputs": [
    {
     "data": {
      "text/plain": [
       "['sgd_toxicity_classification.pkl']"
      ]
     },
     "execution_count": 76,
     "metadata": {},
     "output_type": "execute_result"
    }
   ],
   "source": [
    "import joblib\n",
    "joblib.dump(modelSGDBOW, \"sgd_toxicity_classification.pkl\")"
   ]
  },
  {
   "cell_type": "code",
   "execution_count": 78,
   "id": "e6d1c6d8",
   "metadata": {},
   "outputs": [
    {
     "data": {
      "text/plain": [
       "['toxic_count_vectorizer.pkl']"
      ]
     },
     "execution_count": 78,
     "metadata": {},
     "output_type": "execute_result"
    }
   ],
   "source": [
    "joblib.dump(count_vectorizer, \"toxic_count_vectorizer.pkl\")"
   ]
  }
 ],
 "metadata": {
  "kernelspec": {
   "display_name": "Python 3",
   "language": "python",
   "name": "python3"
  },
  "language_info": {
   "codemirror_mode": {
    "name": "ipython",
    "version": 3
   },
   "file_extension": ".py",
   "mimetype": "text/x-python",
   "name": "python",
   "nbconvert_exporter": "python",
   "pygments_lexer": "ipython3",
   "version": "3.10.6"
  }
 },
 "nbformat": 4,
 "nbformat_minor": 5
}
