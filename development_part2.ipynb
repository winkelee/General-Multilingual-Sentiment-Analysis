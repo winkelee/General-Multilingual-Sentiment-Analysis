{
 "cells": [
  {
   "cell_type": "markdown",
   "id": "47a71374",
   "metadata": {},
   "source": [
    "# Neural networks in human emotions - an overview, part 2.\n",
    "\n",
    "Hello and welcome! In this notebook we will continue to analyze the best suitable neural network architectures and machine learning techniques that may help us while building the **sentiment classifier**. (Reading this notebook assumes that you are familiar with the first one.)"
   ]
  },
  {
   "cell_type": "code",
   "execution_count": 1,
   "id": "8b7c726c",
   "metadata": {},
   "outputs": [],
   "source": [
    "import numpy as np\n",
    "import pandas as pd"
   ]
  },
  {
   "cell_type": "markdown",
   "id": "12e870fb",
   "metadata": {},
   "source": [
    "### Analyzing the datasets"
   ]
  },
  {
   "cell_type": "markdown",
   "id": "0f315d7a",
   "metadata": {},
   "source": [
    "Just like the last time, we will analyze two datasets and see which one suits better for our use-case."
   ]
  },
  {
   "cell_type": "markdown",
   "id": "47df70ea",
   "metadata": {},
   "source": [
    "#### Dataset #1"
   ]
  },
  {
   "cell_type": "code",
   "execution_count": 2,
   "id": "555b79f7",
   "metadata": {},
   "outputs": [
    {
     "data": {
      "text/html": [
       "<div>\n",
       "<style scoped>\n",
       "    .dataframe tbody tr th:only-of-type {\n",
       "        vertical-align: middle;\n",
       "    }\n",
       "\n",
       "    .dataframe tbody tr th {\n",
       "        vertical-align: top;\n",
       "    }\n",
       "\n",
       "    .dataframe thead th {\n",
       "        text-align: right;\n",
       "    }\n",
       "</style>\n",
       "<table border=\"1\" class=\"dataframe\">\n",
       "  <thead>\n",
       "    <tr style=\"text-align: right;\">\n",
       "      <th></th>\n",
       "      <th>textID</th>\n",
       "      <th>text</th>\n",
       "      <th>selected_text</th>\n",
       "      <th>sentiment</th>\n",
       "      <th>Time of Tweet</th>\n",
       "      <th>Age of User</th>\n",
       "      <th>Country</th>\n",
       "      <th>Population -2020</th>\n",
       "      <th>Land Area (Km²)</th>\n",
       "      <th>Density (P/Km²)</th>\n",
       "    </tr>\n",
       "  </thead>\n",
       "  <tbody>\n",
       "    <tr>\n",
       "      <th>0</th>\n",
       "      <td>cb774db0d1</td>\n",
       "      <td>I`d have responded, if I were going</td>\n",
       "      <td>I`d have responded, if I were going</td>\n",
       "      <td>neutral</td>\n",
       "      <td>morning</td>\n",
       "      <td>0-20</td>\n",
       "      <td>Afghanistan</td>\n",
       "      <td>38928346</td>\n",
       "      <td>652860.0</td>\n",
       "      <td>60</td>\n",
       "    </tr>\n",
       "    <tr>\n",
       "      <th>1</th>\n",
       "      <td>549e992a42</td>\n",
       "      <td>Sooo SAD I will miss you here in San Diego!!!</td>\n",
       "      <td>Sooo SAD</td>\n",
       "      <td>negative</td>\n",
       "      <td>noon</td>\n",
       "      <td>21-30</td>\n",
       "      <td>Albania</td>\n",
       "      <td>2877797</td>\n",
       "      <td>27400.0</td>\n",
       "      <td>105</td>\n",
       "    </tr>\n",
       "    <tr>\n",
       "      <th>2</th>\n",
       "      <td>088c60f138</td>\n",
       "      <td>my boss is bullying me...</td>\n",
       "      <td>bullying me</td>\n",
       "      <td>negative</td>\n",
       "      <td>night</td>\n",
       "      <td>31-45</td>\n",
       "      <td>Algeria</td>\n",
       "      <td>43851044</td>\n",
       "      <td>2381740.0</td>\n",
       "      <td>18</td>\n",
       "    </tr>\n",
       "    <tr>\n",
       "      <th>3</th>\n",
       "      <td>9642c003ef</td>\n",
       "      <td>what interview! leave me alone</td>\n",
       "      <td>leave me alone</td>\n",
       "      <td>negative</td>\n",
       "      <td>morning</td>\n",
       "      <td>46-60</td>\n",
       "      <td>Andorra</td>\n",
       "      <td>77265</td>\n",
       "      <td>470.0</td>\n",
       "      <td>164</td>\n",
       "    </tr>\n",
       "    <tr>\n",
       "      <th>4</th>\n",
       "      <td>358bd9e861</td>\n",
       "      <td>Sons of ****, why couldn`t they put them on t...</td>\n",
       "      <td>Sons of ****,</td>\n",
       "      <td>negative</td>\n",
       "      <td>noon</td>\n",
       "      <td>60-70</td>\n",
       "      <td>Angola</td>\n",
       "      <td>32866272</td>\n",
       "      <td>1246700.0</td>\n",
       "      <td>26</td>\n",
       "    </tr>\n",
       "  </tbody>\n",
       "</table>\n",
       "</div>"
      ],
      "text/plain": [
       "       textID                                               text  \\\n",
       "0  cb774db0d1                I`d have responded, if I were going   \n",
       "1  549e992a42      Sooo SAD I will miss you here in San Diego!!!   \n",
       "2  088c60f138                          my boss is bullying me...   \n",
       "3  9642c003ef                     what interview! leave me alone   \n",
       "4  358bd9e861   Sons of ****, why couldn`t they put them on t...   \n",
       "\n",
       "                         selected_text sentiment Time of Tweet Age of User  \\\n",
       "0  I`d have responded, if I were going   neutral       morning        0-20   \n",
       "1                             Sooo SAD  negative          noon       21-30   \n",
       "2                          bullying me  negative         night       31-45   \n",
       "3                       leave me alone  negative       morning       46-60   \n",
       "4                        Sons of ****,  negative          noon       60-70   \n",
       "\n",
       "       Country  Population -2020  Land Area (Km²)  Density (P/Km²)  \n",
       "0  Afghanistan          38928346         652860.0               60  \n",
       "1      Albania           2877797          27400.0              105  \n",
       "2      Algeria          43851044        2381740.0               18  \n",
       "3      Andorra             77265            470.0              164  \n",
       "4       Angola          32866272        1246700.0               26  "
      ]
     },
     "execution_count": 2,
     "metadata": {},
     "output_type": "execute_result"
    }
   ],
   "source": [
    "from sklearn.model_selection import train_test_split\n",
    "df1_pre_train = pd.read_csv(filepath_or_buffer=\"./dataset3/train.csv\", encoding='latin1')\n",
    "df1_test = pd.read_csv(filepath_or_buffer=\"./dataset3/test.csv\", encoding='latin1')\n",
    "df1_pre_train.head()"
   ]
  },
  {
   "cell_type": "code",
   "execution_count": 3,
   "id": "bac5eeca",
   "metadata": {},
   "outputs": [
    {
     "data": {
      "text/html": [
       "<div>\n",
       "<style scoped>\n",
       "    .dataframe tbody tr th:only-of-type {\n",
       "        vertical-align: middle;\n",
       "    }\n",
       "\n",
       "    .dataframe tbody tr th {\n",
       "        vertical-align: top;\n",
       "    }\n",
       "\n",
       "    .dataframe thead th {\n",
       "        text-align: right;\n",
       "    }\n",
       "</style>\n",
       "<table border=\"1\" class=\"dataframe\">\n",
       "  <thead>\n",
       "    <tr style=\"text-align: right;\">\n",
       "      <th></th>\n",
       "      <th>textID</th>\n",
       "      <th>text</th>\n",
       "      <th>selected_text</th>\n",
       "      <th>sentiment</th>\n",
       "      <th>Time of Tweet</th>\n",
       "      <th>Age of User</th>\n",
       "      <th>Country</th>\n",
       "      <th>Population -2020</th>\n",
       "      <th>Land Area (Km²)</th>\n",
       "      <th>Density (P/Km²)</th>\n",
       "    </tr>\n",
       "  </thead>\n",
       "  <tbody>\n",
       "    <tr>\n",
       "      <th>27476</th>\n",
       "      <td>4eac33d1c0</td>\n",
       "      <td>wish we could come see u on Denver  husband l...</td>\n",
       "      <td>d lost</td>\n",
       "      <td>negative</td>\n",
       "      <td>night</td>\n",
       "      <td>31-45</td>\n",
       "      <td>Ghana</td>\n",
       "      <td>31072940</td>\n",
       "      <td>227540.0</td>\n",
       "      <td>137</td>\n",
       "    </tr>\n",
       "    <tr>\n",
       "      <th>27477</th>\n",
       "      <td>4f4c4fc327</td>\n",
       "      <td>I`ve wondered about rake to.  The client has ...</td>\n",
       "      <td>, don`t force</td>\n",
       "      <td>negative</td>\n",
       "      <td>morning</td>\n",
       "      <td>46-60</td>\n",
       "      <td>Greece</td>\n",
       "      <td>10423054</td>\n",
       "      <td>128900.0</td>\n",
       "      <td>81</td>\n",
       "    </tr>\n",
       "    <tr>\n",
       "      <th>27478</th>\n",
       "      <td>f67aae2310</td>\n",
       "      <td>Yay good for both of you. Enjoy the break - y...</td>\n",
       "      <td>Yay good for both of you.</td>\n",
       "      <td>positive</td>\n",
       "      <td>noon</td>\n",
       "      <td>60-70</td>\n",
       "      <td>Grenada</td>\n",
       "      <td>112523</td>\n",
       "      <td>340.0</td>\n",
       "      <td>331</td>\n",
       "    </tr>\n",
       "    <tr>\n",
       "      <th>27479</th>\n",
       "      <td>ed167662a5</td>\n",
       "      <td>But it was worth it  ****.</td>\n",
       "      <td>But it was worth it  ****.</td>\n",
       "      <td>positive</td>\n",
       "      <td>night</td>\n",
       "      <td>70-100</td>\n",
       "      <td>Guatemala</td>\n",
       "      <td>17915568</td>\n",
       "      <td>107160.0</td>\n",
       "      <td>167</td>\n",
       "    </tr>\n",
       "    <tr>\n",
       "      <th>27480</th>\n",
       "      <td>6f7127d9d7</td>\n",
       "      <td>All this flirting going on - The ATG smiles...</td>\n",
       "      <td>All this flirting going on - The ATG smiles. Y...</td>\n",
       "      <td>neutral</td>\n",
       "      <td>morning</td>\n",
       "      <td>0-20</td>\n",
       "      <td>Guinea</td>\n",
       "      <td>13132795</td>\n",
       "      <td>246000.0</td>\n",
       "      <td>53</td>\n",
       "    </tr>\n",
       "  </tbody>\n",
       "</table>\n",
       "</div>"
      ],
      "text/plain": [
       "           textID                                               text  \\\n",
       "27476  4eac33d1c0   wish we could come see u on Denver  husband l...   \n",
       "27477  4f4c4fc327   I`ve wondered about rake to.  The client has ...   \n",
       "27478  f67aae2310   Yay good for both of you. Enjoy the break - y...   \n",
       "27479  ed167662a5                         But it was worth it  ****.   \n",
       "27480  6f7127d9d7     All this flirting going on - The ATG smiles...   \n",
       "\n",
       "                                           selected_text sentiment  \\\n",
       "27476                                             d lost  negative   \n",
       "27477                                      , don`t force  negative   \n",
       "27478                          Yay good for both of you.  positive   \n",
       "27479                         But it was worth it  ****.  positive   \n",
       "27480  All this flirting going on - The ATG smiles. Y...   neutral   \n",
       "\n",
       "      Time of Tweet Age of User    Country  Population -2020  Land Area (Km²)  \\\n",
       "27476         night       31-45      Ghana          31072940         227540.0   \n",
       "27477       morning       46-60     Greece          10423054         128900.0   \n",
       "27478          noon       60-70    Grenada            112523            340.0   \n",
       "27479         night      70-100  Guatemala          17915568         107160.0   \n",
       "27480       morning        0-20     Guinea          13132795         246000.0   \n",
       "\n",
       "       Density (P/Km²)  \n",
       "27476              137  \n",
       "27477               81  \n",
       "27478              331  \n",
       "27479              167  \n",
       "27480               53  "
      ]
     },
     "execution_count": 3,
     "metadata": {},
     "output_type": "execute_result"
    }
   ],
   "source": [
    "df1_pre_train.tail()"
   ]
  },
  {
   "cell_type": "markdown",
   "id": "a31dcc9d",
   "metadata": {},
   "source": [
    "This dataset is quite interesting so far! Let's note a couple of things:\n",
    "\n",
    "1. This dataset is *not human labeled*. The authors themselves say that this is a machine-labeled dataset. They assumed that every paragraph with a \":)\" is positive, and with \":(\" is negative. This *may* be a downside, since if we make the same parallel with positive and negative words, positive words like \"great\" can be used in a sarcastic manner. However, people do not usually tend to use text emoticons the same way, which is why this is only a tiny downside.\n",
    "\n",
    "2. This dataset has two columns for text: \"text\" and \"selected_text\". We are going to take in account \"text\" and labels only, since the \"selected_text\", meaning the text that has the most impact on the prediction, is not reproducable during inference.\n",
    "\n",
    "3. This dataset, in the \"text\" values, is quite diverse! The paragraphs range from 1 to 3-4 sentences, which is just the length that we need.\n",
    "\n",
    "4. This dataset has additional parameters, such as \"Time of Tweet\", \"Age of User\", \"Country\", etc. If we pick this dataset, we will NOT use these values for training, since once again, they are not reproducable during inference.\n",
    "\n",
    "Let's see how many samples for each sentiment we have!"
   ]
  },
  {
   "cell_type": "code",
   "execution_count": 4,
   "id": "e382840c",
   "metadata": {},
   "outputs": [
    {
     "data": {
      "image/png": "[encoded data removed]",
      "text/plain": [
       "<Figure size 900x600 with 1 Axes>"
      ]
     },
     "metadata": {},
     "output_type": "display_data"
    }
   ],
   "source": [
    "import matplotlib.pyplot as plt\n",
    "\n",
    "sentiment_counts = df1_pre_train['sentiment'].value_counts(normalize=True)\n",
    "plt.figure(figsize=(9, 6))\n",
    "sentiment_counts.plot(kind='bar', color='skyblue')\n",
    "plt.title('Sentiment distribution')\n",
    "plt.xlabel('Sentiment')\n",
    "plt.ylabel('Samples')\n",
    "plt.xticks(rotation=45)\n",
    "plt.tight_layout()\n",
    "plt.show()"
   ]
  },
  {
   "cell_type": "markdown",
   "id": "c026b691",
   "metadata": {},
   "source": [
    "We can see a pretty nice and even ditribution! It is not ideal, of course, but it certainly fits in the \"good\" category.\n",
    "\n",
    "Since we do not need any more info on this dataset and on the other columns in there, we can analyze the second one and then compare them."
   ]
  },
  {
   "cell_type": "markdown",
   "id": "d16f69f9",
   "metadata": {},
   "source": [
    "#### Dataset #2\n"
   ]
  },
  {
   "cell_type": "code",
   "execution_count": 5,
   "id": "4c3a3faf",
   "metadata": {},
   "outputs": [
    {
     "data": {
      "text/html": [
       "<div>\n",
       "<style scoped>\n",
       "    .dataframe tbody tr th:only-of-type {\n",
       "        vertical-align: middle;\n",
       "    }\n",
       "\n",
       "    .dataframe tbody tr th {\n",
       "        vertical-align: top;\n",
       "    }\n",
       "\n",
       "    .dataframe thead th {\n",
       "        text-align: right;\n",
       "    }\n",
       "</style>\n",
       "<table border=\"1\" class=\"dataframe\">\n",
       "  <thead>\n",
       "    <tr style=\"text-align: right;\">\n",
       "      <th></th>\n",
       "      <th>Year</th>\n",
       "      <th>Month</th>\n",
       "      <th>Day</th>\n",
       "      <th>Time of Tweet</th>\n",
       "      <th>text</th>\n",
       "      <th>sentiment</th>\n",
       "      <th>Platform</th>\n",
       "    </tr>\n",
       "  </thead>\n",
       "  <tbody>\n",
       "    <tr>\n",
       "      <th>0</th>\n",
       "      <td>2018</td>\n",
       "      <td>8</td>\n",
       "      <td>18</td>\n",
       "      <td>morning</td>\n",
       "      <td>What a great day!!! Looks like dream.</td>\n",
       "      <td>positive</td>\n",
       "      <td>Twitter</td>\n",
       "    </tr>\n",
       "    <tr>\n",
       "      <th>1</th>\n",
       "      <td>2018</td>\n",
       "      <td>8</td>\n",
       "      <td>18</td>\n",
       "      <td>noon</td>\n",
       "      <td>I feel sorry, I miss you here in the sea beach</td>\n",
       "      <td>positive</td>\n",
       "      <td>Facebook</td>\n",
       "    </tr>\n",
       "    <tr>\n",
       "      <th>2</th>\n",
       "      <td>2017</td>\n",
       "      <td>8</td>\n",
       "      <td>18</td>\n",
       "      <td>night</td>\n",
       "      <td>Don't angry me</td>\n",
       "      <td>negative</td>\n",
       "      <td>Facebook</td>\n",
       "    </tr>\n",
       "    <tr>\n",
       "      <th>3</th>\n",
       "      <td>2022</td>\n",
       "      <td>6</td>\n",
       "      <td>8</td>\n",
       "      <td>morning</td>\n",
       "      <td>We attend in the class just for listening teac...</td>\n",
       "      <td>negative</td>\n",
       "      <td>Facebook</td>\n",
       "    </tr>\n",
       "    <tr>\n",
       "      <th>4</th>\n",
       "      <td>2022</td>\n",
       "      <td>6</td>\n",
       "      <td>8</td>\n",
       "      <td>noon</td>\n",
       "      <td>Those who want to go, let them go</td>\n",
       "      <td>negative</td>\n",
       "      <td>Instagram</td>\n",
       "    </tr>\n",
       "  </tbody>\n",
       "</table>\n",
       "</div>"
      ],
      "text/plain": [
       "   Year  Month  Day Time of Tweet  \\\n",
       "0  2018      8   18       morning   \n",
       "1  2018      8   18          noon   \n",
       "2  2017      8   18         night   \n",
       "3  2022      6    8       morning   \n",
       "4  2022      6    8          noon   \n",
       "\n",
       "                                                text sentiment     Platform  \n",
       "0              What a great day!!! Looks like dream.  positive    Twitter    \n",
       "1     I feel sorry, I miss you here in the sea beach  positive    Facebook   \n",
       "2                                     Don't angry me  negative     Facebook  \n",
       "3  We attend in the class just for listening teac...  negative    Facebook   \n",
       "4                  Those who want to go, let them go  negative   Instagram   "
      ]
     },
     "execution_count": 5,
     "metadata": {},
     "output_type": "execute_result"
    }
   ],
   "source": [
    "df2 = pd.read_csv(filepath_or_buffer=\"./archive4.zip\", compression='zip', encoding='utf-8')\n",
    "df2.head()"
   ]
  },
  {
   "cell_type": "code",
   "execution_count": 6,
   "id": "8f564a24",
   "metadata": {},
   "outputs": [
    {
     "data": {
      "image/png": "[encoded data removed]",
      "text/plain": [
       "<Figure size 900x600 with 1 Axes>"
      ]
     },
     "metadata": {},
     "output_type": "display_data"
    }
   ],
   "source": [
    "sentiment_counts = df2['sentiment'].value_counts(normalize=True)\n",
    "plt.figure(figsize=(9, 6))\n",
    "sentiment_counts.plot(kind='bar', color='orange')\n",
    "plt.title('Sentiment distribution')\n",
    "plt.xlabel('Sentiment')\n",
    "plt.ylabel('Samples')\n",
    "plt.xticks(rotation=45)\n",
    "plt.tight_layout()\n",
    "plt.show()"
   ]
  },
  {
   "cell_type": "markdown",
   "id": "70e82882",
   "metadata": {},
   "source": [
    "This dataset, while having a nice perk to it, considering that this is human-labeled, has just a bit worse of a distribution than the previous one. However, it does introduce a bit more diversity:"
   ]
  },
  {
   "cell_type": "code",
   "execution_count": 7,
   "id": "91607adf",
   "metadata": {},
   "outputs": [
    {
     "data": {
      "image/png": "[encoded data removed]",
      "text/plain": [
       "<Figure size 900x600 with 1 Axes>"
      ]
     },
     "metadata": {},
     "output_type": "display_data"
    }
   ],
   "source": [
    "platform_counts = df2['Platform'].value_counts(normalize=True)\n",
    "plt.figure(figsize=(9, 6))\n",
    "platform_counts.plot(kind='pie')\n",
    "plt.title('Platform distribution')\n",
    "plt.ylabel('')\n",
    "plt.xticks(rotation=45)\n",
    "plt.tight_layout()\n",
    "plt.show()"
   ]
  },
  {
   "cell_type": "code",
   "execution_count": 8,
   "id": "90279cf6",
   "metadata": {},
   "outputs": [
    {
     "data": {
      "image/png": "[encoded data removed]",
      "text/plain": [
       "<Figure size 900x600 with 1 Axes>"
      ]
     },
     "metadata": {},
     "output_type": "display_data"
    }
   ],
   "source": [
    "year_counts = df2['Year'].value_counts(normalize=True)\n",
    "plt.figure(figsize=(9, 6))\n",
    "year_counts.plot(kind='barh', color='orange')\n",
    "plt.title('Year distribution')\n",
    "plt.xlabel('Samples')\n",
    "plt.ylabel('Year')\n",
    "plt.xticks(rotation=45)\n",
    "plt.tight_layout()\n",
    "plt.show()"
   ]
  },
  {
   "cell_type": "markdown",
   "id": "502e7ca3",
   "metadata": {},
   "source": [
    "The diversity, meaning that the texts are from different platforms and years, is a nice addition! However, there is a MAJOR drawback to this dataset: **the sample count**."
   ]
  },
  {
   "cell_type": "code",
   "execution_count": 9,
   "id": "9309cac5",
   "metadata": {},
   "outputs": [
    {
     "data": {
      "text/html": [
       "<div>\n",
       "<style scoped>\n",
       "    .dataframe tbody tr th:only-of-type {\n",
       "        vertical-align: middle;\n",
       "    }\n",
       "\n",
       "    .dataframe tbody tr th {\n",
       "        vertical-align: top;\n",
       "    }\n",
       "\n",
       "    .dataframe thead th {\n",
       "        text-align: right;\n",
       "    }\n",
       "</style>\n",
       "<table border=\"1\" class=\"dataframe\">\n",
       "  <thead>\n",
       "    <tr style=\"text-align: right;\">\n",
       "      <th></th>\n",
       "      <th>Year</th>\n",
       "      <th>Month</th>\n",
       "      <th>Day</th>\n",
       "      <th>Time of Tweet</th>\n",
       "      <th>text</th>\n",
       "      <th>sentiment</th>\n",
       "      <th>Platform</th>\n",
       "    </tr>\n",
       "  </thead>\n",
       "  <tbody>\n",
       "    <tr>\n",
       "      <th>494</th>\n",
       "      <td>2015</td>\n",
       "      <td>10</td>\n",
       "      <td>18</td>\n",
       "      <td>night</td>\n",
       "      <td>According to , a quarter of families under six...</td>\n",
       "      <td>negative</td>\n",
       "      <td>Twitter</td>\n",
       "    </tr>\n",
       "    <tr>\n",
       "      <th>495</th>\n",
       "      <td>2021</td>\n",
       "      <td>2</td>\n",
       "      <td>25</td>\n",
       "      <td>morning</td>\n",
       "      <td>the plan to not spend money is not going well</td>\n",
       "      <td>negative</td>\n",
       "      <td>Instagram</td>\n",
       "    </tr>\n",
       "    <tr>\n",
       "      <th>496</th>\n",
       "      <td>2022</td>\n",
       "      <td>5</td>\n",
       "      <td>30</td>\n",
       "      <td>noon</td>\n",
       "      <td>uploading all my bamboozle pictures of facebook</td>\n",
       "      <td>neutral</td>\n",
       "      <td>Facebook</td>\n",
       "    </tr>\n",
       "    <tr>\n",
       "      <th>497</th>\n",
       "      <td>2018</td>\n",
       "      <td>8</td>\n",
       "      <td>10</td>\n",
       "      <td>night</td>\n",
       "      <td>congratulations ! you guys finish a month ear...</td>\n",
       "      <td>positive</td>\n",
       "      <td>Twitter</td>\n",
       "    </tr>\n",
       "    <tr>\n",
       "      <th>498</th>\n",
       "      <td>2019</td>\n",
       "      <td>3</td>\n",
       "      <td>25</td>\n",
       "      <td>morning</td>\n",
       "      <td>actually, I wish I was back in Tahoe.  I miss...</td>\n",
       "      <td>negative</td>\n",
       "      <td>Instagram</td>\n",
       "    </tr>\n",
       "  </tbody>\n",
       "</table>\n",
       "</div>"
      ],
      "text/plain": [
       "     Year  Month  Day Time of Tweet  \\\n",
       "494  2015     10   18         night   \n",
       "495  2021      2   25       morning   \n",
       "496  2022      5   30          noon   \n",
       "497  2018      8   10         night   \n",
       "498  2019      3   25       morning   \n",
       "\n",
       "                                                  text sentiment     Platform  \n",
       "494  According to , a quarter of families under six...  negative     Twitter   \n",
       "495      the plan to not spend money is not going well  negative   Instagram   \n",
       "496    uploading all my bamboozle pictures of facebook   neutral    Facebook   \n",
       "497   congratulations ! you guys finish a month ear...  positive     Twitter   \n",
       "498   actually, I wish I was back in Tahoe.  I miss...  negative   Instagram   "
      ]
     },
     "execution_count": 9,
     "metadata": {},
     "output_type": "execute_result"
    }
   ],
   "source": [
    "df2.tail()"
   ]
  },
  {
   "cell_type": "markdown",
   "id": "8149e107",
   "metadata": {},
   "source": [
    "The sample count is just below 500. This is very small, especially compared to our first dataset which is 27.480 entries long.\n",
    "\n",
    "HOWEVER, we due to the fact that they both have text and sentiment columns, we can combine them into one dataset."
   ]
  },
  {
   "cell_type": "markdown",
   "id": "91d67194",
   "metadata": {},
   "source": [
    "#### Making the final dataset."
   ]
  },
  {
   "cell_type": "code",
   "execution_count": 10,
   "id": "95ec01e4",
   "metadata": {},
   "outputs": [],
   "source": [
    "df1_all = pd.concat([df1_pre_train[['text', 'sentiment']], df1_test[['text', 'sentiment']]], ignore_index=True)\n",
    "df2 = df2[['text', 'sentiment']]\n",
    "\n",
    "df_combined = pd.concat([df1_all, df2], ignore_index=True)\n",
    "\n",
    "df_combined = df_combined.sample(frac=1.0, random_state=42).reset_index(drop=True)"
   ]
  },
  {
   "cell_type": "code",
   "execution_count": 11,
   "id": "9101958f",
   "metadata": {},
   "outputs": [
    {
     "name": "stdout",
     "output_type": "stream",
     "text": [
      "text         1282\n",
      "sentiment    1281\n",
      "dtype: int64\n"
     ]
    }
   ],
   "source": [
    "print(df_combined.isnull().sum())"
   ]
  },
  {
   "cell_type": "code",
   "execution_count": 12,
   "id": "4c8bd5c0",
   "metadata": {},
   "outputs": [],
   "source": [
    "df_combined.dropna(how='all', inplace=True)\n",
    "df_combined.reset_index(drop=True, inplace=True) \n",
    "df_combined.fillna('UNK', inplace=True)"
   ]
  },
  {
   "cell_type": "code",
   "execution_count": 13,
   "id": "7985583c",
   "metadata": {},
   "outputs": [
    {
     "name": "stdout",
     "output_type": "stream",
     "text": [
      "text         0\n",
      "sentiment    0\n",
      "dtype: int64\n"
     ]
    }
   ],
   "source": [
    "print(df_combined.isnull().sum())"
   ]
  },
  {
   "cell_type": "code",
   "execution_count": 14,
   "id": "ef0684b2",
   "metadata": {},
   "outputs": [],
   "source": [
    "import re\n",
    "def full_text_cleaning_pipeline(text):\n",
    "    text = str(text)\n",
    "    text = text.lower()\n",
    "    text = re.sub(r'<.*?>', '', text)\n",
    "    text = re.sub(r'https?://\\S+|www\\.\\S+', '', text)\n",
    "    text = re.sub(r'[^a-z\\s]', '', text)\n",
    "    text = re.sub(r'\\s+', ' ', text).strip()\n",
    "    return text\n",
    "\n",
    "df_combined['clean_text'] = df_combined['text'].apply(full_text_cleaning_pipeline)"
   ]
  },
  {
   "cell_type": "code",
   "execution_count": 15,
   "id": "08948c68",
   "metadata": {},
   "outputs": [],
   "source": [
    "def convert_words_to_vec_format(input_path, output_path):\n",
    "    with open(input_path, 'r', encoding='utf-8') as infile:\n",
    "        lines = infile.readlines()\n",
    "\n",
    "    vocab_size = len(lines)\n",
    "    embedding_dim = len(lines[0].split()) - 1\n",
    "\n",
    "    with open(output_path, 'w', encoding='utf-8') as outfile:\n",
    "        outfile.write(f\"{vocab_size} {embedding_dim}\\n\")\n",
    "        outfile.writelines(lines)"
   ]
  },
  {
   "cell_type": "code",
   "execution_count": 16,
   "id": "173103af",
   "metadata": {},
   "outputs": [],
   "source": [
    "#Used to convert a file to .vec, uncomment if you do not have the file already.\n",
    "#convert_words_to_vec_format(\"./bow5.words\", \"./bow5.vec\")"
   ]
  },
  {
   "cell_type": "code",
   "execution_count": 17,
   "id": "177ec237",
   "metadata": {},
   "outputs": [],
   "source": [
    "from gensim.models import KeyedVectors\n",
    "gen_emb = KeyedVectors.load_word2vec_format(\"./bow5.vec\")"
   ]
  },
  {
   "cell_type": "code",
   "execution_count": 18,
   "id": "ae9aeb99",
   "metadata": {},
   "outputs": [],
   "source": [
    "#This code is useful if you are using WordsEmbAug. However, the dataset\n",
    "#is augmented with SynonimAug, as it proved to be the best one in our case.\n",
    "#gen_emb.save_word2vec_format(\"bow5.bin\", binary=True)"
   ]
  },
  {
   "cell_type": "code",
   "execution_count": 19,
   "id": "26347a3f",
   "metadata": {},
   "outputs": [
    {
     "name": "stderr",
     "output_type": "stream",
     "text": [
      "c:\\Users\\Kolyamba\\AppData\\Local\\Programs\\Python\\Python310\\lib\\site-packages\\tqdm\\auto.py:21: TqdmWarning: IProgress not found. Please update jupyter and ipywidgets. See https://ipywidgets.readthedocs.io/en/stable/user_install.html\n",
      "  from .autonotebook import tqdm as notebook_tqdm\n",
      "c:\\Users\\Kolyamba\\AppData\\Local\\Programs\\Python\\Python310\\lib\\site-packages\\torchvision\\io\\image.py:13: UserWarning: Failed to load image Python extension: '[WinError 127] The specified procedure could not be found'If you don't plan on using image functionality from `torchvision.io`, you can ignore this warning. Otherwise, there might be something wrong with your environment. Did you have `libjpeg` or `libpng` installed before building `torchvision` from source?\n",
      "  warn(\n"
     ]
    }
   ],
   "source": [
    "from nlpaug.augmenter.word import WordEmbsAug, BackTranslationAug, SynonymAug\n",
    "#\n",
    "#We could play with BackTranslation, however, this is one of the most inefficient methods of augmentation.\n",
    "#augmenter = WordEmbsAug(model_type='word2vec', model_path=\"./bow5.bin\", action='insert')\n",
    "#augmenter = BackTranslationAug(\n",
    "#    from_model_name='Helsinki-NLP/opus-mt-en-de', \n",
    "#    to_model_name='Helsinki-NLP/opus-mt-de-en', device='cuda'\n",
    "#)\n",
    "#\n",
    "augmenter = SynonymAug(aug_src='wordnet', aug_p=0.1);"
   ]
  },
  {
   "cell_type": "markdown",
   "id": "4ad69d08",
   "metadata": {},
   "source": [
    "Here is the interesting thing, we need to **augment** the dataset. This is because the dataset, as we have it right now, is quite small and *will* lead to overfitting on the models we are going to discuss, as they are just going to memorize all of the data. Because of that, we are going to substitute 90% of the entries with synonims and then add them to the original dataset."
   ]
  },
  {
   "cell_type": "code",
   "execution_count": 20,
   "id": "1562ee71",
   "metadata": {},
   "outputs": [
    {
     "name": "stdout",
     "output_type": "stream",
     "text": [
      "28363\n"
     ]
    },
    {
     "name": "stderr",
     "output_type": "stream",
     "text": [
      "100%|██████████| 1773/1773 [00:21<00:00, 82.58it/s]\n"
     ]
    }
   ],
   "source": [
    "# This code runs quite long, which is why it is preferable to run it once and then save the dataset.\n",
    "from tqdm import tqdm\n",
    "import math\n",
    "source_texts = []\n",
    "aug_texts = []\n",
    "aug_labels = []\n",
    "percentage = (len(df_combined) / 100 * 90)\n",
    "percentage = math.ceil(percentage)\n",
    "print(percentage)\n",
    "batch_size = 16\n",
    "\n",
    "for i in tqdm(range(0, percentage, batch_size)):\n",
    "    batch = df_combined.sample(n=batch_size, replace=True, random_state=i)\n",
    "    texts = batch['clean_text'].tolist()\n",
    "    labels = batch['sentiment'].tolist()\n",
    "    aug_batch = augmenter.augment(texts)\n",
    "    aug_texts.extend(aug_batch)\n",
    "    aug_labels.extend(labels)"
   ]
  },
  {
   "cell_type": "code",
   "execution_count": 21,
   "id": "8800d071",
   "metadata": {},
   "outputs": [
    {
     "name": "stdout",
     "output_type": "stream",
     "text": [
      "['your mail server just rejected a simple plain reply to you as potential spamvirus threat not serious', 'yes but are on the wrong wireless plan', 'awwww ill be waiting then hope it doesnt rain', 'are you in need of another kiss attack', 'spent the whole twenty four hours editing in pro toolsi luvvv this thing and am becoming quite the pro but it gives me mad headaches', 'how long before the frisbee golfer accidentally catches one in the back of the head from his friend', 'watching hostage too got an idea for that liveliness im making hope to have it ready and post a link here by the fifth of june', 'im not getting any treatments we are just gonna hang out at the pool and the hot tubs', 'well for one thing i might be branded a public menace by the nation', 'o dear so youre going to be that kiddoe and im going to sit there doing zero amazing wheres the shopping', 'join the golf club', 'hanging prohibited with my babyy', 'morden be at i. a. richards if not and so ill see you when youwe get back good luck', 'aww try to rest na lang muna', 'tired with a headache me no alike sunshine', 'the gigantic initial inertial to get oneself to mold after a deadline', 'still has half a mathematics worksheet scientific discipline wb pages worksheet and english to go feels a sniffle and dry eyes coming along too', 'aww how cute youd love my bathroom', 'me too wonder if mnet will show it', 'im sad about missing out on the opportunity to be in valencias fresh video', 'turn over reportdone', 'purview on my flickr business relationship maybe is not much for you but im happy yay', 'happy mothers day to all the moms out there special shout to my mommaluv ya and pateven though youre a jahvey looker', 'im good atomic number 73 bit hackneyed cos ive been wking all wkend but other than that all good hows you', 'having a good day at work lots of sales only boss is nether foot shes a nice person but i dont like the boss bugging me', 'geez why do u get to be so obvious', 'soaked in the rain in seconds and i wasnt even hiking miles with miles in the rain like last weekend', 'is deplorable when peoples phones are dead', 'twas a good show i even liked ciaras last song time for maine to go to bed gnight', 'non a heap hey just bout tu hit the sack its am here i need someone tu cuddle suck wbu x', 'they dont use msn either i dont think and they are thousands of mile away so cant do it face to face', 'eliza ohhhh that makes good sense then d and i need to reread the lotr trilogy i lost the three books a long time ago and im sad']\n",
      "['negative', 'negative', 'positive', 'neutral', 'neutral', 'negative', 'positive', 'negative', 'neutral', 'negative', 'neutral', 'neutral', 'positive', 'neutral', 'negative', 'neutral', 'neutral', 'positive', 'neutral', 'negative', 'neutral', 'positive', 'positive', 'neutral', 'neutral', 'neutral', 'neutral', 'negative', 'positive', 'negative', 'negative', 'negative']\n"
     ]
    }
   ],
   "source": [
    "print(aug_texts[:32])\n",
    "print(aug_labels[:32])"
   ]
  },
  {
   "cell_type": "code",
   "execution_count": 22,
   "id": "8523231e",
   "metadata": {},
   "outputs": [],
   "source": [
    "df_augmented = pd.DataFrame({\n",
    "    \"clean_text\": aug_texts,\n",
    "    \"sentiment\": aug_labels\n",
    "})"
   ]
  },
  {
   "cell_type": "code",
   "execution_count": 23,
   "id": "e4f24ca1",
   "metadata": {},
   "outputs": [],
   "source": [
    "df_combined_clean = pd.DataFrame({\n",
    "    \"clean_text\": df_combined[\"clean_text\"].copy().tolist(),\n",
    "    \"sentiment\": df_combined[\"sentiment\"].copy().tolist()\n",
    "})"
   ]
  },
  {
   "cell_type": "code",
   "execution_count": 24,
   "id": "6b6e002a",
   "metadata": {},
   "outputs": [],
   "source": [
    "df_result = pd.concat([df_augmented, df_combined_clean], ignore_index=True)\n",
    "\n",
    "df_result = df_result.sample(frac=1.0, random_state=42).reset_index(drop=True)"
   ]
  },
  {
   "cell_type": "code",
   "execution_count": 25,
   "id": "3648093f",
   "metadata": {},
   "outputs": [],
   "source": [
    "df_result.to_csv(\"sentiment_dataset_combined_augmented.csv\", index=False)"
   ]
  },
  {
   "cell_type": "code",
   "execution_count": 26,
   "id": "932e6d82",
   "metadata": {},
   "outputs": [],
   "source": [
    "#Uncomment this and comment the previous augmentation logic if you already have sentiment_dataset_combined_augmented.csv\n",
    "#df_result = pd.read_csv(filepath_or_buffer=\"./sentiment_dataset_combined_augmented.csv\")"
   ]
  },
  {
   "cell_type": "code",
   "execution_count": 27,
   "id": "ebfc8ec6",
   "metadata": {},
   "outputs": [
    {
     "name": "stdout",
     "output_type": "stream",
     "text": [
      "clean_text    0\n",
      "sentiment     0\n",
      "dtype: int64\n"
     ]
    }
   ],
   "source": [
    "print(df_result.isnull().sum())"
   ]
  },
  {
   "cell_type": "code",
   "execution_count": 28,
   "id": "f2e148ee",
   "metadata": {},
   "outputs": [],
   "source": [
    "df_result.dropna(how='all', inplace=True)\n",
    "df_result.reset_index(drop=True, inplace=True) \n",
    "df_result.fillna('UNK', inplace=True)"
   ]
  },
  {
   "cell_type": "code",
   "execution_count": 29,
   "id": "b18e0355",
   "metadata": {},
   "outputs": [
    {
     "name": "stdout",
     "output_type": "stream",
     "text": [
      "clean_text    0\n",
      "sentiment     0\n",
      "dtype: int64\n"
     ]
    }
   ],
   "source": [
    "print(df_result.isnull().sum())"
   ]
  },
  {
   "cell_type": "code",
   "execution_count": 30,
   "id": "9319d639",
   "metadata": {},
   "outputs": [
    {
     "name": "stdout",
     "output_type": "stream",
     "text": [
      "Training size: 41917\n",
      "Validation size: 8982\n",
      "Test size: 8983\n",
      "Sentiment distribution:\n",
      " sentiment\n",
      "neutral     12747\n",
      "positive     9851\n",
      "negative     8916\n",
      "Name: count, dtype: int64\n"
     ]
    }
   ],
   "source": [
    "df_train, df_temp = train_test_split(df_result, test_size=0.3, random_state=42)\n",
    "df_val, df_test = train_test_split(df_temp, test_size=0.5, random_state=42)\n",
    "\n",
    "print(\"Training size:\", len(df_train))\n",
    "print(\"Validation size:\", len(df_val))\n",
    "print(\"Test size:\", len(df_test))\n",
    "print(\"Sentiment distribution:\\n\", df_combined['sentiment'].value_counts())"
   ]
  },
  {
   "cell_type": "markdown",
   "id": "cb5826ab",
   "metadata": {},
   "source": [
    "### Building the model."
   ]
  },
  {
   "cell_type": "markdown",
   "id": "4176648e",
   "metadata": {},
   "source": [
    "#### Machine learning approaches - the baseline."
   ]
  },
  {
   "cell_type": "markdown",
   "id": "2e6a9d2a",
   "metadata": {},
   "source": [
    "Once again, we are starting with BoW + Naive Bayes as our baseline - what can we do, it crushed the competition the last time!\n",
    "\n",
    "However, let's test and see how well it performs on the current task..."
   ]
  },
  {
   "cell_type": "code",
   "execution_count": 31,
   "id": "1a9011b8",
   "metadata": {},
   "outputs": [
    {
     "data": {
      "text/html": [
       "<div>\n",
       "<style scoped>\n",
       "    .dataframe tbody tr th:only-of-type {\n",
       "        vertical-align: middle;\n",
       "    }\n",
       "\n",
       "    .dataframe tbody tr th {\n",
       "        vertical-align: top;\n",
       "    }\n",
       "\n",
       "    .dataframe thead th {\n",
       "        text-align: right;\n",
       "    }\n",
       "</style>\n",
       "<table border=\"1\" class=\"dataframe\">\n",
       "  <thead>\n",
       "    <tr style=\"text-align: right;\">\n",
       "      <th></th>\n",
       "      <th>clean_text</th>\n",
       "      <th>sentiment</th>\n",
       "    </tr>\n",
       "  </thead>\n",
       "  <tbody>\n",
       "    <tr>\n",
       "      <th>12618</th>\n",
       "      <td>im the bird with broken wings shes the strain ...</td>\n",
       "      <td>positive</td>\n",
       "    </tr>\n",
       "    <tr>\n",
       "      <th>48588</th>\n",
       "      <td>im baking cookies what are you doing</td>\n",
       "      <td>neutral</td>\n",
       "    </tr>\n",
       "    <tr>\n",
       "      <th>5999</th>\n",
       "      <td>because information technology like ten times ...</td>\n",
       "      <td>positive</td>\n",
       "    </tr>\n",
       "    <tr>\n",
       "      <th>13620</th>\n",
       "      <td>i need a java</td>\n",
       "      <td>neutral</td>\n",
       "    </tr>\n",
       "    <tr>\n",
       "      <th>35251</th>\n",
       "      <td>its sturdy being a thick chik</td>\n",
       "      <td>negative</td>\n",
       "    </tr>\n",
       "  </tbody>\n",
       "</table>\n",
       "</div>"
      ],
      "text/plain": [
       "                                              clean_text sentiment\n",
       "12618  im the bird with broken wings shes the strain ...  positive\n",
       "48588               im baking cookies what are you doing   neutral\n",
       "5999   because information technology like ten times ...  positive\n",
       "13620                                      i need a java   neutral\n",
       "35251                      its sturdy being a thick chik  negative"
      ]
     },
     "execution_count": 31,
     "metadata": {},
     "output_type": "execute_result"
    }
   ],
   "source": [
    "df_train.head()"
   ]
  },
  {
   "cell_type": "code",
   "execution_count": 32,
   "id": "f9f25775",
   "metadata": {},
   "outputs": [
    {
     "name": "stdout",
     "output_type": "stream",
     "text": [
      "Entries for training:  (41917, 28194)\n",
      "Entries for testing:  (8983, 28194)\n"
     ]
    }
   ],
   "source": [
    "from sklearn.feature_extraction.text import CountVectorizer\n",
    "from sklearn.naive_bayes import MultinomialNB\n",
    "from sklearn.metrics import classification_report, accuracy_score\n",
    "from sklearn.model_selection import train_test_split\n",
    "\n",
    "x_train_data = np.array(df_train['clean_text'])\n",
    "y_train_data = np.array(df_train['sentiment'])\n",
    "x_test_data = np.array(df_test['clean_text'])\n",
    "y_test_data = np.array(df_test['sentiment'])\n",
    "\n",
    "count_vectorizer = CountVectorizer()\n",
    "x_train = count_vectorizer.fit_transform(x_train_data)\n",
    "x_test = count_vectorizer.transform(x_test_data)\n",
    "\n",
    "\n",
    "print(\"Entries for training: \", x_train.shape)\n",
    "print(\"Entries for testing: \", x_test.shape)"
   ]
  },
  {
   "cell_type": "code",
   "execution_count": 33,
   "id": "ea513d22",
   "metadata": {},
   "outputs": [
    {
     "name": "stdout",
     "output_type": "stream",
     "text": [
      "              precision    recall  f1-score   support\n",
      "\n",
      "    negative       0.77      0.72      0.75      2541\n",
      "     neutral       0.72      0.77      0.75      3670\n",
      "    positive       0.80      0.78      0.79      2772\n",
      "\n",
      "    accuracy                           0.76      8983\n",
      "   macro avg       0.77      0.76      0.76      8983\n",
      "weighted avg       0.76      0.76      0.76      8983\n",
      "\n",
      "Accuracy:  0.7593231659801848\n"
     ]
    }
   ],
   "source": [
    "modelNB = MultinomialNB()\n",
    "modelNB.fit(x_train, y_train_data)\n",
    "\n",
    "y_pred = modelNB.predict(x_test)\n",
    "print(classification_report(y_test_data, y_pred))\n",
    "print(\"Accuracy: \", accuracy_score(y_test_data, y_pred))"
   ]
  },
  {
   "cell_type": "markdown",
   "id": "7f17c096",
   "metadata": {},
   "source": [
    "Oh wow! Look at the accuracy difference between BoW+Naive Bayes when we tried to classify languages and sentiment!\n",
    "\n",
    "But let's not panick - this is just the baseline. If we can not do better than this, and we **absolutely** can, then we will use BoW + Naive Bayes, but it is way too early to speak about this.\n",
    "\n",
    "When analyzing machine learning approaches, let's analyze them with BoW first, and then with TF-IDF just so that we do not have to repeat much code."
   ]
  },
  {
   "cell_type": "code",
   "execution_count": 34,
   "id": "34fb55ed",
   "metadata": {},
   "outputs": [
    {
     "name": "stdout",
     "output_type": "stream",
     "text": [
      "              precision    recall  f1-score   support\n",
      "\n",
      "    negative       0.82      0.77      0.79      2541\n",
      "     neutral       0.77      0.82      0.79      3670\n",
      "    positive       0.85      0.83      0.84      2772\n",
      "\n",
      "    accuracy                           0.81      8983\n",
      "   macro avg       0.81      0.81      0.81      8983\n",
      "weighted avg       0.81      0.81      0.81      8983\n",
      "\n",
      "Accuracy:  0.8078592897695648\n"
     ]
    }
   ],
   "source": [
    "from sklearn.linear_model import LogisticRegression\n",
    "modelLR = LogisticRegression(multi_class=\"multinomial\", solver=\"saga\", max_iter=1000)\n",
    "modelLR.fit(x_train, y_train_data)\n",
    "\n",
    "y_pred = modelLR.predict(x_test)\n",
    "print(classification_report(y_test_data, y_pred))\n",
    "print(\"Accuracy: \", accuracy_score(y_test_data, y_pred))"
   ]
  },
  {
   "cell_type": "markdown",
   "id": "ed2a2ef3",
   "metadata": {},
   "source": [
    "Great, we are already getting better at the accuracy with vanilla machine learning techniques! This was our BoW + Logistic Regression."
   ]
  },
  {
   "cell_type": "code",
   "execution_count": 35,
   "id": "96dbedd8",
   "metadata": {},
   "outputs": [
    {
     "name": "stdout",
     "output_type": "stream",
     "text": [
      "              precision    recall  f1-score   support\n",
      "\n",
      "    negative       0.79      0.68      0.73      2541\n",
      "     neutral       0.70      0.79      0.74      3670\n",
      "    positive       0.81      0.76      0.78      2772\n",
      "\n",
      "    accuracy                           0.75      8983\n",
      "   macro avg       0.76      0.74      0.75      8983\n",
      "weighted avg       0.76      0.75      0.75      8983\n",
      "\n",
      "Accuracy:  0.7505287765779807\n"
     ]
    }
   ],
   "source": [
    "from sklearn.linear_model import SGDClassifier\n",
    "modelSGD = SGDClassifier(loss='log_loss', max_iter=1000, tol=1e-3)\n",
    "modelSGD.fit(x_train, y_train_data)\n",
    "\n",
    "y_pred = modelSGD.predict(x_test)\n",
    "print(classification_report(y_test_data, y_pred))\n",
    "print(\"Accuracy: \", accuracy_score(y_test_data, y_pred))"
   ]
  },
  {
   "cell_type": "markdown",
   "id": "5ab434bb",
   "metadata": {},
   "source": [
    "So far so strong, let's get to TF-IDF approaches!"
   ]
  },
  {
   "cell_type": "code",
   "execution_count": 36,
   "id": "08d63c2c",
   "metadata": {},
   "outputs": [
    {
     "name": "stdout",
     "output_type": "stream",
     "text": [
      "Entries for training:  (41917, 28194)\n",
      "Entries for testing:  (8983, 28194)\n"
     ]
    }
   ],
   "source": [
    "from sklearn.feature_extraction.text import TfidfVectorizer\n",
    "\n",
    "\n",
    "x_train_data = np.array(df_train['clean_text'])\n",
    "y_train_data = np.array(df_train['sentiment'])\n",
    "x_test_data = np.array(df_test['clean_text'])\n",
    "y_test_data = np.array(df_test['sentiment'])\n",
    "\n",
    "tf_idf_vectorizer = TfidfVectorizer()\n",
    "x_train = tf_idf_vectorizer.fit_transform(x_train_data)\n",
    "x_test = tf_idf_vectorizer.transform(x_test_data)\n",
    "\n",
    "\n",
    "print(\"Entries for training: \", x_train.shape)\n",
    "print(\"Entries for testing: \", x_test.shape)"
   ]
  },
  {
   "cell_type": "code",
   "execution_count": 37,
   "id": "8f0fbb52",
   "metadata": {},
   "outputs": [
    {
     "name": "stdout",
     "output_type": "stream",
     "text": [
      "              precision    recall  f1-score   support\n",
      "\n",
      "    negative       0.86      0.55      0.67      2541\n",
      "     neutral       0.63      0.88      0.74      3670\n",
      "    positive       0.85      0.68      0.76      2772\n",
      "\n",
      "    accuracy                           0.73      8983\n",
      "   macro avg       0.78      0.71      0.72      8983\n",
      "weighted avg       0.76      0.73      0.73      8983\n",
      "\n",
      "Accuracy:  0.7281531782255372\n"
     ]
    }
   ],
   "source": [
    "modelNB = MultinomialNB()\n",
    "modelNB.fit(x_train, y_train_data)\n",
    "\n",
    "y_pred = modelNB.predict(x_test)\n",
    "print(classification_report(y_test_data, y_pred))\n",
    "print(\"Accuracy: \", accuracy_score(y_test_data, y_pred))"
   ]
  },
  {
   "cell_type": "code",
   "execution_count": 38,
   "id": "86e56381",
   "metadata": {},
   "outputs": [
    {
     "name": "stdout",
     "output_type": "stream",
     "text": [
      "              precision    recall  f1-score   support\n",
      "\n",
      "    negative       0.79      0.70      0.74      2541\n",
      "     neutral       0.71      0.80      0.75      3670\n",
      "    positive       0.83      0.77      0.80      2772\n",
      "\n",
      "    accuracy                           0.76      8983\n",
      "   macro avg       0.78      0.76      0.76      8983\n",
      "weighted avg       0.77      0.76      0.76      8983\n",
      "\n",
      "Accuracy:  0.7627741289101636\n"
     ]
    }
   ],
   "source": [
    "from sklearn.linear_model import LogisticRegression\n",
    "modelLR = LogisticRegression(multi_class=\"multinomial\", solver=\"saga\", max_iter=1000)\n",
    "modelLR.fit(x_train, y_train_data)\n",
    "\n",
    "y_pred = modelLR.predict(x_test)\n",
    "print(classification_report(y_test_data, y_pred))\n",
    "print(\"Accuracy: \", accuracy_score(y_test_data, y_pred))"
   ]
  },
  {
   "cell_type": "code",
   "execution_count": 39,
   "id": "fee98c7b",
   "metadata": {},
   "outputs": [
    {
     "name": "stdout",
     "output_type": "stream",
     "text": [
      "              precision    recall  f1-score   support\n",
      "\n",
      "    negative       0.76      0.58      0.65      2541\n",
      "     neutral       0.62      0.80      0.70      3670\n",
      "    positive       0.80      0.68      0.73      2772\n",
      "\n",
      "    accuracy                           0.70      8983\n",
      "   macro avg       0.73      0.68      0.70      8983\n",
      "weighted avg       0.72      0.70      0.70      8983\n",
      "\n",
      "Accuracy:  0.6985416898586219\n"
     ]
    }
   ],
   "source": [
    "from sklearn.linear_model import SGDClassifier\n",
    "modelSGD = SGDClassifier(loss='log_loss', max_iter=1000, tol=1e-3)\n",
    "modelSGD.fit(x_train, y_train_data)\n",
    "\n",
    "y_pred = modelSGD.predict(x_test)\n",
    "print(classification_report(y_test_data, y_pred))\n",
    "print(\"Accuracy: \", accuracy_score(y_test_data, y_pred))"
   ]
  },
  {
   "cell_type": "markdown",
   "id": "e4987d30",
   "metadata": {},
   "source": [
    "Okay, we have tried out 6 classic machine learning approaches as a combination of three algorithms: Naive Bayes, Logistic Regression and SGD - and two vectorizers: BoW and TF-IDF.\n",
    "\n",
    "These approaches are not very sophisticated, I might even say that they are too simple for our task, but you have seen it all yourself: they still perform well.\n",
    "\n",
    "Let's get to more interesting approaches!"
   ]
  },
  {
   "cell_type": "markdown",
   "id": "7bed34f1",
   "metadata": {},
   "source": [
    "#### Neural networks - preparation phase."
   ]
  },
  {
   "cell_type": "markdown",
   "id": "f0b0bb94",
   "metadata": {},
   "source": [
    "This is the preparation phase of data for our neural netwoks! Unlike machine-learning techniques, they often require specific handling (you saw that in the first part), which is why the data needs to be additionally worked with."
   ]
  },
  {
   "cell_type": "code",
   "execution_count": 40,
   "id": "3bcaecda",
   "metadata": {},
   "outputs": [],
   "source": [
    "import torch\n",
    "import torch.nn as nn\n",
    "import torch.nn.functional as F\n",
    "\n",
    "if torch.cuda.is_available:\n",
    "    device = 'cuda'\n",
    "else:\n",
    "    device = 'cpu'"
   ]
  },
  {
   "cell_type": "markdown",
   "id": "830a88db",
   "metadata": {},
   "source": [
    "Let's prepare the vocabulary. With the following code, we ensure that there is a minimal risk of typos getting into it."
   ]
  },
  {
   "cell_type": "code",
   "execution_count": 41,
   "id": "5804871a",
   "metadata": {},
   "outputs": [],
   "source": [
    "tokens = list()\n",
    "tokens.append(\"UNK\")\n",
    "tokens.append(\"PAD\")\n",
    "for item in list(count_vectorizer.vocabulary_):\n",
    "    count = count_vectorizer.vocabulary_[item]\n",
    "    if count > 5:\n",
    "        tokens.append(item)"
   ]
  },
  {
   "cell_type": "code",
   "execution_count": 42,
   "id": "a362239b",
   "metadata": {},
   "outputs": [
    {
     "name": "stdout",
     "output_type": "stream",
     "text": [
      "Sample values:\n",
      "['foxy', 'crazyyy', 'dayem', 'discriminating', 'plainly', 'relocation', 'crossfit', 'hotok', 'blagh', 'eeek']\n",
      "VOCABULARY LENGTH:  28190\n",
      "\n",
      "SAMPLE ID OF PAD:  1\n"
     ]
    }
   ],
   "source": [
    "token_to_id = {token: id for id, token in enumerate(tokens)}\n",
    "print(\"Sample values:\")\n",
    "print(tokens[-10:])\n",
    "print(\"VOCABULARY LENGTH: \", len(list(token_to_id)))\n",
    "print()\n",
    "print(\"SAMPLE ID OF PAD: \", token_to_id['PAD'])"
   ]
  },
  {
   "cell_type": "markdown",
   "id": "124e3b58",
   "metadata": {},
   "source": [
    "Uh-Oh! We can see a lot of *domain-specific* words and typos, even in this list of 10 last words in the vocabulary.\n",
    "\n",
    "Here is one of the most interesting things about the preparation phase that we have skipped in the first part, because the language there was quite broad: training the model on the set of words that is present in the training dataset or training it on a general word embedding.\n",
    "\n",
    "On one hand, training on a general word embedding, such as Word2Vec could be a plus, since it knows much more about the \"meaning\" of the words. However, since our data is received from twitter, we might end up skipping a lot of domain-specific words there, which is quite bad. There is also the issue of meaning of words in general use / slang.\n",
    "\n",
    "On the other hand, we could train the embedding ourselves, using the words in our dataset and using the Embedding layer, as we did previously with LSTMs and the CNN neural networks. However, then, if we try to classify a sentence that is quite general in its meaning, our model might miss some words, which is not a preferable outcome.\n",
    "\n",
    "In this case, we will **fine-tune pre-trained embeddings**! This allows for general language understanding and for our dataset slang."
   ]
  },
  {
   "cell_type": "markdown",
   "id": "39a8bf01",
   "metadata": {},
   "source": [
    "Now we should choose which general embedding to choose from. There are multiple embeddings, but a lot of them have a *huge* vocabulary which would slow down training of the model immensely. Because of that, we are going to use [this embedding](https://levyomer.wordpress.com/2014/04/25/dependency-based-word-embeddings/), (the k = 5 BoW one), since it has around 175K tokens in its vocabulary.\n",
    "\n",
    "Now, we *could* use the dependency-based approach, as described in [this paper](https://levyomer.wordpress.com/wp-content/uploads/2014/04/dependency-based-word-embeddings-acl-2014.pdf) by the same author, but since our twitter data is domain-specific, we most likely do not want to get anything more sophisticated than a BoW based Word2Vec embedding."
   ]
  },
  {
   "cell_type": "code",
   "execution_count": 43,
   "id": "e2b31c56",
   "metadata": {},
   "outputs": [],
   "source": [
    "def convert_words_to_vec_format(input_path, output_path):\n",
    "    with open(input_path, 'r', encoding='utf-8') as infile:\n",
    "        lines = infile.readlines()\n",
    "\n",
    "    vocab_size = len(lines)\n",
    "    embedding_dim = len(lines[0].split()) - 1\n",
    "\n",
    "    with open(output_path, 'w', encoding='utf-8') as outfile:\n",
    "        outfile.write(f\"{vocab_size} {embedding_dim}\\n\")\n",
    "        outfile.writelines(lines)"
   ]
  },
  {
   "cell_type": "code",
   "execution_count": 44,
   "id": "090030c4",
   "metadata": {},
   "outputs": [],
   "source": [
    "#Used to convert a file to .vec, uncomment if you do not have the file already.\n",
    "#convert_words_to_vec_format(\"./bow5.words\", \"./bow5.vec\")"
   ]
  },
  {
   "cell_type": "code",
   "execution_count": 45,
   "id": "55c04f65",
   "metadata": {},
   "outputs": [],
   "source": [
    "from gensim.models import KeyedVectors\n",
    "gen_emb = KeyedVectors.load_word2vec_format(\"./bow5.vec\")"
   ]
  },
  {
   "cell_type": "code",
   "execution_count": 46,
   "id": "0da5fa7c",
   "metadata": {},
   "outputs": [
    {
     "name": "stdout",
     "output_type": "stream",
     "text": [
      "(300,)\n"
     ]
    }
   ],
   "source": [
    "print(gen_emb['hello'].shape)"
   ]
  },
  {
   "cell_type": "code",
   "execution_count": 47,
   "id": "10501d0a",
   "metadata": {},
   "outputs": [
    {
     "name": "stdout",
     "output_type": "stream",
     "text": [
      "[-5.08556627e-02  2.78512146e-02  2.86401957e-02  2.14692764e-02\n",
      "  2.26632715e-03 -1.22125156e-01  1.23387389e-02 -6.25858381e-02\n",
      " -9.76038072e-03  7.18502980e-03  3.71744297e-02  3.90507765e-02\n",
      " -9.72429756e-03  2.91236234e-03 -2.36143991e-02 -4.71700449e-03\n",
      "  1.77086025e-01 -3.48160416e-03  5.13356216e-02  1.30698942e-02\n",
      " -5.01911230e-02  8.02432075e-02 -1.53841013e-02 -9.04305726e-02\n",
      " -1.06222238e-02  7.67086297e-02  2.70946156e-02 -1.34386405e-01\n",
      " -3.99325090e-03 -6.84979931e-02 -1.09571069e-01 -6.09551370e-02\n",
      " -1.82694010e-02  5.28469682e-02 -3.68688740e-02  1.48541816e-02\n",
      "  4.57477532e-02 -5.06706163e-02 -6.93077967e-02  3.80256325e-02\n",
      " -2.44121701e-02  1.65732410e-02  2.61569042e-02 -6.34462908e-02\n",
      " -8.03405866e-02 -8.93258601e-02  1.84072591e-02  4.65189219e-02\n",
      "  1.26019642e-01  4.45810482e-02 -5.11535816e-02  4.83311992e-03\n",
      "  8.81075785e-02  9.41943675e-02  1.88201386e-02 -5.28120399e-02\n",
      "  1.44947797e-01  4.79201674e-02 -3.11935730e-02  7.02135861e-02\n",
      "  8.10472220e-02 -4.11630515e-03 -2.31418423e-02 -1.02888666e-01\n",
      " -1.79423355e-02  2.12546252e-03  2.65866704e-02 -1.18037304e-02\n",
      "  7.85280764e-03  3.47149633e-02 -9.45547447e-02 -3.14251101e-03\n",
      "  1.61610097e-01  3.12433038e-02  6.59700632e-02 -5.60396723e-02\n",
      " -2.75715662e-04 -7.60184182e-03  1.05565332e-01 -3.05646546e-02\n",
      " -5.23792692e-02  2.80420408e-02  7.43509382e-02  3.92443761e-02\n",
      "  4.83480841e-02  1.18432134e-01  1.55962082e-02  4.12780121e-02\n",
      " -8.28608871e-02 -9.49993171e-03  8.06375779e-03  5.42003326e-02\n",
      " -7.75216669e-02 -1.05750374e-02  1.01404148e-03 -6.87383190e-02\n",
      " -3.89027409e-02  7.71948323e-02  2.93826852e-02 -4.16418537e-02\n",
      " -4.74415980e-02  5.52939437e-02  2.44845692e-02 -6.85583651e-02\n",
      "  3.03095244e-02 -9.20918118e-03 -4.02334370e-02 -2.66863629e-02\n",
      "  7.51940459e-02 -3.95036712e-02  3.50912940e-03 -3.75197679e-02\n",
      " -5.74536398e-02 -6.02170415e-02 -9.35226604e-02  8.36838689e-03\n",
      "  4.62547727e-02  8.16766024e-02  3.57040204e-02 -4.99586612e-02\n",
      " -7.78464228e-02 -2.44450159e-02 -3.40106376e-02 -5.36278524e-02\n",
      " -6.88183531e-02  1.29399002e-02  5.60521632e-02 -1.08534828e-01\n",
      " -1.38838798e-01  4.30377796e-02  9.84968767e-02 -2.21858583e-02\n",
      " -1.07058175e-01 -2.63819639e-02  2.92339567e-02  4.98647522e-03\n",
      "  4.73326556e-02 -3.48345464e-04 -7.62492567e-02 -9.27602779e-03\n",
      " -1.25427498e-02  5.31039461e-02 -2.20225584e-02 -4.34599118e-03\n",
      "  2.13399753e-02 -2.44096271e-03  2.57072467e-02  7.79234469e-02\n",
      " -4.15083915e-02  4.73139174e-02  7.10310191e-02  3.26232687e-02\n",
      " -6.88178884e-03 -5.78655936e-02  1.32458016e-01 -6.21061102e-02\n",
      " -8.27715993e-02  6.15960807e-02 -1.45726828e-02  5.75431548e-02\n",
      " -3.65670212e-02 -7.30808452e-02 -1.03657760e-01 -5.00585847e-02\n",
      " -1.80216730e-02  1.17370680e-01  9.54313874e-02  8.69131163e-02\n",
      "  6.21701824e-03  1.05306264e-02  7.07446598e-03 -1.15927793e-02\n",
      "  7.55224973e-02  5.15081733e-02  2.18384378e-02  1.05130477e-02\n",
      "  2.15014275e-02  3.60072628e-02 -7.95287043e-02  9.05998889e-03\n",
      "  4.04820926e-02 -4.23464105e-02 -1.36962682e-02 -3.56774218e-02\n",
      "  5.87353017e-03  1.00879550e-01 -5.78262727e-04  5.82014509e-02\n",
      "  3.06909475e-02  4.19864990e-03  5.49978726e-02 -3.97844762e-02\n",
      " -7.81265348e-02  6.20036433e-03  7.99436644e-02  5.45678772e-02\n",
      "  2.07189228e-02 -1.12661766e-02 -3.24909650e-02  5.04397750e-02\n",
      "  3.44371647e-02 -1.90130472e-02  6.75644502e-02  1.34834900e-01\n",
      " -2.55055502e-02 -1.12814896e-01  7.28479177e-02  3.32662975e-03\n",
      " -5.81612028e-02  1.02216497e-01 -4.31756377e-02  9.00970325e-02\n",
      " -4.57100496e-02  3.50751020e-02  7.08732679e-02  2.50385441e-02\n",
      "  1.03904558e-02  1.36774629e-01 -8.49514175e-03 -1.57205120e-01\n",
      " -5.36303967e-03 -5.92603628e-03  3.78283300e-02 -4.55208402e-03\n",
      " -6.32457482e-03  1.55165926e-01  5.51114455e-02 -6.82555884e-02\n",
      " -7.55604310e-03  9.64743420e-02 -4.68661115e-02 -6.73560426e-02\n",
      "  1.36784576e-02 -4.68725897e-02 -2.73314714e-02 -6.07455745e-02\n",
      "  5.13314568e-02 -2.79677920e-02 -5.11045456e-02 -6.96413359e-03\n",
      " -5.37157506e-02 -3.90510075e-02 -9.69704986e-02 -6.55414537e-02\n",
      " -4.53815944e-02  6.12525940e-02  3.83443683e-02 -3.89529318e-02\n",
      "  1.46601163e-02 -6.59344420e-02 -3.12974304e-02  3.98837067e-02\n",
      "  4.45875265e-02 -2.92573180e-02  7.18803704e-03  7.62358448e-03\n",
      " -7.28951022e-02 -4.16184925e-02 -3.88779901e-02  6.27923906e-02\n",
      " -5.26281521e-02  3.57377939e-02  9.09348205e-02  2.74017882e-02\n",
      " -4.39239107e-02 -3.39100212e-02  3.18007506e-02 -4.85507064e-02\n",
      " -1.47901788e-01 -9.99145489e-03  6.17237613e-02  1.47572646e-04\n",
      " -3.90940309e-02  4.55978662e-02  2.71906070e-02  5.75318225e-02\n",
      "  2.12939456e-03 -2.37927362e-02  3.26410793e-02  3.30726951e-02\n",
      "  4.32114899e-02  6.05695508e-02 -8.63986984e-02 -1.77232902e-02\n",
      "  2.31286585e-02 -4.20397008e-03 -1.76013913e-02 -1.17880013e-02\n",
      "  1.08138137e-01 -3.33192684e-02 -7.26297945e-02  1.99271645e-02\n",
      "  3.85250188e-02  2.39632074e-02  1.13730403e-02  1.68114845e-02\n",
      " -3.86908650e-02 -4.03326675e-02 -4.25439440e-02 -7.95643218e-03]\n"
     ]
    }
   ],
   "source": [
    "print(gen_emb.get_vector('hello'))"
   ]
  },
  {
   "cell_type": "markdown",
   "id": "691b0399",
   "metadata": {},
   "source": [
    "Great! Our pre-trained embedding is here and running.\n",
    "\n",
    "Now, how are we going to use this? There are a couple of approaches:\n",
    "\n",
    "1. Look up each word from `tokens` in the pre-trained embedding and assemble into a matrix. This is nice and allows the NN to generalize a bit better than having only seen the random vectors initially, but does not counter this problem: if we have the word \"penguin\" in our query during inference, and if the model has **not** seen it during training, we will have to use the **UNK** token to replace the word, and we have to minimize the possibility of ever using that!\n",
    "\n",
    "2. Add K-top words from the pre-trained embedding to ours. Considering that our embedding consists of ~30.000 words, we can add the same amount to the vocabulary and use that. This works nicely, but increases the size of the vocab. This is probably its only downside, as even if the model does not see the words from the pre-trained embedding during training, we can still get the vectors from it, and it will be better than assigning the **UNK** token.\n",
    "\n",
    "3. Use **sub-word tokenization**. This is quite a complicate technique, which we probably won't use, but we should mention it here. Sub-word tokenization is when we tokenize the text now word-by-word, but into pieces of words. For example, tokenizing `\"Hello world\"` with normal tokenization will result in an array of `[\"Hello\", \"world\"]`. However, if we use sub-word tokenization, it might look something like this: `[\"He\", \"llo\", \"wo\" \"rld\"]`. This works well, because even if we have not seen the word, we *might* have seen some pieces of it, and that would help us make predictions. *Fun fact: this is the type of tokenization used by the big guys, such as BERT and ChatGPT!*\n",
    "\n",
    "In the following models we will use the second approach, as the third one is quite complex and the first one is simply not complex enough. However, we *might* try it if we have to use transfer learning to get an adequate accuracy (which I hope we can achieve by building our own models)."
   ]
  },
  {
   "cell_type": "code",
   "execution_count": 48,
   "id": "6ecc99dd",
   "metadata": {},
   "outputs": [],
   "source": [
    "tokens_gen = list()\n",
    "for key in gen_emb.key_to_index.keys():\n",
    "    tokens_gen.append(key)"
   ]
  },
  {
   "cell_type": "code",
   "execution_count": 49,
   "id": "1bc9b97b",
   "metadata": {},
   "outputs": [],
   "source": [
    "for token in tokens_gen[:50000]:\n",
    "    if token not in tokens:\n",
    "        tokens.append(token)"
   ]
  },
  {
   "cell_type": "code",
   "execution_count": 50,
   "id": "efa30ffe",
   "metadata": {},
   "outputs": [
    {
     "name": "stdout",
     "output_type": "stream",
     "text": [
      "Sample values:\n",
      "['jochen', 'eyeball', 'stockdale', 'copycat', 'culp', 'coriander', 'outliers', 'piaget', 'distillers', \"o'farrell\"]\n",
      "VOCABULARY LENGTH:  64218\n",
      "\n",
      "SAMPLE ID OF PAD:  1\n"
     ]
    }
   ],
   "source": [
    "token_to_id = {token: id for id, token in enumerate(tokens)}\n",
    "print(\"Sample values:\")\n",
    "print(tokens[-10:])\n",
    "print(\"VOCABULARY LENGTH: \", len(list(token_to_id)))\n",
    "print()\n",
    "print(\"SAMPLE ID OF PAD: \", token_to_id['PAD'])"
   ]
  },
  {
   "cell_type": "code",
   "execution_count": 87,
   "id": "f0d0ee54",
   "metadata": {},
   "outputs": [],
   "source": [
    "import pickle\n",
    "\n",
    "with open(\"tokenizer_data.pkl\", \"wb\") as f:\n",
    "    pickle.dump((tokens, token_to_id), f)"
   ]
  },
  {
   "cell_type": "markdown",
   "id": "2ceb4660",
   "metadata": {},
   "source": [
    "Okay, we can see that there *were* some duplicates in the vocabulary, but now we have 64.763 unique tokens. This is way better than the initial 26.000 we have started with.\n",
    "\n",
    "Now, let's build our embedding matrix."
   ]
  },
  {
   "cell_type": "code",
   "execution_count": 52,
   "id": "adc68ee2",
   "metadata": {},
   "outputs": [],
   "source": [
    "vocab_size = len(tokens)\n",
    "embedding_matrix = np.zeros((vocab_size, 300)) #300 is the dimension of the embedding!\n",
    "for word, idx in token_to_id.items():\n",
    "    if word in gen_emb:\n",
    "        embedding_matrix[idx] = gen_emb.get_vector(word)\n",
    "    else:\n",
    "        embedding_matrix[idx] = np.random.normal(scale=0.6, size=(300, ))"
   ]
  },
  {
   "cell_type": "markdown",
   "id": "edb07c88",
   "metadata": {},
   "source": [
    "Awesome! Now we have a matrix full of embeddings that we can use to train our model (and to fine-tune the embeddings themselves!)"
   ]
  },
  {
   "cell_type": "markdown",
   "id": "f4c06903",
   "metadata": {},
   "source": [
    "##### Method re-implementation\n",
    "\n",
    "We need to re-implement some methods from the first part here so that our models can run properly. Do not worry, if you have read the first part - you can safely skip this. The logic in the methods is almost the same except for the columns."
   ]
  },
  {
   "cell_type": "code",
   "execution_count": 53,
   "id": "1b1d021b",
   "metadata": {},
   "outputs": [],
   "source": [
    "UNK_IX, PAD_IX = map(token_to_id.get, [\"UNK\", \"PAD\"])\n",
    "\n",
    "def as_matrix(sequences, max_len=None):\n",
    "    \"\"\" Convert a list of tokens into a matrix with padding \"\"\"\n",
    "    if isinstance(sequences[0], str):\n",
    "        sequences = list(map(str.split, sequences))\n",
    "        \n",
    "    max_len = min(max(map(len, sequences)), max_len or float('inf'))\n",
    "    \n",
    "    matrix = np.full((len(sequences), max_len), np.int32(PAD_IX))\n",
    "    for i,seq in enumerate(sequences):\n",
    "        row_ix = [token_to_id.get(word, UNK_IX) for word in seq[:max_len]]\n",
    "        matrix[i, :len(row_ix)] = row_ix\n",
    "    \n",
    "    return matrix"
   ]
  },
  {
   "cell_type": "code",
   "execution_count": 54,
   "id": "1d69bc40",
   "metadata": {},
   "outputs": [],
   "source": [
    "def to_tensors(batch, device):\n",
    "    batch_tensors = dict()\n",
    "    for key, arr in batch.items():\n",
    "        if key == 'clean_text' or key == 'sentiment':\n",
    "            batch_tensors[key] = torch.tensor(arr, device=device, dtype=torch.int64)\n",
    "        else:\n",
    "            batch_tensors[key] = torch.tensor(arr, device=device)\n",
    "    return batch_tensors"
   ]
  },
  {
   "cell_type": "code",
   "execution_count": 55,
   "id": "569af789",
   "metadata": {},
   "outputs": [],
   "source": [
    "def apply_word_dropout(matrix, keep_prop, replace_with=UNK_IX, pad_ix=PAD_IX,):\n",
    "    dropout_mask = np.random.choice(2, np.shape(matrix), p=[keep_prop, 1 - keep_prop]).astype(np.float32)\n",
    "    dropout_mask &= matrix != pad_ix\n",
    "    return np.choose(dropout_mask, [matrix, np.full_like(matrix, replace_with)])"
   ]
  },
  {
   "cell_type": "code",
   "execution_count": 56,
   "id": "e46eddea",
   "metadata": {},
   "outputs": [],
   "source": [
    "def make_batch(data, max_len=None, word_dropout=0, device=device):\n",
    "    batch = {}\n",
    "    batch['clean_text'] = as_matrix(data['clean_text'].values, max_len)\n",
    "\n",
    "    if word_dropout != 0:\n",
    "        batch['clean_text'] = apply_word_dropout(batch['clean_text'], 1. - word_dropout)\n",
    "    \n",
    "    if 'sentiment_id' in data.columns:\n",
    "        batch['sentiment'] = data['sentiment_id'].values\n",
    "    return to_tensors(batch, device)"
   ]
  },
  {
   "cell_type": "code",
   "execution_count": 57,
   "id": "bed00c55",
   "metadata": {},
   "outputs": [
    {
     "name": "stdout",
     "output_type": "stream",
     "text": [
      "Total sentiments in train dataset:  [2 1 0]\n",
      "Total sentiments in test dataset:  [1 0 2]\n",
      "Total classes in train dataset:  ['positive' 'neutral' 'negative']\n",
      "Total classes in test dataset:  ['neutral' 'negative' 'positive']\n"
     ]
    }
   ],
   "source": [
    "from sklearn.preprocessing import LabelEncoder\n",
    "\n",
    "le = LabelEncoder()\n",
    "\n",
    "df_train['sentiment_id'] = le.fit_transform(df_train['sentiment'])\n",
    "df_test['sentiment_id'] = le.transform(df_test['sentiment'])\n",
    "df_val['sentiment_id'] = le.transform(df_val['sentiment'])\n",
    "\n",
    "\n",
    "make_batch(df_train[:3], max_len=10)\n",
    "print(\"Total sentiments in train dataset: \", df_train['sentiment_id'].unique())\n",
    "print(\"Total sentiments in test dataset: \", df_test['sentiment_id'].unique())\n",
    "print(\"Total classes in train dataset: \", df_train['sentiment'].unique())\n",
    "print(\"Total classes in test dataset: \", df_test['sentiment'].unique())"
   ]
  },
  {
   "cell_type": "code",
   "execution_count": 58,
   "id": "38aa956b",
   "metadata": {},
   "outputs": [],
   "source": [
    "def iterate_minibatches(data, batch_size=256, shuffle=True, cycle=False, device=device, **kwargs):\n",
    "    while True:\n",
    "        indices = np.arange(len(data))\n",
    "        if shuffle:\n",
    "            indices = np.random.permutation(indices)\n",
    "\n",
    "        for start in range(0, len(indices), batch_size):\n",
    "            batch = make_batch(data.iloc[indices[start : start + batch_size]], device=device, **kwargs)\n",
    "            yield batch\n",
    "        \n",
    "        if not cycle: break"
   ]
  },
  {
   "cell_type": "code",
   "execution_count": 59,
   "id": "982b5360",
   "metadata": {},
   "outputs": [],
   "source": [
    "from tqdm.auto import tqdm\n",
    "from torch.amp import autocast, GradScaler"
   ]
  },
  {
   "cell_type": "code",
   "execution_count": 60,
   "id": "3dc39c59",
   "metadata": {},
   "outputs": [],
   "source": [
    "def evaluate_model(model, data_test, batch_size, criterion=None):\n",
    "    model.eval()\n",
    "    test_correct = 0\n",
    "    test_examples = 0\n",
    "    total_val_loss = 0\n",
    "    avg_val_loss = 0\n",
    "    with torch.no_grad():\n",
    "        for i, batch in tqdm(enumerate(iterate_minibatches(data_test, batch_size, device=device, shuffle=False)), total=len(data_test) // batch_size):\n",
    "            out_data = model(batch['clean_text'])\n",
    "            targets = batch['sentiment']\n",
    "            if criterion:\n",
    "               loss = criterion(out_data, targets)\n",
    "            predictions = torch.argmax(out_data, dim=1)\n",
    "            test_correct += (predictions == targets).sum().item()\n",
    "            test_examples += targets.size(0)\n",
    "            if criterion:\n",
    "                total_val_loss += loss.item()\n",
    "    test_accuracy = test_correct / test_examples\n",
    "    if criterion:\n",
    "        avg_val_loss = total_val_loss / test_examples\n",
    "    return test_accuracy, avg_val_loss"
   ]
  },
  {
   "cell_type": "code",
   "execution_count": 61,
   "id": "0d840dbf",
   "metadata": {},
   "outputs": [],
   "source": [
    "def train_model(epochs, model, scaler, criterion, optimizer, data_train, data_val, batch_size, scheduler=None, num_unfreeze=3):\n",
    "    #############################################################################\n",
    "    ### Returns last_accuracy, total_accuracy, total_loss, total_val_accuracy ###\n",
    "    #############################################################################\n",
    "    total_loss = list()\n",
    "    total_accuracy = list()\n",
    "    total_val_accuracy = list()\n",
    "    for epoch in range(epochs):\n",
    "        total_correct = 0\n",
    "        total_examples = 0\n",
    "        total_loss_epoch = 0\n",
    "        if epoch == num_unfreeze:\n",
    "            model.embedding.weight.requires_grad = True\n",
    "        print(f\"epoch: \", {epoch})\n",
    "        model.train()\n",
    "        for i, batch in tqdm(enumerate(iterate_minibatches(data_train, batch_size, device=device)), total=len(data_train) // batch_size):\n",
    "            optimizer.zero_grad()\n",
    "            targets = batch['sentiment']\n",
    "            with autocast(device_type=device):\n",
    "                logits = model(batch['clean_text'])\n",
    "                loss = criterion(logits, targets)\n",
    "                scaler.scale(loss).backward()\n",
    "                scaler.step(optimizer)\n",
    "                scaler.update()\n",
    "            predictions = torch.argmax(logits, dim=1)\n",
    "            correct = (predictions == targets).sum().item()\n",
    "            total_loss_epoch += loss.item()\n",
    "            total_correct = total_correct + correct\n",
    "            total_examples += targets.size(0)\n",
    "\n",
    "        validation_accuracy, validation_loss = evaluate_model(model, data_val, batch_size, criterion)\n",
    "\n",
    "        epoch_loss = total_loss_epoch / total_examples\n",
    "        epoch_accuracy = total_correct / total_examples\n",
    "        total_loss.append(total_loss_epoch)\n",
    "        total_accuracy.append(epoch_accuracy)\n",
    "        total_val_accuracy.append(validation_accuracy)\n",
    "        if scheduler:\n",
    "            scheduler.step(validation_loss)\n",
    "        print(f\"Epoch {epoch + 1}: Loss = {epoch_loss:.4f}, Accuracy = {epoch_accuracy:.4f}, Val_accuracy = {validation_accuracy:.4f}, Val_loss = {validation_loss:.4f}\")\n",
    "    return epoch_accuracy, total_accuracy, total_loss, total_val_accuracy"
   ]
  },
  {
   "cell_type": "markdown",
   "id": "6586c84a",
   "metadata": {},
   "source": [
    "Everyting looks good! We have the following labels to work with:\n",
    "\n",
    "0. Negative\n",
    "1. Neutral\n",
    "2. Positive\n",
    "\n",
    "Let's build the first model!"
   ]
  },
  {
   "cell_type": "markdown",
   "id": "6272cdd0",
   "metadata": {},
   "source": [
    "#### 1D Convolutional Neural Network."
   ]
  },
  {
   "cell_type": "markdown",
   "id": "e47fc514",
   "metadata": {},
   "source": [
    "Just like in the first notebook, we will try the least sophisticated NN model first. Why is this the least sophisticated? The answer is quite simple: it does not require any attention mechanisms, LSTMs or positional encodings."
   ]
  },
  {
   "cell_type": "code",
   "execution_count": 62,
   "id": "ebe51740",
   "metadata": {},
   "outputs": [],
   "source": [
    "class SentimentClassifierCNN(nn.Module):\n",
    "    def __init__(self, vocabulary_dim, embedding_matrix, num_sentiments=3):\n",
    "        super().__init__()\n",
    "        self.embedding = nn.Embedding(vocabulary_dim, 300)\n",
    "        self.embedding.weight.data.copy_(torch.from_numpy(embedding_matrix))\n",
    "        self.embedding.weight.requires_grad = False\n",
    "        self.embedding_dropout = nn.Dropout(0.5)\n",
    "        self.conv1 = nn.Conv1d(300, 256, 7)\n",
    "        self.pool1 = nn.AdaptiveAvgPool1d(output_size=128)\n",
    "        self.conv2 = nn.Conv1d(256, 128, 5)\n",
    "        self.pool2 = nn.AdaptiveAvgPool1d(output_size=64)\n",
    "        self.conv3 = nn.Conv1d(128, 64, 3)\n",
    "        self.pool3 = nn.AdaptiveAvgPool1d(output_size=32)\n",
    "\n",
    "        self.dropout_conv = nn.Dropout(0.3)\n",
    "\n",
    "        self.fc1 = nn.Linear(in_features=(32 * 64), out_features=64)\n",
    "        self.fc2 = nn.Linear(in_features=64, out_features=num_sentiments)\n",
    "\n",
    "    def forward(self, x):\n",
    "        x = self.embedding(x)\n",
    "        x = self.embedding_dropout(x)\n",
    "        x = x.transpose(1, 2)\n",
    "\n",
    "        x = self.pool1(F.relu(self.conv1(x)))\n",
    "        x = self.pool2(F.relu(self.conv2(x)))\n",
    "        x = self.pool3(F.relu(self.conv3(x)))\n",
    "        x = self.dropout_conv(x)\n",
    "\n",
    "        x = x.view(x.size(0), -1)\n",
    "        x = F.relu(self.fc1(x))\n",
    "        x = self.fc2(x)\n",
    "        return x"
   ]
  },
  {
   "cell_type": "code",
   "execution_count": 63,
   "id": "f8ef35e8",
   "metadata": {},
   "outputs": [
    {
     "data": {
      "text/html": [
       "<div>\n",
       "<style scoped>\n",
       "    .dataframe tbody tr th:only-of-type {\n",
       "        vertical-align: middle;\n",
       "    }\n",
       "\n",
       "    .dataframe tbody tr th {\n",
       "        vertical-align: top;\n",
       "    }\n",
       "\n",
       "    .dataframe thead th {\n",
       "        text-align: right;\n",
       "    }\n",
       "</style>\n",
       "<table border=\"1\" class=\"dataframe\">\n",
       "  <thead>\n",
       "    <tr style=\"text-align: right;\">\n",
       "      <th></th>\n",
       "      <th>clean_text</th>\n",
       "      <th>sentiment</th>\n",
       "      <th>sentiment_id</th>\n",
       "    </tr>\n",
       "  </thead>\n",
       "  <tbody>\n",
       "    <tr>\n",
       "      <th>12618</th>\n",
       "      <td>im the bird with broken wings shes the strain ...</td>\n",
       "      <td>positive</td>\n",
       "      <td>2</td>\n",
       "    </tr>\n",
       "    <tr>\n",
       "      <th>48588</th>\n",
       "      <td>im baking cookies what are you doing</td>\n",
       "      <td>neutral</td>\n",
       "      <td>1</td>\n",
       "    </tr>\n",
       "    <tr>\n",
       "      <th>5999</th>\n",
       "      <td>because information technology like ten times ...</td>\n",
       "      <td>positive</td>\n",
       "      <td>2</td>\n",
       "    </tr>\n",
       "    <tr>\n",
       "      <th>13620</th>\n",
       "      <td>i need a java</td>\n",
       "      <td>neutral</td>\n",
       "      <td>1</td>\n",
       "    </tr>\n",
       "    <tr>\n",
       "      <th>35251</th>\n",
       "      <td>its sturdy being a thick chik</td>\n",
       "      <td>negative</td>\n",
       "      <td>0</td>\n",
       "    </tr>\n",
       "  </tbody>\n",
       "</table>\n",
       "</div>"
      ],
      "text/plain": [
       "                                              clean_text sentiment  \\\n",
       "12618  im the bird with broken wings shes the strain ...  positive   \n",
       "48588               im baking cookies what are you doing   neutral   \n",
       "5999   because information technology like ten times ...  positive   \n",
       "13620                                      i need a java   neutral   \n",
       "35251                      its sturdy being a thick chik  negative   \n",
       "\n",
       "       sentiment_id  \n",
       "12618             2  \n",
       "48588             1  \n",
       "5999              2  \n",
       "13620             1  \n",
       "35251             0  "
      ]
     },
     "execution_count": 63,
     "metadata": {},
     "output_type": "execute_result"
    }
   ],
   "source": [
    "df_train.head()"
   ]
  },
  {
   "cell_type": "code",
   "execution_count": 64,
   "id": "f60e2686",
   "metadata": {},
   "outputs": [
    {
     "name": "stdout",
     "output_type": "stream",
     "text": [
      "epoch:  {0}\n"
     ]
    },
    {
     "name": "stderr",
     "output_type": "stream",
     "text": [
      "328it [00:04, 78.03it/s]                          \n",
      "71it [00:00, 197.50it/s]                        \n"
     ]
    },
    {
     "name": "stdout",
     "output_type": "stream",
     "text": [
      "Epoch 1: Loss = 0.0082, Accuracy = 0.4448, Val_accuracy = 0.5134, Val_loss = 0.0078\n",
      "epoch:  {1}\n"
     ]
    },
    {
     "name": "stderr",
     "output_type": "stream",
     "text": [
      "328it [00:02, 114.46it/s]                         \n",
      "71it [00:00, 267.86it/s]                        \n"
     ]
    },
    {
     "name": "stdout",
     "output_type": "stream",
     "text": [
      "Epoch 2: Loss = 0.0077, Accuracy = 0.5073, Val_accuracy = 0.5469, Val_loss = 0.0073\n",
      "epoch:  {2}\n"
     ]
    },
    {
     "name": "stderr",
     "output_type": "stream",
     "text": [
      "328it [00:02, 113.64it/s]                         \n",
      "71it [00:00, 256.09it/s]                        \n"
     ]
    },
    {
     "name": "stdout",
     "output_type": "stream",
     "text": [
      "Epoch 3: Loss = 0.0073, Accuracy = 0.5531, Val_accuracy = 0.5821, Val_loss = 0.0070\n",
      "epoch:  {3}\n"
     ]
    },
    {
     "name": "stderr",
     "output_type": "stream",
     "text": [
      "328it [00:02, 113.06it/s]                         \n",
      "71it [00:00, 269.36it/s]                        \n"
     ]
    },
    {
     "name": "stdout",
     "output_type": "stream",
     "text": [
      "Epoch 4: Loss = 0.0069, Accuracy = 0.5831, Val_accuracy = 0.6109, Val_loss = 0.0067\n",
      "epoch:  {4}\n"
     ]
    },
    {
     "name": "stderr",
     "output_type": "stream",
     "text": [
      "328it [00:02, 110.59it/s]                         \n",
      "71it [00:00, 269.92it/s]                        \n"
     ]
    },
    {
     "name": "stdout",
     "output_type": "stream",
     "text": [
      "Epoch 5: Loss = 0.0066, Accuracy = 0.6127, Val_accuracy = 0.6335, Val_loss = 0.0064\n",
      "epoch:  {5}\n"
     ]
    },
    {
     "name": "stderr",
     "output_type": "stream",
     "text": [
      "328it [00:02, 113.60it/s]                         \n",
      "71it [00:00, 264.09it/s]                        \n"
     ]
    },
    {
     "name": "stdout",
     "output_type": "stream",
     "text": [
      "Epoch 6: Loss = 0.0062, Accuracy = 0.6386, Val_accuracy = 0.6386, Val_loss = 0.0063\n",
      "epoch:  {6}\n"
     ]
    },
    {
     "name": "stderr",
     "output_type": "stream",
     "text": [
      "328it [00:04, 72.58it/s]                         \n",
      "71it [00:00, 259.40it/s]                        \n"
     ]
    },
    {
     "name": "stdout",
     "output_type": "stream",
     "text": [
      "Epoch 7: Loss = 0.0054, Accuracy = 0.7037, Val_accuracy = 0.7266, Val_loss = 0.0051\n",
      "epoch:  {7}\n"
     ]
    },
    {
     "name": "stderr",
     "output_type": "stream",
     "text": [
      "328it [00:04, 75.37it/s]                         \n",
      "71it [00:00, 262.19it/s]                        \n"
     ]
    },
    {
     "name": "stdout",
     "output_type": "stream",
     "text": [
      "Epoch 8: Loss = 0.0040, Accuracy = 0.7888, Val_accuracy = 0.7758, Val_loss = 0.0046\n",
      "epoch:  {8}\n"
     ]
    },
    {
     "name": "stderr",
     "output_type": "stream",
     "text": [
      "328it [00:04, 73.08it/s]                         \n",
      "71it [00:00, 261.75it/s]                        \n"
     ]
    },
    {
     "name": "stdout",
     "output_type": "stream",
     "text": [
      "Epoch 9: Loss = 0.0030, Accuracy = 0.8433, Val_accuracy = 0.7934, Val_loss = 0.0047\n",
      "epoch:  {9}\n"
     ]
    },
    {
     "name": "stderr",
     "output_type": "stream",
     "text": [
      "328it [00:04, 74.06it/s]                         \n",
      "71it [00:00, 270.75it/s]                        \n"
     ]
    },
    {
     "name": "stdout",
     "output_type": "stream",
     "text": [
      "Epoch 10: Loss = 0.0023, Accuracy = 0.8849, Val_accuracy = 0.8193, Val_loss = 0.0043\n",
      "epoch:  {10}\n"
     ]
    },
    {
     "name": "stderr",
     "output_type": "stream",
     "text": [
      "328it [00:04, 73.49it/s]                         \n",
      "71it [00:00, 260.79it/s]                        \n"
     ]
    },
    {
     "name": "stdout",
     "output_type": "stream",
     "text": [
      "Epoch 11: Loss = 0.0018, Accuracy = 0.9133, Val_accuracy = 0.8190, Val_loss = 0.0044\n",
      "epoch:  {11}\n"
     ]
    },
    {
     "name": "stderr",
     "output_type": "stream",
     "text": [
      "328it [00:04, 74.09it/s]                         \n",
      "71it [00:00, 269.72it/s]                        \n"
     ]
    },
    {
     "name": "stdout",
     "output_type": "stream",
     "text": [
      "Epoch 12: Loss = 0.0015, Accuracy = 0.9301, Val_accuracy = 0.8294, Val_loss = 0.0044\n",
      "epoch:  {12}\n"
     ]
    },
    {
     "name": "stderr",
     "output_type": "stream",
     "text": [
      "328it [00:04, 74.10it/s]                         \n",
      "71it [00:00, 264.76it/s]                        \n"
     ]
    },
    {
     "name": "stdout",
     "output_type": "stream",
     "text": [
      "Epoch 13: Loss = 0.0012, Accuracy = 0.9427, Val_accuracy = 0.8400, Val_loss = 0.0050\n"
     ]
    },
    {
     "name": "stderr",
     "output_type": "stream",
     "text": [
      "71it [00:00, 266.93it/s]                        "
     ]
    },
    {
     "name": "stdout",
     "output_type": "stream",
     "text": [
      "Test accuracy:  0.8409217410664589\n"
     ]
    },
    {
     "name": "stderr",
     "output_type": "stream",
     "text": [
      "\n"
     ]
    }
   ],
   "source": [
    "modelCNN = SentimentClassifierCNN(len(tokens), embedding_matrix=embedding_matrix, num_sentiments=3).to(device)\n",
    "criterion = nn.CrossEntropyLoss()\n",
    "optimizer = torch.optim.Adam(modelCNN.parameters(), lr=1e-3)\n",
    "\n",
    "epochs = 13\n",
    "batch_size = 128\n",
    "scaler = GradScaler()\n",
    "\n",
    "train_accuracy, total_accuracy, total_loss, total_val_accuracy = train_model(epochs=epochs, model=modelCNN, scaler=scaler, \n",
    "                                                         criterion=criterion, optimizer=optimizer,\n",
    "                                                           data_train=df_train, data_val=df_val, batch_size=128,\n",
    "                                                           num_unfreeze=6)\n",
    "\n",
    "test_accuracy, test_loss = evaluate_model(model=modelCNN, data_test=df_test, batch_size=128)\n",
    "print(\"Test accuracy: \", test_accuracy)"
   ]
  },
  {
   "cell_type": "markdown",
   "id": "909fd636",
   "metadata": {},
   "source": [
    "Great! We are starting off strong with the NNs, already getting an accuracy higher than the ML approaches.\n",
    "\n",
    "Let's plot that on a graph."
   ]
  },
  {
   "cell_type": "code",
   "execution_count": 65,
   "id": "07e2a989",
   "metadata": {},
   "outputs": [
    {
     "data": {
      "image/png": "[encoded data removed]",
      "text/plain": [
       "<Figure size 1000x600 with 1 Axes>"
      ]
     },
     "metadata": {},
     "output_type": "display_data"
    }
   ],
   "source": [
    "epochs_range = range(1, epochs + 1)\n",
    "\n",
    "plt.figure(figsize=(10, 6))\n",
    "plt.plot(epochs_range, total_accuracy, label='Training Accuracy', marker='o')\n",
    "plt.plot(epochs_range, total_val_accuracy, label='Validation Accuracy', marker='o')\n",
    "\n",
    "plt.title('Accuracy over epochs')\n",
    "plt.xlabel('Epoch')\n",
    "plt.ylabel('Accuracy')\n",
    "plt.xticks(epochs_range)\n",
    "plt.ylim(0, 1)\n",
    "plt.legend()\n",
    "plt.grid(True)\n",
    "plt.tight_layout()\n",
    "plt.show()"
   ]
  },
  {
   "cell_type": "markdown",
   "id": "9030788b",
   "metadata": {},
   "source": [
    "Everything looks just like we expected: it plateaus a bit, then unfreezes the embedding layer, and then starts learning again. Note that this is a pattern we are going to see a lot going forward."
   ]
  },
  {
   "cell_type": "markdown",
   "id": "be30db5d",
   "metadata": {},
   "source": [
    "#### Reccurent Neural Network with LSTMs."
   ]
  },
  {
   "cell_type": "code",
   "execution_count": 66,
   "id": "0e6d3a38",
   "metadata": {},
   "outputs": [],
   "source": [
    "class SentimentClassifierRNN(nn.Module):\n",
    "    def __init__(self, vocabulary_dimention, num_classes, hidden_dim, num_layers=1):\n",
    "        super().__init__()\n",
    "\n",
    "        self.embedding = nn.Embedding(vocabulary_dimention, 300)\n",
    "        self.embedding.weight.data.copy_(torch.from_numpy(embedding_matrix))\n",
    "        self.embedding.weight.requires_grad = False\n",
    "        self.embedding_dropout = nn.Dropout(0.5)\n",
    "        self.lstm = nn.LSTM(300, hidden_size=hidden_dim, num_layers=num_layers, bidirectional=True, dropout=0.5)\n",
    "        self.fc = nn.Linear(hidden_dim * 2, num_classes)\n",
    "    def forward(self, x):\n",
    "        x = self.embedding(x)\n",
    "        x = self.embedding_dropout(x)\n",
    "        x = x.permute(1, 0, 2)\n",
    "        _, (h_n, _) = self.lstm(x)\n",
    "        final_hidden = torch.cat((h_n[-2], h_n[-1]), dim=1)\n",
    "        out = self.fc(final_hidden)\n",
    "        return out"
   ]
  },
  {
   "cell_type": "markdown",
   "id": "539ae436",
   "metadata": {},
   "source": [
    "There is nothing to say about this NN, as it is mostly an adaptation of the one from the first part. Let's see how this performs."
   ]
  },
  {
   "cell_type": "code",
   "execution_count": 67,
   "id": "694830e0",
   "metadata": {},
   "outputs": [
    {
     "name": "stdout",
     "output_type": "stream",
     "text": [
      "epoch:  {0}\n"
     ]
    },
    {
     "name": "stderr",
     "output_type": "stream",
     "text": [
      "328it [00:04, 75.22it/s]                         \n",
      "71it [00:00, 128.71it/s]                        \n"
     ]
    },
    {
     "name": "stdout",
     "output_type": "stream",
     "text": [
      "Epoch 1: Loss = 0.0081, Accuracy = 0.4601, Val_accuracy = 0.5690, Val_loss = 0.0072\n",
      "epoch:  {1}\n"
     ]
    },
    {
     "name": "stderr",
     "output_type": "stream",
     "text": [
      "328it [00:04, 79.15it/s]                         \n",
      "71it [00:00, 150.57it/s]                        \n"
     ]
    },
    {
     "name": "stdout",
     "output_type": "stream",
     "text": [
      "Epoch 2: Loss = 0.0072, Accuracy = 0.5754, Val_accuracy = 0.6258, Val_loss = 0.0066\n",
      "epoch:  {2}\n"
     ]
    },
    {
     "name": "stderr",
     "output_type": "stream",
     "text": [
      "328it [00:04, 76.40it/s]                         \n",
      "71it [00:00, 146.72it/s]                        \n"
     ]
    },
    {
     "name": "stdout",
     "output_type": "stream",
     "text": [
      "Epoch 3: Loss = 0.0066, Accuracy = 0.6173, Val_accuracy = 0.6690, Val_loss = 0.0060\n",
      "epoch:  {3}\n"
     ]
    },
    {
     "name": "stderr",
     "output_type": "stream",
     "text": [
      "328it [00:04, 78.87it/s]                         \n",
      "71it [00:00, 151.16it/s]                        \n"
     ]
    },
    {
     "name": "stdout",
     "output_type": "stream",
     "text": [
      "Epoch 4: Loss = 0.0061, Accuracy = 0.6559, Val_accuracy = 0.6837, Val_loss = 0.0057\n",
      "epoch:  {4}\n"
     ]
    },
    {
     "name": "stderr",
     "output_type": "stream",
     "text": [
      "328it [00:04, 77.83it/s]                         \n",
      "71it [00:00, 146.32it/s]                        \n"
     ]
    },
    {
     "name": "stdout",
     "output_type": "stream",
     "text": [
      "Epoch 5: Loss = 0.0058, Accuracy = 0.6762, Val_accuracy = 0.7011, Val_loss = 0.0055\n",
      "epoch:  {5}\n"
     ]
    },
    {
     "name": "stderr",
     "output_type": "stream",
     "text": [
      "328it [00:04, 77.60it/s]                         \n",
      "71it [00:00, 145.63it/s]                        \n"
     ]
    },
    {
     "name": "stdout",
     "output_type": "stream",
     "text": [
      "Epoch 6: Loss = 0.0057, Accuracy = 0.6852, Val_accuracy = 0.7113, Val_loss = 0.0053\n",
      "epoch:  {6}\n"
     ]
    },
    {
     "name": "stderr",
     "output_type": "stream",
     "text": [
      "328it [00:04, 78.18it/s]                         \n",
      "71it [00:00, 151.50it/s]                        \n"
     ]
    },
    {
     "name": "stdout",
     "output_type": "stream",
     "text": [
      "Epoch 7: Loss = 0.0056, Accuracy = 0.6913, Val_accuracy = 0.7182, Val_loss = 0.0053\n",
      "epoch:  {7}\n"
     ]
    },
    {
     "name": "stderr",
     "output_type": "stream",
     "text": [
      "328it [00:04, 78.52it/s]                         \n",
      "71it [00:00, 149.93it/s]                        \n"
     ]
    },
    {
     "name": "stdout",
     "output_type": "stream",
     "text": [
      "Epoch 8: Loss = 0.0055, Accuracy = 0.6978, Val_accuracy = 0.7227, Val_loss = 0.0051\n",
      "epoch:  {8}\n"
     ]
    },
    {
     "name": "stderr",
     "output_type": "stream",
     "text": [
      "328it [00:05, 60.02it/s]                         \n",
      "71it [00:00, 153.44it/s]                        \n"
     ]
    },
    {
     "name": "stdout",
     "output_type": "stream",
     "text": [
      "Epoch 9: Loss = 0.0050, Accuracy = 0.7329, Val_accuracy = 0.7658, Val_loss = 0.0046\n",
      "epoch:  {9}\n"
     ]
    },
    {
     "name": "stderr",
     "output_type": "stream",
     "text": [
      "328it [00:05, 59.48it/s]                         \n",
      "71it [00:00, 149.78it/s]                        \n"
     ]
    },
    {
     "name": "stdout",
     "output_type": "stream",
     "text": [
      "Epoch 10: Loss = 0.0043, Accuracy = 0.7766, Val_accuracy = 0.7816, Val_loss = 0.0043\n",
      "epoch:  {10}\n"
     ]
    },
    {
     "name": "stderr",
     "output_type": "stream",
     "text": [
      "328it [00:05, 59.79it/s]                         \n",
      "71it [00:00, 152.71it/s]                        \n"
     ]
    },
    {
     "name": "stdout",
     "output_type": "stream",
     "text": [
      "Epoch 11: Loss = 0.0038, Accuracy = 0.8101, Val_accuracy = 0.7961, Val_loss = 0.0041\n",
      "epoch:  {11}\n"
     ]
    },
    {
     "name": "stderr",
     "output_type": "stream",
     "text": [
      "328it [00:05, 59.66it/s]                         \n",
      "71it [00:00, 150.60it/s]                        \n"
     ]
    },
    {
     "name": "stdout",
     "output_type": "stream",
     "text": [
      "Epoch 12: Loss = 0.0035, Accuracy = 0.8263, Val_accuracy = 0.8042, Val_loss = 0.0040\n",
      "epoch:  {12}\n"
     ]
    },
    {
     "name": "stderr",
     "output_type": "stream",
     "text": [
      "328it [00:05, 59.92it/s]                         \n",
      "71it [00:00, 150.76it/s]                        \n"
     ]
    },
    {
     "name": "stdout",
     "output_type": "stream",
     "text": [
      "Epoch 13: Loss = 0.0032, Accuracy = 0.8389, Val_accuracy = 0.8123, Val_loss = 0.0041\n",
      "epoch:  {13}\n"
     ]
    },
    {
     "name": "stderr",
     "output_type": "stream",
     "text": [
      "328it [00:05, 59.94it/s]                         \n",
      "71it [00:00, 154.38it/s]                        \n"
     ]
    },
    {
     "name": "stdout",
     "output_type": "stream",
     "text": [
      "Epoch 14: Loss = 0.0030, Accuracy = 0.8503, Val_accuracy = 0.8146, Val_loss = 0.0039\n",
      "epoch:  {14}\n"
     ]
    },
    {
     "name": "stderr",
     "output_type": "stream",
     "text": [
      "328it [00:05, 58.97it/s]                         \n",
      "71it [00:00, 150.96it/s]                        \n"
     ]
    },
    {
     "name": "stdout",
     "output_type": "stream",
     "text": [
      "Epoch 15: Loss = 0.0029, Accuracy = 0.8561, Val_accuracy = 0.8199, Val_loss = 0.0039\n",
      "epoch:  {15}\n"
     ]
    },
    {
     "name": "stderr",
     "output_type": "stream",
     "text": [
      "328it [00:05, 58.95it/s]                         \n",
      "71it [00:00, 152.55it/s]                        \n"
     ]
    },
    {
     "name": "stdout",
     "output_type": "stream",
     "text": [
      "Epoch 16: Loss = 0.0028, Accuracy = 0.8635, Val_accuracy = 0.8209, Val_loss = 0.0039\n"
     ]
    },
    {
     "name": "stderr",
     "output_type": "stream",
     "text": [
      "71it [00:00, 152.19it/s]                        "
     ]
    },
    {
     "name": "stdout",
     "output_type": "stream",
     "text": [
      "--------------\n",
      "Test accuracy:  0.8228876767226985\n"
     ]
    },
    {
     "name": "stderr",
     "output_type": "stream",
     "text": [
      "\n"
     ]
    }
   ],
   "source": [
    "from torch.optim.lr_scheduler import ReduceLROnPlateau\n",
    "import warnings\n",
    "warnings.filterwarnings(\"ignore\", category=UserWarning) \n",
    "modelRNN = SentimentClassifierRNN(len(tokens), num_classes=3, hidden_dim=128, num_layers=4).to(device)\n",
    "criterion = nn.CrossEntropyLoss()\n",
    "optimizer = torch.optim.AdamW(modelRNN.parameters(), lr=1e-3)\n",
    "scheduler = ReduceLROnPlateau(optimizer, 'max', 0.5, 2, verbose=True)\n",
    "\n",
    "epochs = 16\n",
    "batch_size = 128\n",
    "\n",
    "total_accuracy = list()\n",
    "total_loss = list()\n",
    "scaler = GradScaler()\n",
    "\n",
    "train_accuracy, total_accuracy, total_loss, total_val_accuracy = train_model(epochs=epochs, model=modelRNN, scaler=scaler, \n",
    "                                                         criterion=criterion, optimizer=optimizer,\n",
    "                                                           data_train=df_train, data_val=df_val, batch_size=128\n",
    "                                                           , scheduler=scheduler\n",
    "                                                           , num_unfreeze=8\n",
    "                                                           )\n",
    "\n",
    "test_accuracy, test_loss = evaluate_model(modelRNN, df_test, batch_size=128)\n",
    "print(\"--------------\")\n",
    "print(\"Test accuracy: \", test_accuracy)"
   ]
  },
  {
   "cell_type": "code",
   "execution_count": 68,
   "id": "4514f30c",
   "metadata": {},
   "outputs": [
    {
     "data": {
      "image/png": "[encoded data removed]",
      "text/plain": [
       "<Figure size 1000x600 with 1 Axes>"
      ]
     },
     "metadata": {},
     "output_type": "display_data"
    }
   ],
   "source": [
    "epochs_range = range(1, epochs + 1)\n",
    "\n",
    "plt.figure(figsize=(10, 6))\n",
    "plt.plot(epochs_range, total_accuracy, label='Training Accuracy', marker='o')\n",
    "plt.plot(epochs_range, total_val_accuracy, label='Validation Accuracy', marker='o')\n",
    "\n",
    "plt.title('Accuracy over epochs')\n",
    "plt.xlabel('Epoch')\n",
    "plt.ylabel('Accuracy')\n",
    "plt.xticks(epochs_range)\n",
    "plt.ylim(0, 1)\n",
    "plt.legend()\n",
    "plt.grid(True)\n",
    "plt.tight_layout()\n",
    "plt.show()"
   ]
  },
  {
   "cell_type": "markdown",
   "id": "128e0009",
   "metadata": {},
   "source": [
    "Something that we would have expected from a ML approach. Let's try its younger brother, GRUs!"
   ]
  },
  {
   "cell_type": "markdown",
   "id": "5530766f",
   "metadata": {},
   "source": [
    "#### Reccurent neural network with GRUs."
   ]
  },
  {
   "cell_type": "code",
   "execution_count": 69,
   "id": "213cccd9",
   "metadata": {},
   "outputs": [],
   "source": [
    "class SentimentClassifierGRU(nn.Module):\n",
    "    def __init__(self, vocabulary_dimention, num_classes, hidden_dim, num_layers=1):\n",
    "        super().__init__()\n",
    "\n",
    "        self.embedding = nn.Embedding(vocabulary_dimention, 300)\n",
    "        self.embedding.weight.data.copy_(torch.from_numpy(embedding_matrix))\n",
    "        self.embedding.weight.requires_grad = False\n",
    "\n",
    "        self.embedding_dropout = nn.Dropout(0.5)\n",
    "        self.rnn = nn.GRU(300, hidden_size=hidden_dim, num_layers=num_layers, bidirectional=True)\n",
    "        self.rnn_dropout = nn.Dropout(0.5)\n",
    "\n",
    "        self.fc = nn.Linear(hidden_dim * 2, num_classes)\n",
    "\n",
    "    def forward(self, x):\n",
    "        x = self.embedding(x)\n",
    "        x = self.embedding_dropout(x)\n",
    "        x = x.permute(1, 0, 2)\n",
    "        _, h_n = self.rnn(x)\n",
    "        if self.rnn.bidirectional:\n",
    "            final_hidden = torch.cat((h_n[-2], h_n[-1]), dim=1)\n",
    "        else:\n",
    "            final_hidden = h_n[-1]\n",
    "\n",
    "        final_hidden = self.rnn_dropout(final_hidden)\n",
    "        out = self.fc(final_hidden)\n",
    "        return out"
   ]
  },
  {
   "cell_type": "code",
   "execution_count": 70,
   "id": "16d986bf",
   "metadata": {},
   "outputs": [
    {
     "name": "stdout",
     "output_type": "stream",
     "text": [
      "epoch:  {0}\n"
     ]
    },
    {
     "name": "stderr",
     "output_type": "stream",
     "text": [
      "328it [00:06, 52.77it/s]                         \n",
      "71it [00:00, 143.06it/s]                        \n"
     ]
    },
    {
     "name": "stdout",
     "output_type": "stream",
     "text": [
      "Epoch 1: Loss = 0.0080, Accuracy = 0.4766, Val_accuracy = 0.6149, Val_loss = 0.0069\n",
      "epoch:  {1}\n"
     ]
    },
    {
     "name": "stderr",
     "output_type": "stream",
     "text": [
      "328it [00:05, 55.77it/s]                         \n",
      "71it [00:00, 139.70it/s]                        \n"
     ]
    },
    {
     "name": "stdout",
     "output_type": "stream",
     "text": [
      "Epoch 2: Loss = 0.0065, Accuracy = 0.6253, Val_accuracy = 0.6768, Val_loss = 0.0059\n",
      "epoch:  {2}\n"
     ]
    },
    {
     "name": "stderr",
     "output_type": "stream",
     "text": [
      "328it [00:05, 55.96it/s]                         \n",
      "71it [00:00, 147.03it/s]                        \n"
     ]
    },
    {
     "name": "stdout",
     "output_type": "stream",
     "text": [
      "Epoch 3: Loss = 0.0061, Accuracy = 0.6594, Val_accuracy = 0.7016, Val_loss = 0.0055\n",
      "epoch:  {3}\n"
     ]
    },
    {
     "name": "stderr",
     "output_type": "stream",
     "text": [
      "328it [00:05, 55.67it/s]                         \n",
      "71it [00:00, 144.04it/s]                        \n"
     ]
    },
    {
     "name": "stdout",
     "output_type": "stream",
     "text": [
      "Epoch 4: Loss = 0.0058, Accuracy = 0.6810, Val_accuracy = 0.7183, Val_loss = 0.0053\n",
      "epoch:  {4}\n"
     ]
    },
    {
     "name": "stderr",
     "output_type": "stream",
     "text": [
      "328it [00:05, 55.63it/s]                         \n",
      "71it [00:00, 144.91it/s]                        \n"
     ]
    },
    {
     "name": "stdout",
     "output_type": "stream",
     "text": [
      "Epoch 5: Loss = 0.0055, Accuracy = 0.7013, Val_accuracy = 0.7270, Val_loss = 0.0051\n",
      "epoch:  {5}\n"
     ]
    },
    {
     "name": "stderr",
     "output_type": "stream",
     "text": [
      "328it [00:05, 54.85it/s]                         \n",
      "71it [00:00, 147.69it/s]                        \n"
     ]
    },
    {
     "name": "stdout",
     "output_type": "stream",
     "text": [
      "Epoch 6: Loss = 0.0053, Accuracy = 0.7144, Val_accuracy = 0.7371, Val_loss = 0.0050\n",
      "epoch:  {6}\n"
     ]
    },
    {
     "name": "stderr",
     "output_type": "stream",
     "text": [
      "328it [00:07, 44.55it/s]                         \n",
      "71it [00:00, 144.84it/s]                        \n"
     ]
    },
    {
     "name": "stdout",
     "output_type": "stream",
     "text": [
      "Epoch 7: Loss = 0.0047, Accuracy = 0.7554, Val_accuracy = 0.7849, Val_loss = 0.0043\n",
      "epoch:  {7}\n"
     ]
    },
    {
     "name": "stderr",
     "output_type": "stream",
     "text": [
      "328it [00:07, 44.69it/s]                         \n",
      "71it [00:00, 140.53it/s]                        \n"
     ]
    },
    {
     "name": "stdout",
     "output_type": "stream",
     "text": [
      "Epoch 8: Loss = 0.0035, Accuracy = 0.8236, Val_accuracy = 0.8086, Val_loss = 0.0039\n",
      "epoch:  {8}\n"
     ]
    },
    {
     "name": "stderr",
     "output_type": "stream",
     "text": [
      "328it [00:07, 45.52it/s]                         \n",
      "71it [00:00, 141.72it/s]                        \n"
     ]
    },
    {
     "name": "stdout",
     "output_type": "stream",
     "text": [
      "Epoch 9: Loss = 0.0029, Accuracy = 0.8562, Val_accuracy = 0.8235, Val_loss = 0.0037\n",
      "epoch:  {9}\n"
     ]
    },
    {
     "name": "stderr",
     "output_type": "stream",
     "text": [
      "328it [00:07, 44.83it/s]                         \n",
      "71it [00:00, 143.27it/s]                        \n"
     ]
    },
    {
     "name": "stdout",
     "output_type": "stream",
     "text": [
      "Epoch 10: Loss = 0.0025, Accuracy = 0.8823, Val_accuracy = 0.8365, Val_loss = 0.0036\n",
      "epoch:  {10}\n"
     ]
    },
    {
     "name": "stderr",
     "output_type": "stream",
     "text": [
      "328it [00:07, 44.97it/s]                         \n",
      "71it [00:00, 146.85it/s]                        \n"
     ]
    },
    {
     "name": "stdout",
     "output_type": "stream",
     "text": [
      "Epoch 11: Loss = 0.0020, Accuracy = 0.9064, Val_accuracy = 0.8431, Val_loss = 0.0037\n",
      "epoch:  {11}\n"
     ]
    },
    {
     "name": "stderr",
     "output_type": "stream",
     "text": [
      "328it [00:07, 45.11it/s]                         \n",
      "71it [00:00, 141.58it/s]                        \n"
     ]
    },
    {
     "name": "stdout",
     "output_type": "stream",
     "text": [
      "Epoch 12: Loss = 0.0018, Accuracy = 0.9165, Val_accuracy = 0.8461, Val_loss = 0.0037\n",
      "epoch:  {12}\n"
     ]
    },
    {
     "name": "stderr",
     "output_type": "stream",
     "text": [
      "328it [00:07, 45.00it/s]                         \n",
      "71it [00:00, 144.74it/s]                        \n"
     ]
    },
    {
     "name": "stdout",
     "output_type": "stream",
     "text": [
      "Epoch 13: Loss = 0.0016, Accuracy = 0.9254, Val_accuracy = 0.8535, Val_loss = 0.0037\n",
      "epoch:  {13}\n"
     ]
    },
    {
     "name": "stderr",
     "output_type": "stream",
     "text": [
      "328it [00:07, 44.28it/s]                         \n",
      "71it [00:00, 142.44it/s]                        \n"
     ]
    },
    {
     "name": "stdout",
     "output_type": "stream",
     "text": [
      "Epoch 14: Loss = 0.0014, Accuracy = 0.9346, Val_accuracy = 0.8549, Val_loss = 0.0038\n",
      "epoch:  {14}\n"
     ]
    },
    {
     "name": "stderr",
     "output_type": "stream",
     "text": [
      "328it [00:07, 44.89it/s]                         \n",
      "71it [00:00, 145.83it/s]                        \n"
     ]
    },
    {
     "name": "stdout",
     "output_type": "stream",
     "text": [
      "Epoch 15: Loss = 0.0013, Accuracy = 0.9406, Val_accuracy = 0.8599, Val_loss = 0.0038\n"
     ]
    },
    {
     "name": "stderr",
     "output_type": "stream",
     "text": [
      "71it [00:00, 142.97it/s]                        "
     ]
    },
    {
     "name": "stdout",
     "output_type": "stream",
     "text": [
      "--------------\n",
      "Test accuracy:  0.86173884003117\n"
     ]
    },
    {
     "name": "stderr",
     "output_type": "stream",
     "text": [
      "\n"
     ]
    }
   ],
   "source": [
    "modelGRU = SentimentClassifierGRU(len(tokens), num_classes=3, hidden_dim=256, num_layers=4).to(device)\n",
    "criterion = nn.CrossEntropyLoss()\n",
    "optimizer = torch.optim.Adam(modelGRU.parameters(), lr=1e-3)\n",
    "scheduler = ReduceLROnPlateau(optimizer, 'max', 0.5, 2, verbose=True)\n",
    "\n",
    "epochs = 15\n",
    "batch_size = 128\n",
    "\n",
    "total_accuracy = list()\n",
    "total_loss = list()\n",
    "scaler = GradScaler()\n",
    "\n",
    "train_accuracy, total_accuracy, total_loss, total_val_accuracy = train_model(epochs=epochs, model=modelGRU, scaler=scaler, \n",
    "                                                         criterion=criterion, optimizer=optimizer,\n",
    "                                                           data_train=df_train, data_val=df_val, batch_size=128\n",
    "                                                           , scheduler=scheduler\n",
    "                                                           , num_unfreeze=6\n",
    "                                                           )\n",
    "\n",
    "test_accuracy, test_loss = evaluate_model(modelGRU, df_test, batch_size=128)\n",
    "print(\"--------------\")\n",
    "print(\"Test accuracy: \", test_accuracy)"
   ]
  },
  {
   "cell_type": "code",
   "execution_count": 71,
   "id": "d3ae56a7",
   "metadata": {},
   "outputs": [
    {
     "data": {
      "image/png": "[encoded data removed]",
      "text/plain": [
       "<Figure size 1000x600 with 1 Axes>"
      ]
     },
     "metadata": {},
     "output_type": "display_data"
    }
   ],
   "source": [
    "epochs_range = range(1, epochs + 1)\n",
    "\n",
    "plt.figure(figsize=(10, 6))\n",
    "plt.plot(epochs_range, total_accuracy, label='Training Accuracy', marker='o')\n",
    "plt.plot(epochs_range, total_val_accuracy, label='Validation Accuracy', marker='o')\n",
    "\n",
    "plt.title('Accuracy over epochs')\n",
    "plt.xlabel('Epoch')\n",
    "plt.ylabel('Accuracy')\n",
    "plt.xticks(epochs_range)\n",
    "plt.ylim(0, 1)\n",
    "plt.legend()\n",
    "plt.grid(True)\n",
    "plt.tight_layout()\n",
    "plt.show()"
   ]
  },
  {
   "cell_type": "markdown",
   "id": "f427b0cb",
   "metadata": {},
   "source": [
    "These results are quite good. However, we can do another interesting thing with this: add some convolutional layers at the end! This will help us learn features of the output of the LSTM blocks, so while the LSTMs will introduce some \"understanding\" of the text at a lower level, we get some features at a highter level.\n",
    "\n",
    "Let's make just that!"
   ]
  },
  {
   "cell_type": "markdown",
   "id": "dc68103d",
   "metadata": {},
   "source": [
    "#### LSTM + CNN approach."
   ]
  },
  {
   "cell_type": "code",
   "execution_count": 72,
   "id": "0a84dd03",
   "metadata": {},
   "outputs": [],
   "source": [
    "class SentimentClassifierCNNRNN(nn.Module):\n",
    "    def __init__(self, vocabulary_dimention, num_classes, hidden_dim, num_layers=1, bidirectional=True):\n",
    "        super().__init__()\n",
    "        self.embedding = nn.Embedding(vocabulary_dimention, 300)\n",
    "        self.embedding.weight.data.copy_(torch.from_numpy(embedding_matrix))\n",
    "        self.embedding.weight.requires_grad = False\n",
    "        self.embedding_dropout = nn.Dropout(0.5)\n",
    "        self.lstm = nn.LSTM(300, hidden_size=hidden_dim, num_layers=num_layers, \n",
    "                            bidirectional=bidirectional, batch_first=True)\n",
    "        self.lstm_dropout = nn.Dropout(0.5)\n",
    "        self.conv1d = nn.Conv1d(in_channels=2 * hidden_dim, out_channels=100, kernel_size=3, padding=1)\n",
    "        self.conv_dropout = nn.Dropout(0.5)\n",
    "        self.fc = nn.Linear(100, num_classes)\n",
    "\n",
    "    def forward(self, x):\n",
    "        x = self.embedding(x)\n",
    "        x = self.embedding_dropout(x)\n",
    "        lstm_out, _ = self.lstm(x)\n",
    "        lstm_out = self.lstm_dropout(lstm_out)\n",
    "        lstm_out = lstm_out.permute(0, 2, 1)\n",
    "        cnn_out = self.conv1d(lstm_out)\n",
    "        cnn_out = F.relu(cnn_out)\n",
    "        cnn_out = self.conv_dropout(cnn_out)\n",
    "        pooled = F.max_pool1d(cnn_out, kernel_size=cnn_out.shape[2]).squeeze(2)\n",
    "        out = self.fc(pooled)\n",
    "        return out"
   ]
  },
  {
   "cell_type": "code",
   "execution_count": 73,
   "id": "155aaaed",
   "metadata": {},
   "outputs": [
    {
     "name": "stdout",
     "output_type": "stream",
     "text": [
      "epoch:  {0}\n"
     ]
    },
    {
     "name": "stderr",
     "output_type": "stream",
     "text": [
      "328it [00:07, 44.39it/s]                         \n",
      "71it [00:00, 124.17it/s]                        \n"
     ]
    },
    {
     "name": "stdout",
     "output_type": "stream",
     "text": [
      "Epoch 1: Loss = 0.0082, Accuracy = 0.4483, Val_accuracy = 0.5395, Val_loss = 0.0077\n",
      "epoch:  {1}\n"
     ]
    },
    {
     "name": "stderr",
     "output_type": "stream",
     "text": [
      "328it [00:06, 47.12it/s]                         \n",
      "71it [00:00, 130.64it/s]                        \n"
     ]
    },
    {
     "name": "stdout",
     "output_type": "stream",
     "text": [
      "Epoch 2: Loss = 0.0069, Accuracy = 0.5866, Val_accuracy = 0.6725, Val_loss = 0.0065\n",
      "epoch:  {2}\n"
     ]
    },
    {
     "name": "stderr",
     "output_type": "stream",
     "text": [
      "328it [00:06, 47.22it/s]                         \n",
      "71it [00:00, 123.81it/s]                        \n"
     ]
    },
    {
     "name": "stdout",
     "output_type": "stream",
     "text": [
      "Epoch 3: Loss = 0.0062, Accuracy = 0.6540, Val_accuracy = 0.6888, Val_loss = 0.0063\n",
      "epoch:  {3}\n"
     ]
    },
    {
     "name": "stderr",
     "output_type": "stream",
     "text": [
      "328it [00:06, 46.89it/s]                         \n",
      "71it [00:00, 125.47it/s]                        \n"
     ]
    },
    {
     "name": "stdout",
     "output_type": "stream",
     "text": [
      "Epoch 4: Loss = 0.0059, Accuracy = 0.6761, Val_accuracy = 0.6968, Val_loss = 0.0061\n",
      "epoch:  {4}\n"
     ]
    },
    {
     "name": "stderr",
     "output_type": "stream",
     "text": [
      "328it [00:06, 47.39it/s]                         \n",
      "71it [00:00, 128.54it/s]                        \n"
     ]
    },
    {
     "name": "stdout",
     "output_type": "stream",
     "text": [
      "Epoch 5: Loss = 0.0056, Accuracy = 0.6960, Val_accuracy = 0.7200, Val_loss = 0.0058\n",
      "epoch:  {5}\n"
     ]
    },
    {
     "name": "stderr",
     "output_type": "stream",
     "text": [
      "328it [00:06, 47.62it/s]                         \n",
      "71it [00:00, 125.74it/s]                        \n"
     ]
    },
    {
     "name": "stdout",
     "output_type": "stream",
     "text": [
      "Epoch 6: Loss = 0.0055, Accuracy = 0.7031, Val_accuracy = 0.7194, Val_loss = 0.0057\n",
      "epoch:  {6}\n"
     ]
    },
    {
     "name": "stderr",
     "output_type": "stream",
     "text": [
      "328it [00:08, 38.17it/s]                         \n",
      "71it [00:00, 124.39it/s]                        \n"
     ]
    },
    {
     "name": "stdout",
     "output_type": "stream",
     "text": [
      "Epoch 7: Loss = 0.0048, Accuracy = 0.7455, Val_accuracy = 0.7662, Val_loss = 0.0051\n",
      "epoch:  {7}\n"
     ]
    },
    {
     "name": "stderr",
     "output_type": "stream",
     "text": [
      "328it [00:08, 38.18it/s]                         \n",
      "71it [00:00, 125.25it/s]                        \n"
     ]
    },
    {
     "name": "stdout",
     "output_type": "stream",
     "text": [
      "Epoch 8: Loss = 0.0037, Accuracy = 0.8120, Val_accuracy = 0.7941, Val_loss = 0.0045\n",
      "epoch:  {8}\n"
     ]
    },
    {
     "name": "stderr",
     "output_type": "stream",
     "text": [
      "328it [00:08, 38.74it/s]                         \n",
      "71it [00:00, 124.36it/s]                        \n"
     ]
    },
    {
     "name": "stdout",
     "output_type": "stream",
     "text": [
      "Epoch 9: Loss = 0.0031, Accuracy = 0.8473, Val_accuracy = 0.8100, Val_loss = 0.0042\n",
      "epoch:  {9}\n"
     ]
    },
    {
     "name": "stderr",
     "output_type": "stream",
     "text": [
      "328it [00:08, 38.34it/s]                         \n",
      "71it [00:00, 124.84it/s]                        \n"
     ]
    },
    {
     "name": "stdout",
     "output_type": "stream",
     "text": [
      "Epoch 10: Loss = 0.0027, Accuracy = 0.8720, Val_accuracy = 0.8252, Val_loss = 0.0039\n",
      "epoch:  {10}\n"
     ]
    },
    {
     "name": "stderr",
     "output_type": "stream",
     "text": [
      "328it [00:08, 38.83it/s]                         \n",
      "71it [00:00, 122.94it/s]                        \n"
     ]
    },
    {
     "name": "stdout",
     "output_type": "stream",
     "text": [
      "Epoch 11: Loss = 0.0022, Accuracy = 0.8936, Val_accuracy = 0.8292, Val_loss = 0.0038\n",
      "epoch:  {11}\n"
     ]
    },
    {
     "name": "stderr",
     "output_type": "stream",
     "text": [
      "328it [00:08, 38.39it/s]                         \n",
      "71it [00:00, 126.90it/s]                        \n"
     ]
    },
    {
     "name": "stdout",
     "output_type": "stream",
     "text": [
      "Epoch 12: Loss = 0.0020, Accuracy = 0.9063, Val_accuracy = 0.8272, Val_loss = 0.0037\n",
      "epoch:  {12}\n"
     ]
    },
    {
     "name": "stderr",
     "output_type": "stream",
     "text": [
      "328it [00:08, 38.33it/s]                         \n",
      "71it [00:00, 128.85it/s]                        \n"
     ]
    },
    {
     "name": "stdout",
     "output_type": "stream",
     "text": [
      "Epoch 13: Loss = 0.0019, Accuracy = 0.9125, Val_accuracy = 0.8328, Val_loss = 0.0036\n"
     ]
    },
    {
     "name": "stderr",
     "output_type": "stream",
     "text": [
      "71it [00:00, 125.76it/s]                        "
     ]
    },
    {
     "name": "stdout",
     "output_type": "stream",
     "text": [
      "--------------\n",
      "Test accuracy:  0.833463208282311\n"
     ]
    },
    {
     "name": "stderr",
     "output_type": "stream",
     "text": [
      "\n"
     ]
    }
   ],
   "source": [
    "modelCNNRNN = SentimentClassifierCNNRNN(len(tokens), num_classes=3, hidden_dim=256, num_layers=4, bidirectional=True).to(device)\n",
    "criterion = nn.CrossEntropyLoss()\n",
    "optimizer = torch.optim.Adam(modelCNNRNN.parameters(), lr=1e-3, weight_decay=1e-5)\n",
    "scheduler = ReduceLROnPlateau(optimizer, 'max', 0.5, 2, verbose=True)\n",
    "\n",
    "epochs = 13\n",
    "batch_size = 128\n",
    "\n",
    "total_accuracy = list()\n",
    "total_loss = list()\n",
    "scaler = GradScaler()\n",
    "\n",
    "train_accuracy, total_accuracy, total_loss, total_val_accuracy = train_model(epochs=epochs, model=modelCNNRNN, scaler=scaler, \n",
    "                                                         criterion=criterion, optimizer=optimizer,\n",
    "                                                           data_train=df_train, data_val=df_val, batch_size=128\n",
    "                                                           , scheduler=scheduler\n",
    "                                                           , num_unfreeze=6\n",
    "                                                           )\n",
    "\n",
    "test_accuracy, test_loss = evaluate_model(modelCNNRNN, df_test, batch_size=128)\n",
    "print(\"--------------\")\n",
    "print(\"Test accuracy: \", test_accuracy)"
   ]
  },
  {
   "cell_type": "code",
   "execution_count": 74,
   "id": "7b53344f",
   "metadata": {},
   "outputs": [
    {
     "data": {
      "image/png": "[encoded data removed]",
      "text/plain": [
       "<Figure size 1000x600 with 1 Axes>"
      ]
     },
     "metadata": {},
     "output_type": "display_data"
    }
   ],
   "source": [
    "epochs_range = range(1, epochs + 1)\n",
    "\n",
    "plt.figure(figsize=(10, 6))\n",
    "plt.plot(epochs_range, total_accuracy, label='Training Accuracy', marker='o')\n",
    "plt.plot(epochs_range, total_val_accuracy, label='Validation Accuracy', marker='o')\n",
    "\n",
    "plt.title('Accuracy over epochs')\n",
    "plt.xlabel('Epoch')\n",
    "plt.ylabel('Accuracy')\n",
    "plt.xticks(epochs_range)\n",
    "plt.ylim(0, 1)\n",
    "plt.legend()\n",
    "plt.grid(True)\n",
    "plt.tight_layout()\n",
    "plt.show()"
   ]
  },
  {
   "cell_type": "markdown",
   "id": "83d092b9",
   "metadata": {},
   "source": [
    "Not perfect, not terrible either.\n",
    "\n",
    "Now you might be wondering - \"What about transformers?\"\n",
    "\n",
    "Good question! We are going to try them right now. However, we are not going to build one from scratch - we would need a huge corpus of data to train it on, and we simply do not have that right now. We are going to try **transfer learning**!"
   ]
  },
  {
   "cell_type": "markdown",
   "id": "60ca98fb",
   "metadata": {},
   "source": [
    "#### Transfer Learning."
   ]
  },
  {
   "cell_type": "markdown",
   "id": "db19014c",
   "metadata": {},
   "source": [
    "Transfer learning *might* be effective in our case because we get a model that is trained on a bigger dataset, so it has a bigger context and in general understand it better, and then take off the top classification layer from there, replacing it with our own. This approach can help our model generalize way better than the ones we have built before.\n",
    "\n",
    "**However**, there is one drawback to this approach - transformers are generally data-hungry. This means that even considering the fact that the model we are going to try out is pre-trained, our simpler models might outshine it on small data.\n",
    "\n",
    "Let's try and build this!"
   ]
  },
  {
   "cell_type": "code",
   "execution_count": 75,
   "id": "2ee518d6",
   "metadata": {},
   "outputs": [
    {
     "name": "stderr",
     "output_type": "stream",
     "text": [
      "Some weights of DistilBertForSequenceClassification were not initialized from the model checkpoint at distilbert-base-uncased and are newly initialized: ['classifier.bias', 'classifier.weight', 'pre_classifier.bias', 'pre_classifier.weight']\n",
      "You should probably TRAIN this model on a down-stream task to be able to use it for predictions and inference.\n"
     ]
    }
   ],
   "source": [
    "from transformers import DistilBertTokenizer, DistilBertForSequenceClassification\n",
    "\n",
    "tokenizer = DistilBertTokenizer.from_pretrained('distilbert-base-uncased')\n",
    "model = DistilBertForSequenceClassification.from_pretrained('distilbert-base-uncased', num_labels=3).to(device)"
   ]
  },
  {
   "cell_type": "code",
   "execution_count": 76,
   "id": "a35ea982",
   "metadata": {},
   "outputs": [],
   "source": [
    "def make_batch_for_transformer(data, max_len=None, word_dropout=0, device=device):\n",
    "    batch = {}\n",
    "    encoding = tokenizer(list(data['clean_text'].values),\n",
    "                         padding=True,\n",
    "                         truncation=True,\n",
    "                         max_length=max_len,\n",
    "                         return_tensors='pt')\n",
    "\n",
    "    batch['input_ids'] = encoding['input_ids'].to(device)\n",
    "    batch['attention_mask'] = encoding['attention_mask'].to(device)\n",
    "    \n",
    "    if 'sentiment_id' in data.columns:\n",
    "        batch['sentiment'] = torch.tensor(data['sentiment_id'].values, device=device, dtype=torch.long)\n",
    "\n",
    "    return batch"
   ]
  },
  {
   "cell_type": "code",
   "execution_count": 77,
   "id": "e0f07e73",
   "metadata": {},
   "outputs": [],
   "source": [
    "def iterate_minibatches_transformer(data, batch_size=256, shuffle=True, cycle=False, device=device, **kwargs):\n",
    "    while True:\n",
    "        indices = np.arange(len(data))\n",
    "        if shuffle:\n",
    "            indices = np.random.permutation(indices)\n",
    "\n",
    "        for start in range(0, len(indices), batch_size):\n",
    "            batch = make_batch_for_transformer(data.iloc[indices[start : start + batch_size]], device=device, **kwargs)\n",
    "            yield batch\n",
    "        \n",
    "        if not cycle: break"
   ]
  },
  {
   "cell_type": "code",
   "execution_count": 78,
   "id": "1eb295da",
   "metadata": {},
   "outputs": [],
   "source": [
    "def evaluate_model_transformer(model, data_test, batch_size, criterion=None):\n",
    "    model.eval()\n",
    "    test_correct = 0\n",
    "    test_examples = 0\n",
    "    total_val_loss = 0\n",
    "    avg_val_loss = 0\n",
    "    with torch.no_grad():\n",
    "        for i, batch in tqdm(enumerate(iterate_minibatches_transformer(data_test, batch_size, device=device, shuffle=False)), total=len(data_test) // batch_size):\n",
    "            out_data = model(input_ids=batch['input_ids'], attention_mask=batch['attention_mask'], labels=batch['sentiment'])\n",
    "            logits = out_data.logits\n",
    "            targets = batch['sentiment']\n",
    "            if criterion:\n",
    "               loss = out_data.loss\n",
    "            predictions = torch.argmax(logits, dim=1)\n",
    "            test_correct += (predictions == targets).sum().item()\n",
    "            test_examples += targets.size(0)\n",
    "            if criterion:\n",
    "                total_val_loss += loss.item()\n",
    "    test_accuracy = test_correct / test_examples\n",
    "    if criterion:\n",
    "        avg_val_loss = total_val_loss / test_examples\n",
    "    return test_accuracy, avg_val_loss"
   ]
  },
  {
   "cell_type": "code",
   "execution_count": 79,
   "id": "13bd0bf4",
   "metadata": {},
   "outputs": [],
   "source": [
    "def train_model_transformer(epochs, model, scaler, criterion, optimizer, data_train, data_val, batch_size, scheduler=None, num_unfreeze=3):\n",
    "    #############################################################################\n",
    "    ### Returns last_accuracy, total_accuracy, total_loss, total_val_accuracy ###\n",
    "    #############################################################################\n",
    "    total_loss = list()\n",
    "    total_accuracy = list()\n",
    "    total_val_accuracy = list()\n",
    "    for epoch in range(epochs):\n",
    "        total_correct = 0\n",
    "        total_examples = 0\n",
    "        total_loss_epoch = 0\n",
    "        print(f\"epoch: \", {epoch})\n",
    "        model.train()\n",
    "        for i, batch in tqdm(enumerate(iterate_minibatches_transformer(data_train, batch_size, device=device)), total=len(data_train) // batch_size):\n",
    "            optimizer.zero_grad()\n",
    "            targets = batch['sentiment']\n",
    "            with autocast(device_type=device):\n",
    "                outputs = model(input_ids=batch['input_ids'], attention_mask=batch['attention_mask'], labels=batch['sentiment'])\n",
    "                loss = outputs.loss\n",
    "                logits = outputs.logits\n",
    "                scaler.scale(loss).backward()\n",
    "                scaler.step(optimizer)\n",
    "                scaler.update()\n",
    "            predictions = torch.argmax(logits, dim=1)\n",
    "            correct = (predictions == targets).sum().item()\n",
    "            total_loss_epoch += loss.item()\n",
    "            total_correct = total_correct + correct\n",
    "            total_examples += targets.size(0)\n",
    "\n",
    "        validation_accuracy, validation_loss = evaluate_model_transformer(model, data_val, batch_size, criterion)\n",
    "\n",
    "        epoch_loss = total_loss_epoch / total_examples\n",
    "        epoch_accuracy = total_correct / total_examples\n",
    "        total_loss.append(total_loss_epoch)\n",
    "        total_accuracy.append(epoch_accuracy)\n",
    "        total_val_accuracy.append(validation_accuracy)\n",
    "        if scheduler:\n",
    "            scheduler.step(validation_loss)\n",
    "        print(f\"Epoch {epoch + 1}: Loss = {epoch_loss:.4f}, Accuracy = {epoch_accuracy:.4f}, Val_accuracy = {validation_accuracy:.4f}, Val_loss = {validation_loss:.4f}\")\n",
    "    return epoch_accuracy, total_accuracy, total_loss, total_val_accuracy"
   ]
  },
  {
   "cell_type": "code",
   "execution_count": 80,
   "id": "c7d48f3a",
   "metadata": {},
   "outputs": [],
   "source": [
    "def encode_texts(texts, max_length=128):\n",
    "    return tokenizer(texts, padding=True, truncation=True, max_length=max_length, return_tensors='pt')"
   ]
  },
  {
   "cell_type": "code",
   "execution_count": 81,
   "id": "0bfdb6c8",
   "metadata": {},
   "outputs": [
    {
     "name": "stderr",
     "output_type": "stream",
     "text": [
      "c:\\Users\\Kolyamba\\AppData\\Local\\Programs\\Python\\Python310\\lib\\site-packages\\transformers\\optimization.py:591: FutureWarning: This implementation of AdamW is deprecated and will be removed in a future version. Use the PyTorch implementation torch.optim.AdamW instead, or set `no_deprecation_warning=True` to disable this warning\n",
      "  warnings.warn(\n"
     ]
    },
    {
     "name": "stdout",
     "output_type": "stream",
     "text": [
      "epoch:  {0}\n"
     ]
    },
    {
     "name": "stderr",
     "output_type": "stream",
     "text": [
      "328it [00:27, 11.82it/s]                         \n",
      "71it [00:06, 10.43it/s]                        \n"
     ]
    },
    {
     "name": "stdout",
     "output_type": "stream",
     "text": [
      "Epoch 1: Loss = 0.0064, Accuracy = 0.6213, Val_accuracy = 0.7188, Val_loss = 0.0053\n",
      "epoch:  {1}\n"
     ]
    },
    {
     "name": "stderr",
     "output_type": "stream",
     "text": [
      "328it [00:27, 11.96it/s]                         \n",
      "71it [00:06, 10.47it/s]                        \n"
     ]
    },
    {
     "name": "stdout",
     "output_type": "stream",
     "text": [
      "Epoch 2: Loss = 0.0050, Accuracy = 0.7292, Val_accuracy = 0.7375, Val_loss = 0.0049\n",
      "epoch:  {2}\n"
     ]
    },
    {
     "name": "stderr",
     "output_type": "stream",
     "text": [
      "328it [00:27, 11.94it/s]                         \n",
      "71it [00:06, 10.33it/s]                        \n"
     ]
    },
    {
     "name": "stdout",
     "output_type": "stream",
     "text": [
      "Epoch 3: Loss = 0.0047, Accuracy = 0.7480, Val_accuracy = 0.7525, Val_loss = 0.0048\n",
      "epoch:  {3}\n"
     ]
    },
    {
     "name": "stderr",
     "output_type": "stream",
     "text": [
      "328it [00:27, 12.01it/s]                         \n",
      "71it [00:06, 10.51it/s]                        \n"
     ]
    },
    {
     "name": "stdout",
     "output_type": "stream",
     "text": [
      "Epoch 4: Loss = 0.0045, Accuracy = 0.7596, Val_accuracy = 0.7605, Val_loss = 0.0046\n",
      "epoch:  {4}\n"
     ]
    },
    {
     "name": "stderr",
     "output_type": "stream",
     "text": [
      "328it [00:27, 11.98it/s]                         \n",
      "71it [00:06, 10.51it/s]                        \n"
     ]
    },
    {
     "name": "stdout",
     "output_type": "stream",
     "text": [
      "Epoch 5: Loss = 0.0044, Accuracy = 0.7716, Val_accuracy = 0.7664, Val_loss = 0.0046\n",
      "epoch:  {5}\n"
     ]
    },
    {
     "name": "stderr",
     "output_type": "stream",
     "text": [
      "328it [00:27, 11.99it/s]                         \n",
      "71it [00:06, 10.42it/s]                        \n"
     ]
    },
    {
     "name": "stdout",
     "output_type": "stream",
     "text": [
      "Epoch 6: Loss = 0.0043, Accuracy = 0.7776, Val_accuracy = 0.7694, Val_loss = 0.0045\n",
      "epoch:  {6}\n"
     ]
    },
    {
     "name": "stderr",
     "output_type": "stream",
     "text": [
      "328it [00:27, 12.02it/s]                         \n",
      "71it [00:06, 10.43it/s]                        \n"
     ]
    },
    {
     "name": "stdout",
     "output_type": "stream",
     "text": [
      "Epoch 7: Loss = 0.0042, Accuracy = 0.7830, Val_accuracy = 0.7695, Val_loss = 0.0045\n"
     ]
    },
    {
     "name": "stderr",
     "output_type": "stream",
     "text": [
      "71it [00:06, 10.36it/s]                        "
     ]
    },
    {
     "name": "stdout",
     "output_type": "stream",
     "text": [
      "--------------\n",
      "Test accuracy:  0.7672269843036847\n"
     ]
    },
    {
     "name": "stderr",
     "output_type": "stream",
     "text": [
      "\n"
     ]
    }
   ],
   "source": [
    "from transformers import AdamW\n",
    "criterion = nn.CrossEntropyLoss()\n",
    "optimizer = AdamW(model.parameters(), lr=1e-5, weight_decay=1e-2)\n",
    "scheduler = ReduceLROnPlateau(optimizer, 'max', 0.5, 2, verbose=True)\n",
    "\n",
    "epochs = 7\n",
    "batch_size = 64\n",
    "\n",
    "total_accuracy = list()\n",
    "total_loss = list()\n",
    "scaler = GradScaler()\n",
    "\n",
    "for param in model.distilbert.parameters():\n",
    "    param.requires_grad = False\n",
    "\n",
    "for layer in model.distilbert.transformer.layer[-2:]:\n",
    "    for param in layer.parameters():\n",
    "        param.requires_grad = True\n",
    "\n",
    "train_accuracy, total_accuracy, total_loss, total_val_accuracy = train_model_transformer(epochs=epochs, model=model, scaler=scaler, \n",
    "                                                         criterion=criterion, optimizer=optimizer,\n",
    "                                                           data_train=df_train, data_val=df_val, batch_size=128\n",
    "                                                           , scheduler=scheduler\n",
    "                                                           , num_unfreeze=6\n",
    "                                                           )\n",
    "\n",
    "test_accuracy, test_loss = evaluate_model_transformer(model, df_test, batch_size=128)\n",
    "print(\"--------------\")\n",
    "print(\"Test accuracy: \", test_accuracy)"
   ]
  },
  {
   "cell_type": "code",
   "execution_count": 82,
   "id": "db54258f",
   "metadata": {},
   "outputs": [
    {
     "data": {
      "image/png": "[encoded data removed]",
      "text/plain": [
       "<Figure size 1000x600 with 1 Axes>"
      ]
     },
     "metadata": {},
     "output_type": "display_data"
    }
   ],
   "source": [
    "epochs_range = range(1, epochs + 1)\n",
    "\n",
    "plt.figure(figsize=(10, 6))\n",
    "plt.plot(epochs_range, total_accuracy, label='Training Accuracy', marker='o')\n",
    "plt.plot(epochs_range, total_val_accuracy, label='Validation Accuracy', marker='o')\n",
    "\n",
    "plt.title('Accuracy over epochs')\n",
    "plt.xlabel('Epoch')\n",
    "plt.ylabel('Accuracy')\n",
    "plt.xticks(epochs_range)\n",
    "plt.ylim(0, 1)\n",
    "plt.legend()\n",
    "plt.grid(True)\n",
    "plt.tight_layout()\n",
    "plt.show()"
   ]
  },
  {
   "cell_type": "markdown",
   "id": "8d3f1aa3",
   "metadata": {},
   "source": [
    "And this is something that we might have expected - there is simply not enough data for the model to shine as we would think it would.\n",
    "\n",
    "We cannot really do much about it right now, as we do not have a team of people who would just label the data."
   ]
  },
  {
   "cell_type": "markdown",
   "id": "e33cc643",
   "metadata": {},
   "source": [
    "## Concluding the analysis."
   ]
  },
  {
   "cell_type": "markdown",
   "id": "544a4964",
   "metadata": {},
   "source": [
    "Awesome, we have reached the end of the analysis of neural networks for this specific task. Let's do the same thing we have done in the previous notebook - plot them on a graph and visualize the results!"
   ]
  },
  {
   "cell_type": "code",
   "execution_count": 83,
   "id": "5fb99993",
   "metadata": {},
   "outputs": [
    {
     "data": {
      "image/png": "[encoded data removed]",
      "text/plain": [
       "<Figure size 1200x700 with 1 Axes>"
      ]
     },
     "metadata": {},
     "output_type": "display_data"
    }
   ],
   "source": [
    "models = [\n",
    "    \"BoW + Naive Bayes\",\n",
    "    \"BoW + Logistic Regression\",\n",
    "    \"BoW + SGD\",\n",
    "    \"TF-IDF + Naive Bayes\",\n",
    "    \"TF-IDF + Logistic Regression\",\n",
    "    \"TF-IDF + SGD\",\n",
    "    \"1D CNN\",\n",
    "    \"LSTMs\",\n",
    "    \"GRUs\",\n",
    "    \"LSTM + CNN\",\n",
    "    \"DistilBERT fine-tuned\"\n",
    "]\n",
    "\n",
    "accuracies = [\n",
    "    0.7501948124234665,\n",
    "    0.800623399755093,\n",
    "    0.7471891350328398,\n",
    "    0.7192474674384949,\n",
    "    0.7525325615050651,\n",
    "    0.6891906935322275,\n",
    "    0.8476010241567405,\n",
    "    0.8073026828453745,\n",
    "    0.8548369141712123,\n",
    "    0.8302348881220082,\n",
    "    0.7648892352220862\n",
    "]\n",
    "\n",
    "plt.figure(figsize=(12, 7))\n",
    "bars = plt.barh(models, accuracies, color='skyblue')\n",
    "plt.xlabel('Accuracy')\n",
    "plt.title('Model accuracy comparison')\n",
    "plt.xlim(0.6, 0.9)\n",
    "\n",
    "for bar in bars:\n",
    "    width = bar.get_width()\n",
    "    plt.text(width + 0.005, bar.get_y() + bar.get_height()/2, f'{width:.3f}', va='center')\n",
    "\n",
    "plt.gca().invert_yaxis()\n",
    "plt.grid(axis='x', linestyle='--', alpha=0.7)\n",
    "plt.tight_layout()\n",
    "plt.show()"
   ]
  },
  {
   "cell_type": "markdown",
   "id": "b80ce19b",
   "metadata": {},
   "source": [
    "And our absolute winner is an RNN based on GRUs! Hooray!"
   ]
  },
  {
   "cell_type": "code",
   "execution_count": 84,
   "id": "363d9aa6",
   "metadata": {},
   "outputs": [
    {
     "name": "stderr",
     "output_type": "stream",
     "text": [
      "71it [00:00, 147.15it/s]                        "
     ]
    },
    {
     "name": "stdout",
     "output_type": "stream",
     "text": [
      "--------------\n",
      "Test accuracy:  0.86173884003117\n"
     ]
    },
    {
     "name": "stderr",
     "output_type": "stream",
     "text": [
      "\n"
     ]
    }
   ],
   "source": [
    "test_accuracy, test_loss = evaluate_model(modelGRU, df_test, batch_size=128)\n",
    "print(\"--------------\")\n",
    "print(\"Test accuracy: \", test_accuracy)"
   ]
  },
  {
   "cell_type": "code",
   "execution_count": 86,
   "id": "06b2ad6a",
   "metadata": {},
   "outputs": [],
   "source": [
    "torch.save(modelGRU.state_dict(), \"sentiment_classifier_gru.pth\")"
   ]
  },
  {
   "cell_type": "markdown",
   "id": "a8e40665",
   "metadata": {},
   "source": [
    "The model is saved and ready to work. Let's get to the third and final part!"
   ]
  }
 ],
 "metadata": {
  "kernelspec": {
   "display_name": "Python 3",
   "language": "python",
   "name": "python3"
  },
  "language_info": {
   "codemirror_mode": {
    "name": "ipython",
    "version": 3
   },
   "file_extension": ".py",
   "mimetype": "text/x-python",
   "name": "python",
   "nbconvert_exporter": "python",
   "pygments_lexer": "ipython3",
   "version": "3.10.6"
  }
 },
 "nbformat": 4,
 "nbformat_minor": 5
}
